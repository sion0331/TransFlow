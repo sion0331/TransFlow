{
 "cells": [
  {
   "cell_type": "code",
   "execution_count": 1,
   "id": "6a054448-6279-4b0e-839d-799b63878518",
   "metadata": {},
   "outputs": [],
   "source": [
    "import matplotlib.pyplot as plt\n",
    "import numpy as np\n",
    "import pandas as pd\n",
    "import tensorflow as tf\n",
    "import keras\n",
    "from keras.preprocessing import timeseries_dataset_from_array"
   ]
  },
  {
   "cell_type": "code",
   "execution_count": 2,
   "id": "2719580d-6975-4d17-979d-d311794cd958",
   "metadata": {},
   "outputs": [],
   "source": [
    "BTC_df = pd.read_csv(\"data/crypto/BTC_1min.csv\")"
   ]
  },
  {
   "cell_type": "code",
   "execution_count": 3,
   "id": "b431a5e6-c88e-44d6-b3f5-83fb05e46d3c",
   "metadata": {},
   "outputs": [
    {
     "name": "stdout",
     "output_type": "stream",
     "text": [
      "<class 'pandas.core.frame.DataFrame'>\n",
      "RangeIndex: 17113 entries, 0 to 17112\n",
      "Columns: 156 entries, Unnamed: 0 to asks_market_notional_14\n",
      "dtypes: float64(154), int64(1), object(1)\n",
      "memory usage: 20.4+ MB\n"
     ]
    },
    {
     "data": {
      "text/html": [
       "<div>\n",
       "<style scoped>\n",
       "    .dataframe tbody tr th:only-of-type {\n",
       "        vertical-align: middle;\n",
       "    }\n",
       "\n",
       "    .dataframe tbody tr th {\n",
       "        vertical-align: top;\n",
       "    }\n",
       "\n",
       "    .dataframe thead th {\n",
       "        text-align: right;\n",
       "    }\n",
       "</style>\n",
       "<table border=\"1\" class=\"dataframe\">\n",
       "  <thead>\n",
       "    <tr style=\"text-align: right;\">\n",
       "      <th></th>\n",
       "      <th>Unnamed: 0</th>\n",
       "      <th>system_time</th>\n",
       "      <th>midpoint</th>\n",
       "      <th>spread</th>\n",
       "      <th>buys</th>\n",
       "      <th>sells</th>\n",
       "      <th>bids_distance_0</th>\n",
       "      <th>bids_distance_1</th>\n",
       "      <th>bids_distance_2</th>\n",
       "      <th>bids_distance_3</th>\n",
       "      <th>...</th>\n",
       "      <th>asks_market_notional_5</th>\n",
       "      <th>asks_market_notional_6</th>\n",
       "      <th>asks_market_notional_7</th>\n",
       "      <th>asks_market_notional_8</th>\n",
       "      <th>asks_market_notional_9</th>\n",
       "      <th>asks_market_notional_10</th>\n",
       "      <th>asks_market_notional_11</th>\n",
       "      <th>asks_market_notional_12</th>\n",
       "      <th>asks_market_notional_13</th>\n",
       "      <th>asks_market_notional_14</th>\n",
       "    </tr>\n",
       "  </thead>\n",
       "  <tbody>\n",
       "    <tr>\n",
       "      <th>0</th>\n",
       "      <td>0</td>\n",
       "      <td>2021-04-07 11:33:41.122161+00:00</td>\n",
       "      <td>55896.285</td>\n",
       "      <td>0.01</td>\n",
       "      <td>4.448599e+06</td>\n",
       "      <td>3.899402e+06</td>\n",
       "      <td>-8.945138e-08</td>\n",
       "      <td>-0.000065</td>\n",
       "      <td>-0.000073</td>\n",
       "      <td>-0.000154</td>\n",
       "      <td>...</td>\n",
       "      <td>0.0</td>\n",
       "      <td>0.000000</td>\n",
       "      <td>0.0</td>\n",
       "      <td>0.0</td>\n",
       "      <td>0.0</td>\n",
       "      <td>0.0</td>\n",
       "      <td>0.0</td>\n",
       "      <td>0.0</td>\n",
       "      <td>1176.72998</td>\n",
       "      <td>0.0</td>\n",
       "    </tr>\n",
       "    <tr>\n",
       "      <th>1</th>\n",
       "      <td>1</td>\n",
       "      <td>2021-04-07 11:34:41.122161+00:00</td>\n",
       "      <td>55948.685</td>\n",
       "      <td>1.43</td>\n",
       "      <td>1.243244e+06</td>\n",
       "      <td>3.606502e+06</td>\n",
       "      <td>-1.277957e-05</td>\n",
       "      <td>-0.000013</td>\n",
       "      <td>-0.000242</td>\n",
       "      <td>-0.000242</td>\n",
       "      <td>...</td>\n",
       "      <td>0.0</td>\n",
       "      <td>0.000000</td>\n",
       "      <td>0.0</td>\n",
       "      <td>0.0</td>\n",
       "      <td>0.0</td>\n",
       "      <td>0.0</td>\n",
       "      <td>0.0</td>\n",
       "      <td>0.0</td>\n",
       "      <td>0.00000</td>\n",
       "      <td>0.0</td>\n",
       "    </tr>\n",
       "    <tr>\n",
       "      <th>2</th>\n",
       "      <td>2</td>\n",
       "      <td>2021-04-07 11:35:41.122161+00:00</td>\n",
       "      <td>56013.785</td>\n",
       "      <td>0.01</td>\n",
       "      <td>3.069094e+06</td>\n",
       "      <td>1.575759e+06</td>\n",
       "      <td>-8.926374e-08</td>\n",
       "      <td>-0.000009</td>\n",
       "      <td>-0.000070</td>\n",
       "      <td>-0.000088</td>\n",
       "      <td>...</td>\n",
       "      <td>0.0</td>\n",
       "      <td>0.000000</td>\n",
       "      <td>0.0</td>\n",
       "      <td>0.0</td>\n",
       "      <td>0.0</td>\n",
       "      <td>0.0</td>\n",
       "      <td>0.0</td>\n",
       "      <td>0.0</td>\n",
       "      <td>0.00000</td>\n",
       "      <td>0.0</td>\n",
       "    </tr>\n",
       "    <tr>\n",
       "      <th>3</th>\n",
       "      <td>3</td>\n",
       "      <td>2021-04-07 11:36:41.122161+00:00</td>\n",
       "      <td>55903.575</td>\n",
       "      <td>7.17</td>\n",
       "      <td>1.220819e+06</td>\n",
       "      <td>1.321487e+06</td>\n",
       "      <td>-6.412827e-05</td>\n",
       "      <td>-0.000182</td>\n",
       "      <td>-0.000188</td>\n",
       "      <td>-0.000225</td>\n",
       "      <td>...</td>\n",
       "      <td>0.0</td>\n",
       "      <td>312.040009</td>\n",
       "      <td>0.0</td>\n",
       "      <td>0.0</td>\n",
       "      <td>0.0</td>\n",
       "      <td>0.0</td>\n",
       "      <td>0.0</td>\n",
       "      <td>0.0</td>\n",
       "      <td>0.00000</td>\n",
       "      <td>0.0</td>\n",
       "    </tr>\n",
       "    <tr>\n",
       "      <th>4</th>\n",
       "      <td>4</td>\n",
       "      <td>2021-04-07 11:37:41.122161+00:00</td>\n",
       "      <td>55899.995</td>\n",
       "      <td>0.01</td>\n",
       "      <td>2.011287e+06</td>\n",
       "      <td>3.083005e+06</td>\n",
       "      <td>-8.944544e-08</td>\n",
       "      <td>-0.000129</td>\n",
       "      <td>-0.000130</td>\n",
       "      <td>-0.000143</td>\n",
       "      <td>...</td>\n",
       "      <td>0.0</td>\n",
       "      <td>0.000000</td>\n",
       "      <td>0.0</td>\n",
       "      <td>0.0</td>\n",
       "      <td>0.0</td>\n",
       "      <td>0.0</td>\n",
       "      <td>0.0</td>\n",
       "      <td>0.0</td>\n",
       "      <td>0.00000</td>\n",
       "      <td>0.0</td>\n",
       "    </tr>\n",
       "  </tbody>\n",
       "</table>\n",
       "<p>5 rows × 156 columns</p>\n",
       "</div>"
      ],
      "text/plain": [
       "   Unnamed: 0                       system_time   midpoint  spread  \\\n",
       "0           0  2021-04-07 11:33:41.122161+00:00  55896.285    0.01   \n",
       "1           1  2021-04-07 11:34:41.122161+00:00  55948.685    1.43   \n",
       "2           2  2021-04-07 11:35:41.122161+00:00  56013.785    0.01   \n",
       "3           3  2021-04-07 11:36:41.122161+00:00  55903.575    7.17   \n",
       "4           4  2021-04-07 11:37:41.122161+00:00  55899.995    0.01   \n",
       "\n",
       "           buys         sells  bids_distance_0  bids_distance_1  \\\n",
       "0  4.448599e+06  3.899402e+06    -8.945138e-08        -0.000065   \n",
       "1  1.243244e+06  3.606502e+06    -1.277957e-05        -0.000013   \n",
       "2  3.069094e+06  1.575759e+06    -8.926374e-08        -0.000009   \n",
       "3  1.220819e+06  1.321487e+06    -6.412827e-05        -0.000182   \n",
       "4  2.011287e+06  3.083005e+06    -8.944544e-08        -0.000129   \n",
       "\n",
       "   bids_distance_2  bids_distance_3  ...  asks_market_notional_5  \\\n",
       "0        -0.000073        -0.000154  ...                     0.0   \n",
       "1        -0.000242        -0.000242  ...                     0.0   \n",
       "2        -0.000070        -0.000088  ...                     0.0   \n",
       "3        -0.000188        -0.000225  ...                     0.0   \n",
       "4        -0.000130        -0.000143  ...                     0.0   \n",
       "\n",
       "   asks_market_notional_6  asks_market_notional_7  asks_market_notional_8  \\\n",
       "0                0.000000                     0.0                     0.0   \n",
       "1                0.000000                     0.0                     0.0   \n",
       "2                0.000000                     0.0                     0.0   \n",
       "3              312.040009                     0.0                     0.0   \n",
       "4                0.000000                     0.0                     0.0   \n",
       "\n",
       "   asks_market_notional_9  asks_market_notional_10  asks_market_notional_11  \\\n",
       "0                     0.0                      0.0                      0.0   \n",
       "1                     0.0                      0.0                      0.0   \n",
       "2                     0.0                      0.0                      0.0   \n",
       "3                     0.0                      0.0                      0.0   \n",
       "4                     0.0                      0.0                      0.0   \n",
       "\n",
       "   asks_market_notional_12  asks_market_notional_13  asks_market_notional_14  \n",
       "0                      0.0               1176.72998                      0.0  \n",
       "1                      0.0                  0.00000                      0.0  \n",
       "2                      0.0                  0.00000                      0.0  \n",
       "3                      0.0                  0.00000                      0.0  \n",
       "4                      0.0                  0.00000                      0.0  \n",
       "\n",
       "[5 rows x 156 columns]"
      ]
     },
     "execution_count": 3,
     "metadata": {},
     "output_type": "execute_result"
    }
   ],
   "source": [
    "BTC_df.info()\n",
    "BTC_df.head()"
   ]
  },
  {
   "cell_type": "code",
   "execution_count": 4,
   "id": "56044782-f022-4c1d-99e3-fb1dd8cd8563",
   "metadata": {},
   "outputs": [
    {
     "data": {
      "text/plain": [
       "(17113, 156)"
      ]
     },
     "execution_count": 4,
     "metadata": {},
     "output_type": "execute_result"
    }
   ],
   "source": [
    "BTC_df.shape"
   ]
  },
  {
   "cell_type": "code",
   "execution_count": 5,
   "id": "44c94c57-c71b-48f9-a418-f5ac06b7b86f",
   "metadata": {},
   "outputs": [],
   "source": [
    "BTC_df.drop(\"Unnamed: 0\", inplace = True, axis = 1)\n",
    "BTC_df.drop(\"system_time\", inplace = True, axis = 1)"
   ]
  },
  {
   "cell_type": "code",
   "execution_count": 6,
   "id": "720cfbcf-d30f-4f0d-8913-41da81100b9a",
   "metadata": {},
   "outputs": [
    {
     "data": {
      "text/plain": [
       "13690"
      ]
     },
     "execution_count": 6,
     "metadata": {},
     "output_type": "execute_result"
    }
   ],
   "source": [
    "data_length = BTC_df.shape[0]\n",
    "\n",
    "train_length = round(0.8*data_length)\n",
    "train_length"
   ]
  },
  {
   "cell_type": "code",
   "execution_count": 7,
   "id": "c8add27c-0b45-49af-8385-1b13d43db2c6",
   "metadata": {},
   "outputs": [],
   "source": [
    "mean_df = BTC_df[:train_length].mean()\n",
    "std_df = BTC_df[:train_length].std()\n",
    "\n",
    "normalized_df = (BTC_df - mean_df) / std_df"
   ]
  },
  {
   "cell_type": "code",
   "execution_count": 8,
   "id": "30a5cc79-ab98-44ae-b0dd-27fc8d2182f7",
   "metadata": {},
   "outputs": [],
   "source": [
    "# Set window size\n",
    "window_size = 30\n",
    "\n",
    "# Windows for training dataset\n",
    "windows_train = timeseries_dataset_from_array(normalized_df[:(train_length)], normalized_df[\"midpoint\"][window_size:(train_length+window_size)], window_size, sequence_stride=1, sampling_rate=1,\n",
    "    batch_size=64, shuffle=False, seed=None, start_index=None, end_index=None\n",
    ")\n",
    "\n",
    "\n",
    "# Windows for test dataset\n",
    "windows_test = timeseries_dataset_from_array(normalized_df[train_length:(data_length-window_size)], normalized_df[\"midpoint\"][train_length + window_size:], 30, sequence_stride=1, sampling_rate=1,\n",
    "    batch_size=64, shuffle=False, seed=None, start_index=None, end_index=None\n",
    ")"
   ]
  },
  {
   "cell_type": "code",
   "execution_count": 12,
   "id": "73ed122d-cfd1-49b2-b7e8-0e3820b175b8",
   "metadata": {},
   "outputs": [
    {
     "name": "stdout",
     "output_type": "stream",
     "text": [
      "(TensorSpec(shape=(None, None, 154), dtype=tf.float64, name=None), TensorSpec(shape=(None,), dtype=tf.float64, name=None))\n",
      "(TensorSpec(shape=(None, None, 154), dtype=tf.float64, name=None), TensorSpec(shape=(None,), dtype=tf.float64, name=None))\n",
      "Input shape: (64, 30, 154)\n",
      "Target shape: (64,)\n"
     ]
    },
    {
     "name": "stderr",
     "output_type": "stream",
     "text": [
      "2025-03-24 10:58:25.993531: I tensorflow/core/framework/local_rendezvous.cc:405] Local rendezvous is aborting with status: OUT_OF_RANGE: End of sequence\n"
     ]
    }
   ],
   "source": [
    "print(windows_train.element_spec)\n",
    "print(windows_test.element_spec)\n",
    "\n",
    "for x_batch, y_batch in windows_train.take(1):\n",
    "    print(\"Input shape:\", x_batch.shape)\n",
    "    print(\"Target shape:\", y_batch.shape)"
   ]
  },
  {
   "cell_type": "code",
   "execution_count": 15,
   "id": "705ea4da-ffb6-47c2-b44d-8d752b48dc48",
   "metadata": {},
   "outputs": [
    {
     "ename": "SyntaxError",
     "evalue": "positional argument follows keyword argument (3227378884.py, line 1)",
     "output_type": "error",
     "traceback": [
      "\u001b[0;36m  Cell \u001b[0;32mIn[15], line 1\u001b[0;36m\u001b[0m\n\u001b[0;31m    TensorSpec(shape=(None, None, 154), dtype=tf.float64, ...)\u001b[0m\n\u001b[0m                                                             ^\u001b[0m\n\u001b[0;31mSyntaxError\u001b[0m\u001b[0;31m:\u001b[0m positional argument follows keyword argument\n"
     ]
    }
   ],
   "source": [
    "TensorSpec(shape=(None, None, 154), dtype=tf.float64, ...)"
   ]
  },
  {
   "cell_type": "code",
   "execution_count": 14,
   "id": "c63abcb0-3fde-4e2f-8555-b5724564e556",
   "metadata": {},
   "outputs": [
    {
     "name": "stdout",
     "output_type": "stream",
     "text": [
      "Epoch 1/10\n"
     ]
    },
    {
     "name": "stderr",
     "output_type": "stream",
     "text": [
      "2025-03-24 11:01:02.287973: W tensorflow/core/framework/op_kernel.cc:1841] OP_REQUIRES failed at reshape_op.h:65 : INVALID_ARGUMENT: Only one input size may be -1, not both 0 and 1\n"
     ]
    },
    {
     "ename": "InvalidArgumentError",
     "evalue": "Graph execution error:\n\nDetected at node sequential_1_1/flatten_1_1/Reshape defined at (most recent call last):\n  File \"/Library/Frameworks/Python.framework/Versions/3.12/lib/python3.12/runpy.py\", line 198, in _run_module_as_main\n\n  File \"/Library/Frameworks/Python.framework/Versions/3.12/lib/python3.12/runpy.py\", line 88, in _run_code\n\n  File \"/Users/sion/venvs/venv312/lib/python3.12/site-packages/ipykernel_launcher.py\", line 18, in <module>\n\n  File \"/Users/sion/venvs/venv312/lib/python3.12/site-packages/traitlets/config/application.py\", line 1075, in launch_instance\n\n  File \"/Users/sion/venvs/venv312/lib/python3.12/site-packages/ipykernel/kernelapp.py\", line 739, in start\n\n  File \"/Users/sion/venvs/venv312/lib/python3.12/site-packages/tornado/platform/asyncio.py\", line 205, in start\n\n  File \"/Library/Frameworks/Python.framework/Versions/3.12/lib/python3.12/asyncio/base_events.py\", line 641, in run_forever\n\n  File \"/Library/Frameworks/Python.framework/Versions/3.12/lib/python3.12/asyncio/base_events.py\", line 1986, in _run_once\n\n  File \"/Library/Frameworks/Python.framework/Versions/3.12/lib/python3.12/asyncio/events.py\", line 88, in _run\n\n  File \"/Users/sion/venvs/venv312/lib/python3.12/site-packages/ipykernel/kernelbase.py\", line 545, in dispatch_queue\n\n  File \"/Users/sion/venvs/venv312/lib/python3.12/site-packages/ipykernel/kernelbase.py\", line 534, in process_one\n\n  File \"/Users/sion/venvs/venv312/lib/python3.12/site-packages/ipykernel/kernelbase.py\", line 437, in dispatch_shell\n\n  File \"/Users/sion/venvs/venv312/lib/python3.12/site-packages/ipykernel/ipkernel.py\", line 362, in execute_request\n\n  File \"/Users/sion/venvs/venv312/lib/python3.12/site-packages/ipykernel/kernelbase.py\", line 778, in execute_request\n\n  File \"/Users/sion/venvs/venv312/lib/python3.12/site-packages/ipykernel/ipkernel.py\", line 449, in do_execute\n\n  File \"/Users/sion/venvs/venv312/lib/python3.12/site-packages/ipykernel/zmqshell.py\", line 549, in run_cell\n\n  File \"/Users/sion/venvs/venv312/lib/python3.12/site-packages/IPython/core/interactiveshell.py\", line 3075, in run_cell\n\n  File \"/Users/sion/venvs/venv312/lib/python3.12/site-packages/IPython/core/interactiveshell.py\", line 3130, in _run_cell\n\n  File \"/Users/sion/venvs/venv312/lib/python3.12/site-packages/IPython/core/async_helpers.py\", line 128, in _pseudo_sync_runner\n\n  File \"/Users/sion/venvs/venv312/lib/python3.12/site-packages/IPython/core/interactiveshell.py\", line 3334, in run_cell_async\n\n  File \"/Users/sion/venvs/venv312/lib/python3.12/site-packages/IPython/core/interactiveshell.py\", line 3517, in run_ast_nodes\n\n  File \"/Users/sion/venvs/venv312/lib/python3.12/site-packages/IPython/core/interactiveshell.py\", line 3577, in run_code\n\n  File \"/var/folders/pt/ft5qbycn3wq5lgtwl6kp5qbh0000gn/T/ipykernel_51841/3542391557.py\", line 9, in <module>\n\n  File \"/Users/sion/venvs/venv312/lib/python3.12/site-packages/keras/src/utils/traceback_utils.py\", line 117, in error_handler\n\n  File \"/Users/sion/venvs/venv312/lib/python3.12/site-packages/keras/src/backend/tensorflow/trainer.py\", line 368, in fit\n\n  File \"/Users/sion/venvs/venv312/lib/python3.12/site-packages/keras/src/backend/tensorflow/trainer.py\", line 216, in function\n\n  File \"/Users/sion/venvs/venv312/lib/python3.12/site-packages/keras/src/backend/tensorflow/trainer.py\", line 129, in multi_step_on_iterator\n\n  File \"/Users/sion/venvs/venv312/lib/python3.12/site-packages/keras/src/backend/tensorflow/trainer.py\", line 110, in one_step_on_data\n\n  File \"/Users/sion/venvs/venv312/lib/python3.12/site-packages/keras/src/backend/tensorflow/trainer.py\", line 56, in train_step\n\n  File \"/Users/sion/venvs/venv312/lib/python3.12/site-packages/keras/src/utils/traceback_utils.py\", line 117, in error_handler\n\n  File \"/Users/sion/venvs/venv312/lib/python3.12/site-packages/keras/src/layers/layer.py\", line 899, in __call__\n\n  File \"/Users/sion/venvs/venv312/lib/python3.12/site-packages/keras/src/utils/traceback_utils.py\", line 117, in error_handler\n\n  File \"/Users/sion/venvs/venv312/lib/python3.12/site-packages/keras/src/ops/operation.py\", line 46, in __call__\n\n  File \"/Users/sion/venvs/venv312/lib/python3.12/site-packages/keras/src/utils/traceback_utils.py\", line 156, in error_handler\n\n  File \"/Users/sion/venvs/venv312/lib/python3.12/site-packages/keras/src/models/sequential.py\", line 213, in call\n\n  File \"/Users/sion/venvs/venv312/lib/python3.12/site-packages/keras/src/models/functional.py\", line 182, in call\n\n  File \"/Users/sion/venvs/venv312/lib/python3.12/site-packages/keras/src/ops/function.py\", line 171, in _run_through_graph\n\n  File \"/Users/sion/venvs/venv312/lib/python3.12/site-packages/keras/src/models/functional.py\", line 632, in call\n\n  File \"/Users/sion/venvs/venv312/lib/python3.12/site-packages/keras/src/utils/traceback_utils.py\", line 117, in error_handler\n\n  File \"/Users/sion/venvs/venv312/lib/python3.12/site-packages/keras/src/layers/layer.py\", line 899, in __call__\n\n  File \"/Users/sion/venvs/venv312/lib/python3.12/site-packages/keras/src/utils/traceback_utils.py\", line 117, in error_handler\n\n  File \"/Users/sion/venvs/venv312/lib/python3.12/site-packages/keras/src/ops/operation.py\", line 46, in __call__\n\n  File \"/Users/sion/venvs/venv312/lib/python3.12/site-packages/keras/src/utils/traceback_utils.py\", line 156, in error_handler\n\n  File \"/Users/sion/venvs/venv312/lib/python3.12/site-packages/keras/src/layers/reshaping/flatten.py\", line 54, in call\n\n  File \"/Users/sion/venvs/venv312/lib/python3.12/site-packages/keras/src/ops/numpy.py\", line 4761, in reshape\n\n  File \"/Users/sion/venvs/venv312/lib/python3.12/site-packages/keras/src/backend/tensorflow/numpy.py\", line 1885, in reshape\n\nOnly one input size may be -1, not both 0 and 1\n\t [[{{node sequential_1_1/flatten_1_1/Reshape}}]] [Op:__inference_multi_step_on_iterator_2127]",
     "output_type": "error",
     "traceback": [
      "\u001b[0;31m---------------------------------------------------------------------------\u001b[0m",
      "\u001b[0;31mInvalidArgumentError\u001b[0m                      Traceback (most recent call last)",
      "Cell \u001b[0;32mIn[14], line 9\u001b[0m\n\u001b[1;32m      1\u001b[0m model_dense \u001b[38;5;241m=\u001b[39m keras\u001b[38;5;241m.\u001b[39mmodels\u001b[38;5;241m.\u001b[39mSequential([\n\u001b[1;32m      2\u001b[0m     keras\u001b[38;5;241m.\u001b[39mlayers\u001b[38;5;241m.\u001b[39mInput(shape\u001b[38;5;241m=\u001b[39m(\u001b[38;5;241m30\u001b[39m, \u001b[38;5;241m154\u001b[39m)),  \u001b[38;5;66;03m# Explicit input layer\u001b[39;00m\n\u001b[1;32m      3\u001b[0m     keras\u001b[38;5;241m.\u001b[39mlayers\u001b[38;5;241m.\u001b[39mFlatten(),\n\u001b[1;32m      4\u001b[0m     keras\u001b[38;5;241m.\u001b[39mlayers\u001b[38;5;241m.\u001b[39mDense(\u001b[38;5;241m16\u001b[39m, activation\u001b[38;5;241m=\u001b[39m\u001b[38;5;124m\"\u001b[39m\u001b[38;5;124mrelu\u001b[39m\u001b[38;5;124m\"\u001b[39m),\n\u001b[1;32m      5\u001b[0m     keras\u001b[38;5;241m.\u001b[39mlayers\u001b[38;5;241m.\u001b[39mDense(\u001b[38;5;241m1\u001b[39m)\n\u001b[1;32m      6\u001b[0m ])\n\u001b[1;32m      8\u001b[0m model_dense\u001b[38;5;241m.\u001b[39mcompile(loss\u001b[38;5;241m=\u001b[39m\u001b[38;5;124m\"\u001b[39m\u001b[38;5;124mmse\u001b[39m\u001b[38;5;124m\"\u001b[39m, optimizer\u001b[38;5;241m=\u001b[39m\u001b[38;5;124m\"\u001b[39m\u001b[38;5;124madam\u001b[39m\u001b[38;5;124m\"\u001b[39m, metrics\u001b[38;5;241m=\u001b[39m[\u001b[38;5;124m\"\u001b[39m\u001b[38;5;124mmse\u001b[39m\u001b[38;5;124m\"\u001b[39m])\n\u001b[0;32m----> 9\u001b[0m history \u001b[38;5;241m=\u001b[39m \u001b[43mmodel_dense\u001b[49m\u001b[38;5;241;43m.\u001b[39;49m\u001b[43mfit\u001b[49m\u001b[43m(\u001b[49m\u001b[43mwindows_train\u001b[49m\u001b[43m,\u001b[49m\u001b[43m \u001b[49m\u001b[43mepochs\u001b[49m\u001b[38;5;241;43m=\u001b[39;49m\u001b[38;5;241;43m10\u001b[39;49m\u001b[43m,\u001b[49m\u001b[43mverbose\u001b[49m\u001b[38;5;241;43m=\u001b[39;49m\u001b[38;5;241;43m1\u001b[39;49m\u001b[43m)\u001b[49m\n",
      "File \u001b[0;32m~/venvs/venv312/lib/python3.12/site-packages/keras/src/utils/traceback_utils.py:122\u001b[0m, in \u001b[0;36mfilter_traceback.<locals>.error_handler\u001b[0;34m(*args, **kwargs)\u001b[0m\n\u001b[1;32m    119\u001b[0m     filtered_tb \u001b[38;5;241m=\u001b[39m _process_traceback_frames(e\u001b[38;5;241m.\u001b[39m__traceback__)\n\u001b[1;32m    120\u001b[0m     \u001b[38;5;66;03m# To get the full stack trace, call:\u001b[39;00m\n\u001b[1;32m    121\u001b[0m     \u001b[38;5;66;03m# `keras.config.disable_traceback_filtering()`\u001b[39;00m\n\u001b[0;32m--> 122\u001b[0m     \u001b[38;5;28;01mraise\u001b[39;00m e\u001b[38;5;241m.\u001b[39mwith_traceback(filtered_tb) \u001b[38;5;28;01mfrom\u001b[39;00m \u001b[38;5;28;01mNone\u001b[39;00m\n\u001b[1;32m    123\u001b[0m \u001b[38;5;28;01mfinally\u001b[39;00m:\n\u001b[1;32m    124\u001b[0m     \u001b[38;5;28;01mdel\u001b[39;00m filtered_tb\n",
      "File \u001b[0;32m~/venvs/venv312/lib/python3.12/site-packages/tensorflow/python/eager/execute.py:53\u001b[0m, in \u001b[0;36mquick_execute\u001b[0;34m(op_name, num_outputs, inputs, attrs, ctx, name)\u001b[0m\n\u001b[1;32m     51\u001b[0m \u001b[38;5;28;01mtry\u001b[39;00m:\n\u001b[1;32m     52\u001b[0m   ctx\u001b[38;5;241m.\u001b[39mensure_initialized()\n\u001b[0;32m---> 53\u001b[0m   tensors \u001b[38;5;241m=\u001b[39m pywrap_tfe\u001b[38;5;241m.\u001b[39mTFE_Py_Execute(ctx\u001b[38;5;241m.\u001b[39m_handle, device_name, op_name,\n\u001b[1;32m     54\u001b[0m                                       inputs, attrs, num_outputs)\n\u001b[1;32m     55\u001b[0m \u001b[38;5;28;01mexcept\u001b[39;00m core\u001b[38;5;241m.\u001b[39m_NotOkStatusException \u001b[38;5;28;01mas\u001b[39;00m e:\n\u001b[1;32m     56\u001b[0m   \u001b[38;5;28;01mif\u001b[39;00m name \u001b[38;5;129;01mis\u001b[39;00m \u001b[38;5;129;01mnot\u001b[39;00m \u001b[38;5;28;01mNone\u001b[39;00m:\n",
      "\u001b[0;31mInvalidArgumentError\u001b[0m: Graph execution error:\n\nDetected at node sequential_1_1/flatten_1_1/Reshape defined at (most recent call last):\n  File \"/Library/Frameworks/Python.framework/Versions/3.12/lib/python3.12/runpy.py\", line 198, in _run_module_as_main\n\n  File \"/Library/Frameworks/Python.framework/Versions/3.12/lib/python3.12/runpy.py\", line 88, in _run_code\n\n  File \"/Users/sion/venvs/venv312/lib/python3.12/site-packages/ipykernel_launcher.py\", line 18, in <module>\n\n  File \"/Users/sion/venvs/venv312/lib/python3.12/site-packages/traitlets/config/application.py\", line 1075, in launch_instance\n\n  File \"/Users/sion/venvs/venv312/lib/python3.12/site-packages/ipykernel/kernelapp.py\", line 739, in start\n\n  File \"/Users/sion/venvs/venv312/lib/python3.12/site-packages/tornado/platform/asyncio.py\", line 205, in start\n\n  File \"/Library/Frameworks/Python.framework/Versions/3.12/lib/python3.12/asyncio/base_events.py\", line 641, in run_forever\n\n  File \"/Library/Frameworks/Python.framework/Versions/3.12/lib/python3.12/asyncio/base_events.py\", line 1986, in _run_once\n\n  File \"/Library/Frameworks/Python.framework/Versions/3.12/lib/python3.12/asyncio/events.py\", line 88, in _run\n\n  File \"/Users/sion/venvs/venv312/lib/python3.12/site-packages/ipykernel/kernelbase.py\", line 545, in dispatch_queue\n\n  File \"/Users/sion/venvs/venv312/lib/python3.12/site-packages/ipykernel/kernelbase.py\", line 534, in process_one\n\n  File \"/Users/sion/venvs/venv312/lib/python3.12/site-packages/ipykernel/kernelbase.py\", line 437, in dispatch_shell\n\n  File \"/Users/sion/venvs/venv312/lib/python3.12/site-packages/ipykernel/ipkernel.py\", line 362, in execute_request\n\n  File \"/Users/sion/venvs/venv312/lib/python3.12/site-packages/ipykernel/kernelbase.py\", line 778, in execute_request\n\n  File \"/Users/sion/venvs/venv312/lib/python3.12/site-packages/ipykernel/ipkernel.py\", line 449, in do_execute\n\n  File \"/Users/sion/venvs/venv312/lib/python3.12/site-packages/ipykernel/zmqshell.py\", line 549, in run_cell\n\n  File \"/Users/sion/venvs/venv312/lib/python3.12/site-packages/IPython/core/interactiveshell.py\", line 3075, in run_cell\n\n  File \"/Users/sion/venvs/venv312/lib/python3.12/site-packages/IPython/core/interactiveshell.py\", line 3130, in _run_cell\n\n  File \"/Users/sion/venvs/venv312/lib/python3.12/site-packages/IPython/core/async_helpers.py\", line 128, in _pseudo_sync_runner\n\n  File \"/Users/sion/venvs/venv312/lib/python3.12/site-packages/IPython/core/interactiveshell.py\", line 3334, in run_cell_async\n\n  File \"/Users/sion/venvs/venv312/lib/python3.12/site-packages/IPython/core/interactiveshell.py\", line 3517, in run_ast_nodes\n\n  File \"/Users/sion/venvs/venv312/lib/python3.12/site-packages/IPython/core/interactiveshell.py\", line 3577, in run_code\n\n  File \"/var/folders/pt/ft5qbycn3wq5lgtwl6kp5qbh0000gn/T/ipykernel_51841/3542391557.py\", line 9, in <module>\n\n  File \"/Users/sion/venvs/venv312/lib/python3.12/site-packages/keras/src/utils/traceback_utils.py\", line 117, in error_handler\n\n  File \"/Users/sion/venvs/venv312/lib/python3.12/site-packages/keras/src/backend/tensorflow/trainer.py\", line 368, in fit\n\n  File \"/Users/sion/venvs/venv312/lib/python3.12/site-packages/keras/src/backend/tensorflow/trainer.py\", line 216, in function\n\n  File \"/Users/sion/venvs/venv312/lib/python3.12/site-packages/keras/src/backend/tensorflow/trainer.py\", line 129, in multi_step_on_iterator\n\n  File \"/Users/sion/venvs/venv312/lib/python3.12/site-packages/keras/src/backend/tensorflow/trainer.py\", line 110, in one_step_on_data\n\n  File \"/Users/sion/venvs/venv312/lib/python3.12/site-packages/keras/src/backend/tensorflow/trainer.py\", line 56, in train_step\n\n  File \"/Users/sion/venvs/venv312/lib/python3.12/site-packages/keras/src/utils/traceback_utils.py\", line 117, in error_handler\n\n  File \"/Users/sion/venvs/venv312/lib/python3.12/site-packages/keras/src/layers/layer.py\", line 899, in __call__\n\n  File \"/Users/sion/venvs/venv312/lib/python3.12/site-packages/keras/src/utils/traceback_utils.py\", line 117, in error_handler\n\n  File \"/Users/sion/venvs/venv312/lib/python3.12/site-packages/keras/src/ops/operation.py\", line 46, in __call__\n\n  File \"/Users/sion/venvs/venv312/lib/python3.12/site-packages/keras/src/utils/traceback_utils.py\", line 156, in error_handler\n\n  File \"/Users/sion/venvs/venv312/lib/python3.12/site-packages/keras/src/models/sequential.py\", line 213, in call\n\n  File \"/Users/sion/venvs/venv312/lib/python3.12/site-packages/keras/src/models/functional.py\", line 182, in call\n\n  File \"/Users/sion/venvs/venv312/lib/python3.12/site-packages/keras/src/ops/function.py\", line 171, in _run_through_graph\n\n  File \"/Users/sion/venvs/venv312/lib/python3.12/site-packages/keras/src/models/functional.py\", line 632, in call\n\n  File \"/Users/sion/venvs/venv312/lib/python3.12/site-packages/keras/src/utils/traceback_utils.py\", line 117, in error_handler\n\n  File \"/Users/sion/venvs/venv312/lib/python3.12/site-packages/keras/src/layers/layer.py\", line 899, in __call__\n\n  File \"/Users/sion/venvs/venv312/lib/python3.12/site-packages/keras/src/utils/traceback_utils.py\", line 117, in error_handler\n\n  File \"/Users/sion/venvs/venv312/lib/python3.12/site-packages/keras/src/ops/operation.py\", line 46, in __call__\n\n  File \"/Users/sion/venvs/venv312/lib/python3.12/site-packages/keras/src/utils/traceback_utils.py\", line 156, in error_handler\n\n  File \"/Users/sion/venvs/venv312/lib/python3.12/site-packages/keras/src/layers/reshaping/flatten.py\", line 54, in call\n\n  File \"/Users/sion/venvs/venv312/lib/python3.12/site-packages/keras/src/ops/numpy.py\", line 4761, in reshape\n\n  File \"/Users/sion/venvs/venv312/lib/python3.12/site-packages/keras/src/backend/tensorflow/numpy.py\", line 1885, in reshape\n\nOnly one input size may be -1, not both 0 and 1\n\t [[{{node sequential_1_1/flatten_1_1/Reshape}}]] [Op:__inference_multi_step_on_iterator_2127]"
     ]
    }
   ],
   "source": [
    "model_dense = keras.models.Sequential([\n",
    "    keras.layers.Input(shape=(30, 154)),  # Explicit input layer\n",
    "    keras.layers.Flatten(),\n",
    "    keras.layers.Dense(16, activation=\"relu\"),\n",
    "    keras.layers.Dense(1)\n",
    "])\n",
    "\n",
    "model_dense.compile(loss=\"mse\", optimizer=\"adam\", metrics=[\"mse\"])\n",
    "history = model_dense.fit(windows_train, epochs=10,verbose=1)"
   ]
  },
  {
   "cell_type": "code",
   "execution_count": null,
   "id": "087e4822-8e06-4a4b-b51f-631335047665",
   "metadata": {},
   "outputs": [],
   "source": []
  },
  {
   "cell_type": "code",
   "execution_count": null,
   "id": "48b11585-44f2-41a7-826a-8c10ae17208f",
   "metadata": {},
   "outputs": [],
   "source": [
    "column_names_2 = ['system_time',\n",
    " 'midpoint',\n",
    " 'spread',\n",
    " 'buys',\n",
    " 'sells',\n",
    " 'bids_distance_0',\n",
    " 'bids_notional_0',\n",
    "'asks_distance_0',\n",
    "'asks_notional_0',\n",
    "               ]\n",
    "\n",
    "df0= BTC_df[column_names_2]\n",
    "df0['BidPrice0'] = df0['midpoint']* (1+df0['bids_distance_0'])\n",
    "df0['AskPrice0'] = df0['midpoint'] *(1+df0['asks_distance_0'])\n",
    "hc2001_df_one = df0[['system_time',\n",
    " 'midpoint',\n",
    " 'spread',\n",
    " 'BidPrice0',\n",
    " 'AskPrice0',\n",
    " 'bids_notional_0',\n",
    "'asks_notional_0',]]\n",
    "hc2001_df_one.columns = ['time','mid_price','spread', 'BidPrice1', 'AskPrice1', 'BidVolume1', 'AskVolume1']\n",
    "hc2001_df_one"
   ]
  },
  {
   "cell_type": "code",
   "execution_count": null,
   "id": "53e1ee1b-b270-41eb-8819-987a0e3a15aa",
   "metadata": {},
   "outputs": [],
   "source": [
    "#Volume Order Imbalance \n",
    "df = pd.concat([hc2001_df_one['BidVolume1'], hc2001_df_one['BidVolume1'].shift(1).fillna(0), hc2001_df_one[\"dBid_price\"]], axis=1)\n",
    "df.columns = ['bv', 'sbv', 'dbp']\n",
    "df"
   ]
  }
 ],
 "metadata": {
  "kernelspec": {
   "display_name": "Python 3.12",
   "language": "python",
   "name": "venv312"
  },
  "language_info": {
   "codemirror_mode": {
    "name": "ipython",
    "version": 3
   },
   "file_extension": ".py",
   "mimetype": "text/x-python",
   "name": "python",
   "nbconvert_exporter": "python",
   "pygments_lexer": "ipython3",
   "version": "3.12.7"
  }
 },
 "nbformat": 4,
 "nbformat_minor": 5
}
