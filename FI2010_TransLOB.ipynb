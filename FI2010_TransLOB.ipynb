{
 "cells": [
  {
   "cell_type": "code",
   "execution_count": null,
   "id": "3620a87e-faee-4171-8308-9ec14a6d52dd",
   "metadata": {},
   "outputs": [],
   "source": [
    "# import os\n",
    "import torch\n",
    "import numpy as np\n",
    "# import pandas as pd\n",
    "import matplotlib.pyplot as plt\n",
    "\n",
    "from torch import nn\n",
    "from sklearn.metrics import confusion_matrix, ConfusionMatrixDisplay, accuracy_score, precision_score, recall_score, f1_score\n",
    "from torchinfo import summary\n",
    "from torch.utils.data import DataLoader\n",
    "\n",
    "from models.deepLOB.deepLOB_model import Deeplob\n",
    "from models.transLOB import TransLOB\n",
    "from utils.fi2010_loader import Dataset_fi2010\n",
    "from utils.training import train_validate\n",
    "from utils.evaluation import evaluate\n",
    "from utils.plots import plot_training_history, plot_label_distributions\n",
    "\n",
    "%load_ext autoreload\n",
    "%autoreload 2"
   ]
  },
  {
   "cell_type": "code",
   "execution_count": null,
   "id": "faaa7858-1f9e-4c5d-ae98-22d1c63fee42",
   "metadata": {},
   "outputs": [],
   "source": [
    "device = torch.device(\"cuda:0\" if torch.cuda.is_available() else \"cpu\")\n",
    "device"
   ]
  },
  {
   "cell_type": "code",
   "execution_count": null,
   "id": "4039c291-6882-403f-9b58-ce09df92f24f",
   "metadata": {},
   "outputs": [],
   "source": [
    "dataset_type='fi2010'\n",
    "normalization = 'Zscore'\n",
    "lighten = False # True\n",
    "feature_size = 40\n",
    "\n",
    "T = 100\n",
    "k = 4\n",
    "stock = [0, 1, 2, 3, 4]\n",
    "train_test_ratio = 0.75\n",
    "days = [1, 2, 3, 4, 5, 6, 7, 8, 9, 10]\n",
    "\n",
    "batch_size= 128\n",
    "num_workers= 4"
   ]
  },
  {
   "cell_type": "code",
   "execution_count": null,
   "id": "fffa5570-6e84-4698-a695-6e0c47b56cc9",
   "metadata": {},
   "outputs": [],
   "source": [
    "train_day_length = round(len(days) * train_test_ratio)\n",
    "train_days = days[:train_day_length]\n",
    "test_days = days[train_day_length:]\n",
    "\n",
    "dataset_train = Dataset_fi2010(auction, normalization, stock, train_days, T, k, lighten, \"deeplob\")\n",
    "dataset_val = Dataset_fi2010(auction, normalization, stock, test_days, T, k, lighten, \"deeplob\")\n",
    "\n",
    "print(f\"Training Data Size : {dataset_train.__len__()}\")\n",
    "print(f\"Validation Data Size : {dataset_val.__len__()}\")\n",
    "\n",
    "train_loader = DataLoader(dataset=dataset_train, batch_size=batch_size, shuffle=True, num_workers=num_workers)\n",
    "val_loader = DataLoader(dataset=dataset_val, batch_size=batch_size, shuffle=False, num_workers=num_workers)"
   ]
  },
  {
   "cell_type": "code",
   "execution_count": null,
   "id": "afd1b0d5-15a7-4a0e-bf89-e42a8f4d1eb8",
   "metadata": {},
   "outputs": [],
   "source": [
    "plot_label_distributions(dataset_train, dataset_val)"
   ]
  },
  {
   "cell_type": "markdown",
   "id": "2aa0ee94-4e58-43c5-9791-d65232a1d9d8",
   "metadata": {},
   "source": [
    "# DeepLOB"
   ]
  },
  {
   "cell_type": "code",
   "execution_count": null,
   "id": "09fe99c5-5210-4e30-939e-5a545416a898",
   "metadata": {
    "scrolled": true
   },
   "outputs": [],
   "source": [
    "model_deepLOB = Deeplob(lighten=lighten).to(device)\n",
    "summary(model, (1, 1, 100, feature_size))"
   ]
  },
  {
   "cell_type": "code",
   "execution_count": null,
   "id": "3683524d-5f16-4bf5-96f9-9efa15548ac7",
   "metadata": {},
   "outputs": [],
   "source": [
    "epochs = 10\n",
    "learning_rate = 1e-4\n",
    "\n",
    "criterion = nn.CrossEntropyLoss()\n",
    "optimizer = torch.optim.Adam(model_deepLOB.parameters(), lr=learning_rate)\n",
    "\n",
    "history = train_validate(model_deepLOB, train_loader, val_loader, optimizer, criterion, epochs, k, dataset_type, device)"
   ]
  },
  {
   "cell_type": "code",
   "execution_count": null,
   "id": "66a0de74-c418-4875-bf44-675d702f41ab",
   "metadata": {},
   "outputs": [],
   "source": [
    "plot_training_history(history)"
   ]
  },
  {
   "cell_type": "code",
   "execution_count": null,
   "id": "a2fea83e-a621-4818-87d6-e2d5523addca",
   "metadata": {},
   "outputs": [],
   "source": [
    "evaluate(model_deepLOB, val_loader, device)"
   ]
  },
  {
   "cell_type": "code",
   "execution_count": null,
   "id": "b7545b8d-9e1d-49b6-badf-3afff69abaee",
   "metadata": {},
   "outputs": [],
   "source": [
    "# from utils.fi2010_loader import __vis_sample_lob__\n",
    "# __vis_sample_lob__('DecPre')"
   ]
  },
  {
   "cell_type": "code",
   "execution_count": null,
   "id": "e65955b6-d8b6-483d-8f78-6b57ffc58e7f",
   "metadata": {},
   "outputs": [],
   "source": []
  },
  {
   "cell_type": "code",
   "execution_count": null,
   "id": "1bb99e49-b885-4b15-b363-69d710c31d17",
   "metadata": {},
   "outputs": [],
   "source": []
  },
  {
   "cell_type": "code",
   "execution_count": null,
   "id": "386417c7-a20c-4cd4-bdfd-51c6ce134d1c",
   "metadata": {},
   "outputs": [],
   "source": []
  },
  {
   "cell_type": "code",
   "execution_count": null,
   "id": "46e6f0da-75fa-4651-bf8b-0cb0dff5b765",
   "metadata": {},
   "outputs": [],
   "source": []
  },
  {
   "cell_type": "code",
   "execution_count": null,
   "id": "4653da45-27c6-4b72-b572-7ae95bb83e06",
   "metadata": {},
   "outputs": [],
   "source": []
  },
  {
   "cell_type": "markdown",
   "id": "4eb44f9a-e13b-4804-97fb-210b80f66c5e",
   "metadata": {},
   "source": [
    "# TransLOB"
   ]
  },
  {
   "cell_type": "code",
   "execution_count": null,
   "id": "c1b91ee2-c04d-4f42-942c-04fad2c5e2ea",
   "metadata": {},
   "outputs": [],
   "source": []
  },
  {
   "cell_type": "code",
   "execution_count": null,
   "id": "251ffaa9-2476-4905-8dc9-1f23e3408e5a",
   "metadata": {},
   "outputs": [],
   "source": [
    "model_transLOB = TransLOB(\n",
    "    num_features=feature_size,\n",
    "    num_classes=3,\n",
    "    hidden_channels=14,\n",
    "    d_model=64,\n",
    "    num_heads=4,\n",
    "    num_transformer_blocks=2\n",
    ").to(device)\n",
    "summary(model_transLOB, (1, 100, feature_size))"
   ]
  },
  {
   "cell_type": "code",
   "execution_count": null,
   "id": "170eeaef-5ee1-4903-bfa8-e50f930bceb2",
   "metadata": {},
   "outputs": [],
   "source": [
    "epochs = 10\n",
    "learning_rate= 1e-4\n",
    "ADAM_B1 = 0.9\n",
    "ADAM_B2 = 0.999\n",
    "WEIGHT_DECAY= 1e-5\n",
    "\n",
    "criterion = nn.CrossEntropyLoss()\n",
    "optimizer = torch.optim.Adam(model_transLOB.parameters(), lr=learning_rate, betas=(ADAM_B1, ADAM_B2), weight_decay=WEIGHT_DECAY)\n",
    "\n",
    "history = train_validate(model_transLOB, train_loader, val_loader, optimizer, criterion, epochs, k, dataset_type, device)"
   ]
  },
  {
   "cell_type": "code",
   "execution_count": null,
   "id": "270faff5-c6fa-45a6-8e83-7b4391a7c6af",
   "metadata": {},
   "outputs": [],
   "source": [
    "plot_training_history(history)"
   ]
  },
  {
   "cell_type": "code",
   "execution_count": null,
   "id": "186742bb-6dbf-4aca-a460-fb492f18844a",
   "metadata": {},
   "outputs": [],
   "source": [
    "evaluate(model_transLOB, val_loader, device)"
   ]
  },
  {
   "cell_type": "code",
   "execution_count": null,
   "id": "2a94ed52-af4d-465f-b866-62be6de07fc9",
   "metadata": {},
   "outputs": [],
   "source": []
  },
  {
   "cell_type": "code",
   "execution_count": null,
   "id": "028134a2-f051-457a-b511-85591e5f00d5",
   "metadata": {},
   "outputs": [],
   "source": []
  },
  {
   "cell_type": "code",
   "execution_count": null,
   "id": "096b419b-8a7e-4678-a27b-977c3c570ab5",
   "metadata": {},
   "outputs": [],
   "source": []
  },
  {
   "cell_type": "code",
   "execution_count": null,
   "id": "96b91e4a-223c-44a8-bbc1-76fd3e8058aa",
   "metadata": {},
   "outputs": [],
   "source": []
  },
  {
   "cell_type": "code",
   "execution_count": null,
   "id": "a108a128-680d-4998-80f9-21a2429df04b",
   "metadata": {},
   "outputs": [],
   "source": []
  },
  {
   "cell_type": "code",
   "execution_count": null,
   "id": "617b16b8-fb8e-4807-977a-6a8755bdfaec",
   "metadata": {},
   "outputs": [],
   "source": []
  },
  {
   "cell_type": "code",
   "execution_count": null,
   "id": "57384303-8515-4dba-ab58-b1b65328383a",
   "metadata": {},
   "outputs": [],
   "source": []
  },
  {
   "cell_type": "code",
   "execution_count": null,
   "id": "2af3d76b-e646-4ef2-bcd2-03d452d4099e",
   "metadata": {},
   "outputs": [],
   "source": []
  },
  {
   "cell_type": "code",
   "execution_count": null,
   "id": "683fd3cf-3a37-4ba7-bcc4-149cd44c1f66",
   "metadata": {},
   "outputs": [],
   "source": []
  },
  {
   "cell_type": "code",
   "execution_count": null,
   "id": "d699c015-fa75-4ed6-94da-7498456b72ee",
   "metadata": {},
   "outputs": [],
   "source": []
  },
  {
   "cell_type": "code",
   "execution_count": null,
   "id": "187dd4c7-6677-4760-a0bd-40e3fac2dea3",
   "metadata": {},
   "outputs": [],
   "source": []
  },
  {
   "cell_type": "code",
   "execution_count": null,
   "id": "2b6bca11-5f4c-45f4-a363-f7085a627230",
   "metadata": {},
   "outputs": [],
   "source": []
  },
  {
   "cell_type": "code",
   "execution_count": null,
   "id": "5990ac49-1af4-4046-b73d-93e372f53604",
   "metadata": {},
   "outputs": [],
   "source": []
  },
  {
   "cell_type": "code",
   "execution_count": null,
   "id": "6e1b1304-8d37-4668-8239-3c5c94cd5767",
   "metadata": {},
   "outputs": [],
   "source": []
  },
  {
   "cell_type": "code",
   "execution_count": null,
   "id": "62d5ec67-e4e7-4699-b20e-add8e294bdda",
   "metadata": {},
   "outputs": [],
   "source": []
  },
  {
   "cell_type": "code",
   "execution_count": null,
   "id": "257dceed-4973-4a1a-88ec-df9661a242df",
   "metadata": {},
   "outputs": [],
   "source": []
  },
  {
   "cell_type": "code",
   "execution_count": null,
   "id": "6c5e6de9-3da6-4969-bd57-92f9c884b877",
   "metadata": {},
   "outputs": [],
   "source": []
  },
  {
   "cell_type": "code",
   "execution_count": null,
   "id": "fe764be8-e7ac-49e3-bd06-a57d1497ac8c",
   "metadata": {},
   "outputs": [],
   "source": []
  },
  {
   "cell_type": "code",
   "execution_count": null,
   "id": "3fd08c1c-7030-44a7-8b34-57596dc2e2ec",
   "metadata": {},
   "outputs": [],
   "source": [
    "# from tqdm import tqdm\n",
    "# from datetime import datetime\n",
    "\n",
    "# def batch_gd(model_id, model, criterion, optimizer, train_loader, val_loader, epochs, name):\n",
    "#     training_info = {\n",
    "#         'train_loss_hist': [],\n",
    "#         'val_loss_hist': [],\n",
    "#         'train_acc_hist': [],\n",
    "#         'val_acc_hist': []\n",
    "#     }\n",
    "\n",
    "#     best_test_loss = np.inf\n",
    "#     best_test_epoch = 0\n",
    "#     device = torch.device(\"cuda:0\" if torch.cuda.is_available() else \"cpu\")\n",
    "    \n",
    "#     for iter in tqdm(range(epochs)):\n",
    "#         model.train()\n",
    "#         t0 = datetime.now()\n",
    "#         train_loss = []\n",
    "#         train_acc = []\n",
    "#         for inputs, targets in tqdm(train_loader):\n",
    "#             # move data to GPU\n",
    "#             inputs, targets = inputs.to(device, dtype=torch.float), targets.to(device, dtype=torch.int64)\n",
    "#             # zero the parameter gradients\n",
    "#             optimizer.zero_grad()\n",
    "#             # Forward pass\n",
    "#             outputs = model(inputs)\n",
    "#             loss = criterion(outputs, targets)\n",
    "#             # Backward and optimize\n",
    "#             loss.backward()\n",
    "#             optimizer.step()\n",
    "#             train_loss.append(loss.item())\n",
    "#             tmp_acc = torch.count_nonzero(torch.argmax(outputs, dim = 1) == targets).item()/targets.size(0)\n",
    "#             train_acc.append(tmp_acc)\n",
    "#         # Get train loss and test loss\n",
    "#         train_loss = np.mean(train_loss)\n",
    "#         train_acc = np.mean(train_acc)\n",
    "\n",
    "#         model.eval()\n",
    "#         val_loss = []\n",
    "#         val_acc = []\n",
    "#         for inputs, targets in tqdm(val_loader):\n",
    "#             inputs, targets = inputs.to(device, dtype=torch.float), targets.to(device, dtype=torch.int64)\n",
    "#             outputs = model(inputs)\n",
    "#             loss = criterion(outputs, targets)\n",
    "#             val_loss.append(loss.item())\n",
    "#             tmp_acc = torch.count_nonzero(torch.argmax(outputs, dim=1) == targets).item() / targets.size(0)\n",
    "#             val_acc.append(tmp_acc)\n",
    "#         val_loss = np.mean(val_loss)\n",
    "#         val_acc = np.mean(val_acc)\n",
    "\n",
    "#         # Save losses\n",
    "#         training_info['train_loss_hist'].append(train_loss)\n",
    "#         training_info['val_loss_hist'].append(val_loss)\n",
    "#         training_info['train_acc_hist'].append(train_acc)\n",
    "#         training_info['val_acc_hist'].append(val_acc)\n",
    "\n",
    "#         if val_loss < best_test_loss:\n",
    "#             # torch.save(model, os.path.join(logger.find_save_path(model_id), 'best_val_model.pt'))\n",
    "#             best_test_loss = val_loss\n",
    "#             best_test_epoch = iter\n",
    "#             print('model saved')\n",
    "\n",
    "#         dt = datetime.now() - t0\n",
    "#         print(f'Epoch {iter + 1}/{epochs}, '\n",
    "#               f'Train Loss: {train_loss:.4f}, Train Acc: {train_acc: .4f}, '\n",
    "#               f'Validation Loss: {val_loss:.4f}, Validation Acc: {val_acc: .4f}, '\n",
    "#               f'Duration: {dt}, Best Val Epoch: {best_test_epoch}')\n",
    "\n",
    "#     # torch.save({\n",
    "#     #     'epoch': epochs,\n",
    "#     #     'model_state_dict': model.state_dict(),\n",
    "#     #     'optimizer_state_dict': optimizer.state_dict(),\n",
    "#     #     'loss': train_loss,\n",
    "#     # }, os.path.join(logger.find_save_path(model_id), 'checkpoint.pt'))\n",
    "\n",
    "#     # with open(os.path.join(logger.find_save_path(model_id), 'training_process.pkl'), 'wb') as f:\n",
    "#     #     pickle.dump(training_info, f)\n",
    "\n",
    "#     return\n"
   ]
  },
  {
   "cell_type": "code",
   "execution_count": null,
   "id": "1edb61de-c485-40db-9bca-529c1bde6543",
   "metadata": {},
   "outputs": [],
   "source": [
    "# model_transLOB.eval()\n",
    "\n",
    "# all_y_true = []\n",
    "# all_y_pred = []\n",
    "\n",
    "# with torch.no_grad():\n",
    "#     for X_batch, y_batch in val_loader:\n",
    "#         X_batch, y_batch = X_batch.to(device, dtype=torch.float), y_batch.to(device, dtype=torch.int64) \n",
    "#         # X_batch, y_batch = X_batch.to(device), y_batch.to(device)\n",
    "\n",
    "#         outputs = model_transLOB(X_batch)\n",
    "#         _, y_pred = outputs.max(1)\n",
    "\n",
    "#         all_y_true.append(y_batch.cpu().numpy())\n",
    "#         all_y_pred.append(y_pred.cpu().numpy())\n",
    "\n",
    "# all_y_true = np.concatenate(all_y_true)\n",
    "# all_y_pred = np.concatenate(all_y_pred)\n",
    "\n",
    "# cm = confusion_matrix(all_y_true, all_y_pred)\n",
    "# disp = ConfusionMatrixDisplay(confusion_matrix=cm)\n",
    "# disp.plot(cmap=\"Blues\", values_format=\"d\")\n",
    "# plt.title(\"Confusion Matrix on Test Set\")\n",
    "# plt.show()\n",
    "\n",
    "# accuracy = accuracy_score(all_y_true, all_y_pred)\n",
    "# precision = precision_score(all_y_true, all_y_pred, average='macro')\n",
    "# recall = recall_score(all_y_true, all_y_pred, average='macro')\n",
    "# f1 = f1_score(all_y_true, all_y_pred, average='macro')\n",
    "\n",
    "# print(classification_report(all_y_true, all_y_pred, digits=4))\n",
    "\n",
    "# print(f\"Test Accuracy: {accuracy:.4f}\")\n",
    "# print(f\"Test Precision (macro): {precision:.4f}\")\n",
    "# print(f\"Test Recall (macro): {recall:.4f}\")\n",
    "# print(f\"Test F1 Score (macro): {f1:.4f}\")"
   ]
  },
  {
   "cell_type": "code",
   "execution_count": null,
   "id": "15b52469-3a4a-47a9-8d69-4570028671eb",
   "metadata": {},
   "outputs": [],
   "source": [
    "# from utils.training import train, validate, train_validate\n",
    "\n",
    "\n",
    "\n",
    "\n",
    "# train_losses = []\n",
    "# train_accuracies = []\n",
    "# val_losses = []\n",
    "# val_accuracies = []\n",
    "\n",
    "# best_val_acc = 0\n",
    "\n",
    "# for epoch in range(epochs):\n",
    "#     train_loss, train_acc = train(model_transLOB, train_loader, optimizer, criterion, device)\n",
    "#     val_loss, val_acc = validate(model_transLOB, val_loader, criterion, device)\n",
    "#     # val_loss, val_acc = validate(model, val_loader, criterion, device)\n",
    "\n",
    "#     train_losses.append(train_loss)\n",
    "#     train_accuracies.append(train_acc)\n",
    "#     val_losses.append(val_loss)\n",
    "#     val_accuracies.append(val_acc)\n",
    "\n",
    "#     print(f\"Epoch {epoch+1}/{epochs}: \"\n",
    "#           f\"Train Loss {train_loss:.4f} | Train Acc {train_acc:.4f} | \"\n",
    "#           f\"Val Loss {val_loss:.4f} | Val Acc {val_acc:.4f}\")\n",
    "\n",
    "#     # Save best model\n",
    "#     if val_acc > best_val_acc:\n",
    "#         best_val_acc = val_acc\n",
    "#         torch.save(model_transLOB.state_dict(), './outputs/transLOB/best_transLOB_fi2010.pth')\n",
    "#         print(f\"✅ Saved best model at epoch {epoch+1} with Val Acc {val_acc:.4f}\")"
   ]
  }
 ],
 "metadata": {
  "kernelspec": {
   "display_name": "Python 3 (ipykernel)",
   "language": "python",
   "name": "python3"
  },
  "language_info": {
   "codemirror_mode": {
    "name": "ipython",
    "version": 3
   },
   "file_extension": ".py",
   "mimetype": "text/x-python",
   "name": "python",
   "nbconvert_exporter": "python",
   "pygments_lexer": "ipython3",
   "version": "3.11.2"
  }
 },
 "nbformat": 4,
 "nbformat_minor": 5
}
