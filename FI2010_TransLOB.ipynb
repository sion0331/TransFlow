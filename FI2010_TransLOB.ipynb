{
 "cells": [
  {
   "cell_type": "code",
   "execution_count": 31,
   "id": "3620a87e-faee-4171-8308-9ec14a6d52dd",
   "metadata": {},
   "outputs": [
    {
     "name": "stdout",
     "output_type": "stream",
     "text": [
      "The autoreload extension is already loaded. To reload it, use:\n",
      "  %reload_ext autoreload\n"
     ]
    }
   ],
   "source": [
    "# import os\n",
    "import torch\n",
    "import numpy as np\n",
    "# import pandas as pd\n",
    "import matplotlib.pyplot as plt\n",
    "# import kagglehub\n",
    "# import shutil\n",
    "\n",
    "from torch import nn\n",
    "# from sklearn.model_selection import train_test_split\n",
    "# from sklearn.metrics import confusion_matrix, ConfusionMatrixDisplay, accuracy_score, precision_score, recall_score, f1_score\n",
    "from torchinfo import summary\n",
    "from torch.utils.data import DataLoader\n",
    "\n",
    "from models.transLOB import TransLOB\n",
    "from utils.fi2010_loader import Dataset_fi2010\n",
    "# from models.transLOB_v2 import TransLOB\n",
    "# from utils.preprocessing_v2 import create_windows, generate_labels, normalize_features, add_features\n",
    "# from utils.training import train, validate\n",
    "# from utils.loader import LOBDataset\n",
    "\n",
    "%load_ext autoreload\n",
    "%autoreload 2"
   ]
  },
  {
   "cell_type": "code",
   "execution_count": 22,
   "id": "faaa7858-1f9e-4c5d-ae98-22d1c63fee42",
   "metadata": {},
   "outputs": [
    {
     "data": {
      "text/plain": [
       "device(type='cuda', index=0)"
      ]
     },
     "execution_count": 22,
     "metadata": {},
     "output_type": "execute_result"
    }
   ],
   "source": [
    "device = torch.device(\"cuda:0\" if torch.cuda.is_available() else \"cpu\")\n",
    "device"
   ]
  },
  {
   "cell_type": "code",
   "execution_count": 14,
   "id": "4039c291-6882-403f-9b58-ce09df92f24f",
   "metadata": {},
   "outputs": [],
   "source": [
    "dataset_type='fi2010'\n",
    "normalization = 'Zscore'\n",
    "lighten = False # True\n",
    "feature_size = 40\n",
    "\n",
    "T = 100\n",
    "k = 4\n",
    "stock = [0, 1, 2, 3, 4]\n",
    "train_test_ratio = 0.75\n",
    "# auction = False\n",
    "days = [1, 2, 3, 4, 5, 6, 7, 8, 9, 10]\n",
    "\n",
    "batch_size= 128\n",
    "# epsilon= 1e-08\n",
    "num_workers= 4"
   ]
  },
  {
   "cell_type": "code",
   "execution_count": 15,
   "id": "fffa5570-6e84-4698-a695-6e0c47b56cc9",
   "metadata": {},
   "outputs": [
    {
     "name": "stdout",
     "output_type": "stream",
     "text": [
      "Training Data Size : 306268\n",
      "Validation Data Size : 83119\n"
     ]
    }
   ],
   "source": [
    "train_day_length = round(len(days) * train_test_ratio)\n",
    "train_days = days[:train_day_length]\n",
    "test_days = days[train_day_length:]\n",
    "\n",
    "dataset_train = Dataset_fi2010(auction, normalization, stock, train_days, T, k, lighten)\n",
    "dataset_val = Dataset_fi2010(auction, normalization, stock, test_days, T, k, lighten)\n",
    "\n",
    "print(f\"Training Data Size : {dataset_train.__len__()}\")\n",
    "print(f\"Validation Data Size : {dataset_val.__len__()}\")\n",
    "\n",
    "train_loader = DataLoader(dataset=dataset_train, batch_size=batch_size, shuffle=True, num_workers=num_workers)\n",
    "val_loader = DataLoader(dataset=dataset_val, batch_size=batch_size, shuffle=False, num_workers=num_workers)"
   ]
  },
  {
   "cell_type": "code",
   "execution_count": 16,
   "id": "afd1b0d5-15a7-4a0e-bf89-e42a8f4d1eb8",
   "metadata": {},
   "outputs": [
    {
     "data": {
      "image/png": "[encoded data removed]",
      "text/plain": [
       "<Figure size 1000x400 with 2 Axes>"
      ]
     },
     "metadata": {},
     "output_type": "display_data"
    }
   ],
   "source": [
    "y_train = dataset_train.y.numpy()\n",
    "y_val = dataset_val.y.numpy()\n",
    "\n",
    "fig, axes = plt.subplots(1, 2, figsize=(10, 4), sharey=True)\n",
    "\n",
    "# Training labels\n",
    "axes[0].hist(y_train, bins=np.arange(-0.5, 3.5, 1), rwidth=0.8)\n",
    "axes[0].set_title(\"Training Label Distribution\")\n",
    "axes[0].set_xlabel(\"Class Label\")\n",
    "axes[0].set_ylabel(\"Frequency\")\n",
    "axes[0].set_xticks([0, 1, 2])\n",
    "\n",
    "# Validation labels\n",
    "axes[1].hist(y_val, bins=np.arange(-0.5, 3.5, 1), rwidth=0.8)\n",
    "axes[1].set_title(\"Validation Label Distribution\")\n",
    "axes[1].set_xlabel(\"Class Label\")\n",
    "axes[1].set_xticks([0, 1, 2])\n",
    "\n",
    "plt.tight_layout()\n",
    "plt.show()"
   ]
  },
  {
   "cell_type": "code",
   "execution_count": 24,
   "id": "db256611-d30a-47f1-968e-8f3033af39e6",
   "metadata": {},
   "outputs": [],
   "source": []
  },
  {
   "cell_type": "code",
   "execution_count": 80,
   "id": "09fe99c5-5210-4e30-939e-5a545416a898",
   "metadata": {
    "scrolled": true
   },
   "outputs": [
    {
     "ename": "RuntimeError",
     "evalue": "Failed to run torchinfo. See above stack traces for more details. Executed layers up to: [Conv2d: 2, LeakyReLU: 2]",
     "output_type": "error",
     "traceback": [
      "\u001b[31m---------------------------------------------------------------------------\u001b[39m",
      "\u001b[31mValueError\u001b[39m                                Traceback (most recent call last)",
      "\u001b[36mFile \u001b[39m\u001b[32m~/myenv/lib/python3.11/site-packages/torchinfo/torchinfo.py:295\u001b[39m, in \u001b[36mforward_pass\u001b[39m\u001b[34m(model, x, batch_dim, cache_forward_pass, device, mode, **kwargs)\u001b[39m\n\u001b[32m    294\u001b[39m \u001b[38;5;28;01mif\u001b[39;00m \u001b[38;5;28misinstance\u001b[39m(x, (\u001b[38;5;28mlist\u001b[39m, \u001b[38;5;28mtuple\u001b[39m)):\n\u001b[32m--> \u001b[39m\u001b[32m295\u001b[39m     _ = \u001b[43mmodel\u001b[49m\u001b[43m(\u001b[49m\u001b[43m*\u001b[49m\u001b[43mx\u001b[49m\u001b[43m,\u001b[49m\u001b[43m \u001b[49m\u001b[43m*\u001b[49m\u001b[43m*\u001b[49m\u001b[43mkwargs\u001b[49m\u001b[43m)\u001b[49m\n\u001b[32m    296\u001b[39m \u001b[38;5;28;01melif\u001b[39;00m \u001b[38;5;28misinstance\u001b[39m(x, \u001b[38;5;28mdict\u001b[39m):\n",
      "\u001b[36mFile \u001b[39m\u001b[32m~/myenv/lib/python3.11/site-packages/torch/nn/modules/module.py:1751\u001b[39m, in \u001b[36mModule._wrapped_call_impl\u001b[39m\u001b[34m(self, *args, **kwargs)\u001b[39m\n\u001b[32m   1750\u001b[39m \u001b[38;5;28;01melse\u001b[39;00m:\n\u001b[32m-> \u001b[39m\u001b[32m1751\u001b[39m     \u001b[38;5;28;01mreturn\u001b[39;00m \u001b[38;5;28;43mself\u001b[39;49m\u001b[43m.\u001b[49m\u001b[43m_call_impl\u001b[49m\u001b[43m(\u001b[49m\u001b[43m*\u001b[49m\u001b[43margs\u001b[49m\u001b[43m,\u001b[49m\u001b[43m \u001b[49m\u001b[43m*\u001b[49m\u001b[43m*\u001b[49m\u001b[43mkwargs\u001b[49m\u001b[43m)\u001b[49m\n",
      "\u001b[36mFile \u001b[39m\u001b[32m~/myenv/lib/python3.11/site-packages/torch/nn/modules/module.py:1857\u001b[39m, in \u001b[36mModule._call_impl\u001b[39m\u001b[34m(self, *args, **kwargs)\u001b[39m\n\u001b[32m   1856\u001b[39m \u001b[38;5;28;01mtry\u001b[39;00m:\n\u001b[32m-> \u001b[39m\u001b[32m1857\u001b[39m     \u001b[38;5;28;01mreturn\u001b[39;00m \u001b[43minner\u001b[49m\u001b[43m(\u001b[49m\u001b[43m)\u001b[49m\n\u001b[32m   1858\u001b[39m \u001b[38;5;28;01mexcept\u001b[39;00m \u001b[38;5;167;01mException\u001b[39;00m:\n\u001b[32m   1859\u001b[39m     \u001b[38;5;66;03m# run always called hooks if they have not already been run\u001b[39;00m\n\u001b[32m   1860\u001b[39m     \u001b[38;5;66;03m# For now only forward hooks have the always_call option but perhaps\u001b[39;00m\n\u001b[32m   1861\u001b[39m     \u001b[38;5;66;03m# this functionality should be added to full backward hooks as well.\u001b[39;00m\n",
      "\u001b[36mFile \u001b[39m\u001b[32m~/myenv/lib/python3.11/site-packages/torch/nn/modules/module.py:1805\u001b[39m, in \u001b[36mModule._call_impl.<locals>.inner\u001b[39m\u001b[34m()\u001b[39m\n\u001b[32m   1803\u001b[39m     args = bw_hook.setup_input_hook(args)\n\u001b[32m-> \u001b[39m\u001b[32m1805\u001b[39m result = \u001b[43mforward_call\u001b[49m\u001b[43m(\u001b[49m\u001b[43m*\u001b[49m\u001b[43margs\u001b[49m\u001b[43m,\u001b[49m\u001b[43m \u001b[49m\u001b[43m*\u001b[49m\u001b[43m*\u001b[49m\u001b[43mkwargs\u001b[49m\u001b[43m)\u001b[49m\n\u001b[32m   1806\u001b[39m \u001b[38;5;28;01mif\u001b[39;00m _global_forward_hooks \u001b[38;5;129;01mor\u001b[39;00m \u001b[38;5;28mself\u001b[39m._forward_hooks:\n",
      "\u001b[36mFile \u001b[39m\u001b[32m~/TransFlow/models/deepLOB/deepLOB_model.py:86\u001b[39m, in \u001b[36mDeeplob.forward\u001b[39m\u001b[34m(self, x)\u001b[39m\n\u001b[32m     84\u001b[39m c0 = torch.zeros(\u001b[32m1\u001b[39m, x.size(\u001b[32m0\u001b[39m), \u001b[32m64\u001b[39m).to(\u001b[38;5;28mself\u001b[39m.device)\n\u001b[32m---> \u001b[39m\u001b[32m86\u001b[39m x = \u001b[38;5;28;43mself\u001b[39;49m\u001b[43m.\u001b[49m\u001b[43mconv1\u001b[49m\u001b[43m(\u001b[49m\u001b[43mx\u001b[49m\u001b[43m)\u001b[49m\n\u001b[32m     87\u001b[39m x = \u001b[38;5;28mself\u001b[39m.conv2(x)\n",
      "\u001b[36mFile \u001b[39m\u001b[32m~/myenv/lib/python3.11/site-packages/torch/nn/modules/module.py:1751\u001b[39m, in \u001b[36mModule._wrapped_call_impl\u001b[39m\u001b[34m(self, *args, **kwargs)\u001b[39m\n\u001b[32m   1750\u001b[39m \u001b[38;5;28;01melse\u001b[39;00m:\n\u001b[32m-> \u001b[39m\u001b[32m1751\u001b[39m     \u001b[38;5;28;01mreturn\u001b[39;00m \u001b[38;5;28;43mself\u001b[39;49m\u001b[43m.\u001b[49m\u001b[43m_call_impl\u001b[49m\u001b[43m(\u001b[49m\u001b[43m*\u001b[49m\u001b[43margs\u001b[49m\u001b[43m,\u001b[49m\u001b[43m \u001b[49m\u001b[43m*\u001b[49m\u001b[43m*\u001b[49m\u001b[43mkwargs\u001b[49m\u001b[43m)\u001b[49m\n",
      "\u001b[36mFile \u001b[39m\u001b[32m~/myenv/lib/python3.11/site-packages/torch/nn/modules/module.py:1857\u001b[39m, in \u001b[36mModule._call_impl\u001b[39m\u001b[34m(self, *args, **kwargs)\u001b[39m\n\u001b[32m   1856\u001b[39m \u001b[38;5;28;01mtry\u001b[39;00m:\n\u001b[32m-> \u001b[39m\u001b[32m1857\u001b[39m     \u001b[38;5;28;01mreturn\u001b[39;00m \u001b[43minner\u001b[49m\u001b[43m(\u001b[49m\u001b[43m)\u001b[49m\n\u001b[32m   1858\u001b[39m \u001b[38;5;28;01mexcept\u001b[39;00m \u001b[38;5;167;01mException\u001b[39;00m:\n\u001b[32m   1859\u001b[39m     \u001b[38;5;66;03m# run always called hooks if they have not already been run\u001b[39;00m\n\u001b[32m   1860\u001b[39m     \u001b[38;5;66;03m# For now only forward hooks have the always_call option but perhaps\u001b[39;00m\n\u001b[32m   1861\u001b[39m     \u001b[38;5;66;03m# this functionality should be added to full backward hooks as well.\u001b[39;00m\n",
      "\u001b[36mFile \u001b[39m\u001b[32m~/myenv/lib/python3.11/site-packages/torch/nn/modules/module.py:1805\u001b[39m, in \u001b[36mModule._call_impl.<locals>.inner\u001b[39m\u001b[34m()\u001b[39m\n\u001b[32m   1803\u001b[39m     args = bw_hook.setup_input_hook(args)\n\u001b[32m-> \u001b[39m\u001b[32m1805\u001b[39m result = \u001b[43mforward_call\u001b[49m\u001b[43m(\u001b[49m\u001b[43m*\u001b[49m\u001b[43margs\u001b[49m\u001b[43m,\u001b[49m\u001b[43m \u001b[49m\u001b[43m*\u001b[49m\u001b[43m*\u001b[49m\u001b[43mkwargs\u001b[49m\u001b[43m)\u001b[49m\n\u001b[32m   1806\u001b[39m \u001b[38;5;28;01mif\u001b[39;00m _global_forward_hooks \u001b[38;5;129;01mor\u001b[39;00m \u001b[38;5;28mself\u001b[39m._forward_hooks:\n",
      "\u001b[36mFile \u001b[39m\u001b[32m~/myenv/lib/python3.11/site-packages/torch/nn/modules/container.py:240\u001b[39m, in \u001b[36mSequential.forward\u001b[39m\u001b[34m(self, input)\u001b[39m\n\u001b[32m    239\u001b[39m \u001b[38;5;28;01mfor\u001b[39;00m module \u001b[38;5;129;01min\u001b[39;00m \u001b[38;5;28mself\u001b[39m:\n\u001b[32m--> \u001b[39m\u001b[32m240\u001b[39m     \u001b[38;5;28minput\u001b[39m = \u001b[43mmodule\u001b[49m\u001b[43m(\u001b[49m\u001b[38;5;28;43minput\u001b[39;49m\u001b[43m)\u001b[49m\n\u001b[32m    241\u001b[39m \u001b[38;5;28;01mreturn\u001b[39;00m \u001b[38;5;28minput\u001b[39m\n",
      "\u001b[36mFile \u001b[39m\u001b[32m~/myenv/lib/python3.11/site-packages/torch/nn/modules/module.py:1751\u001b[39m, in \u001b[36mModule._wrapped_call_impl\u001b[39m\u001b[34m(self, *args, **kwargs)\u001b[39m\n\u001b[32m   1750\u001b[39m \u001b[38;5;28;01melse\u001b[39;00m:\n\u001b[32m-> \u001b[39m\u001b[32m1751\u001b[39m     \u001b[38;5;28;01mreturn\u001b[39;00m \u001b[38;5;28;43mself\u001b[39;49m\u001b[43m.\u001b[49m\u001b[43m_call_impl\u001b[49m\u001b[43m(\u001b[49m\u001b[43m*\u001b[49m\u001b[43margs\u001b[49m\u001b[43m,\u001b[49m\u001b[43m \u001b[49m\u001b[43m*\u001b[49m\u001b[43m*\u001b[49m\u001b[43mkwargs\u001b[49m\u001b[43m)\u001b[49m\n",
      "\u001b[36mFile \u001b[39m\u001b[32m~/myenv/lib/python3.11/site-packages/torch/nn/modules/module.py:1857\u001b[39m, in \u001b[36mModule._call_impl\u001b[39m\u001b[34m(self, *args, **kwargs)\u001b[39m\n\u001b[32m   1856\u001b[39m \u001b[38;5;28;01mtry\u001b[39;00m:\n\u001b[32m-> \u001b[39m\u001b[32m1857\u001b[39m     \u001b[38;5;28;01mreturn\u001b[39;00m \u001b[43minner\u001b[49m\u001b[43m(\u001b[49m\u001b[43m)\u001b[49m\n\u001b[32m   1858\u001b[39m \u001b[38;5;28;01mexcept\u001b[39;00m \u001b[38;5;167;01mException\u001b[39;00m:\n\u001b[32m   1859\u001b[39m     \u001b[38;5;66;03m# run always called hooks if they have not already been run\u001b[39;00m\n\u001b[32m   1860\u001b[39m     \u001b[38;5;66;03m# For now only forward hooks have the always_call option but perhaps\u001b[39;00m\n\u001b[32m   1861\u001b[39m     \u001b[38;5;66;03m# this functionality should be added to full backward hooks as well.\u001b[39;00m\n",
      "\u001b[36mFile \u001b[39m\u001b[32m~/myenv/lib/python3.11/site-packages/torch/nn/modules/module.py:1805\u001b[39m, in \u001b[36mModule._call_impl.<locals>.inner\u001b[39m\u001b[34m()\u001b[39m\n\u001b[32m   1803\u001b[39m     args = bw_hook.setup_input_hook(args)\n\u001b[32m-> \u001b[39m\u001b[32m1805\u001b[39m result = \u001b[43mforward_call\u001b[49m\u001b[43m(\u001b[49m\u001b[43m*\u001b[49m\u001b[43margs\u001b[49m\u001b[43m,\u001b[49m\u001b[43m \u001b[49m\u001b[43m*\u001b[49m\u001b[43m*\u001b[49m\u001b[43mkwargs\u001b[49m\u001b[43m)\u001b[49m\n\u001b[32m   1806\u001b[39m \u001b[38;5;28;01mif\u001b[39;00m _global_forward_hooks \u001b[38;5;129;01mor\u001b[39;00m \u001b[38;5;28mself\u001b[39m._forward_hooks:\n",
      "\u001b[36mFile \u001b[39m\u001b[32m~/myenv/lib/python3.11/site-packages/torch/nn/modules/batchnorm.py:160\u001b[39m, in \u001b[36m_BatchNorm.forward\u001b[39m\u001b[34m(self, input)\u001b[39m\n\u001b[32m    159\u001b[39m \u001b[38;5;28;01mdef\u001b[39;00m\u001b[38;5;250m \u001b[39m\u001b[34mforward\u001b[39m(\u001b[38;5;28mself\u001b[39m, \u001b[38;5;28minput\u001b[39m: Tensor) -> Tensor:\n\u001b[32m--> \u001b[39m\u001b[32m160\u001b[39m     \u001b[38;5;28;43mself\u001b[39;49m\u001b[43m.\u001b[49m\u001b[43m_check_input_dim\u001b[49m\u001b[43m(\u001b[49m\u001b[38;5;28;43minput\u001b[39;49m\u001b[43m)\u001b[49m\n\u001b[32m    162\u001b[39m     \u001b[38;5;66;03m# exponential_average_factor is set to self.momentum\u001b[39;00m\n\u001b[32m    163\u001b[39m     \u001b[38;5;66;03m# (when it is available) only so that it gets updated\u001b[39;00m\n\u001b[32m    164\u001b[39m     \u001b[38;5;66;03m# in ONNX graph when this node is exported to ONNX.\u001b[39;00m\n",
      "\u001b[36mFile \u001b[39m\u001b[32m~/myenv/lib/python3.11/site-packages/torch/nn/modules/batchnorm.py:452\u001b[39m, in \u001b[36mBatchNorm2d._check_input_dim\u001b[39m\u001b[34m(self, input)\u001b[39m\n\u001b[32m    451\u001b[39m \u001b[38;5;28;01mif\u001b[39;00m \u001b[38;5;28minput\u001b[39m.dim() != \u001b[32m4\u001b[39m:\n\u001b[32m--> \u001b[39m\u001b[32m452\u001b[39m     \u001b[38;5;28;01mraise\u001b[39;00m \u001b[38;5;167;01mValueError\u001b[39;00m(\u001b[33mf\u001b[39m\u001b[33m\"\u001b[39m\u001b[33mexpected 4D input (got \u001b[39m\u001b[38;5;132;01m{\u001b[39;00m\u001b[38;5;28minput\u001b[39m.dim()\u001b[38;5;132;01m}\u001b[39;00m\u001b[33mD input)\u001b[39m\u001b[33m\"\u001b[39m)\n",
      "\u001b[31mValueError\u001b[39m: expected 4D input (got 3D input)",
      "\nThe above exception was the direct cause of the following exception:\n",
      "\u001b[31mRuntimeError\u001b[39m                              Traceback (most recent call last)",
      "\u001b[36mCell\u001b[39m\u001b[36m \u001b[39m\u001b[32mIn[80]\u001b[39m\u001b[32m, line 6\u001b[39m\n\u001b[32m      4\u001b[39m model = Deeplob(lighten=lighten)\n\u001b[32m      5\u001b[39m model.to(model.device)\n\u001b[32m----> \u001b[39m\u001b[32m6\u001b[39m \u001b[43msummary\u001b[49m\u001b[43m(\u001b[49m\u001b[43mmodel\u001b[49m\u001b[43m,\u001b[49m\u001b[43m \u001b[49m\u001b[43m(\u001b[49m\u001b[32;43m1\u001b[39;49m\u001b[43m,\u001b[49m\u001b[43m \u001b[49m\u001b[32;43m100\u001b[39;49m\u001b[43m,\u001b[49m\u001b[43m \u001b[49m\u001b[43mfeature_size\u001b[49m\u001b[43m)\u001b[49m\u001b[43m)\u001b[49m\n",
      "\u001b[36mFile \u001b[39m\u001b[32m~/myenv/lib/python3.11/site-packages/torchinfo/torchinfo.py:223\u001b[39m, in \u001b[36msummary\u001b[39m\u001b[34m(model, input_size, input_data, batch_dim, cache_forward_pass, col_names, col_width, depth, device, dtypes, mode, row_settings, verbose, **kwargs)\u001b[39m\n\u001b[32m    216\u001b[39m validate_user_params(\n\u001b[32m    217\u001b[39m     input_data, input_size, columns, col_width, device, dtypes, verbose\n\u001b[32m    218\u001b[39m )\n\u001b[32m    220\u001b[39m x, correct_input_size = process_input(\n\u001b[32m    221\u001b[39m     input_data, input_size, batch_dim, device, dtypes\n\u001b[32m    222\u001b[39m )\n\u001b[32m--> \u001b[39m\u001b[32m223\u001b[39m summary_list = \u001b[43mforward_pass\u001b[49m\u001b[43m(\u001b[49m\n\u001b[32m    224\u001b[39m \u001b[43m    \u001b[49m\u001b[43mmodel\u001b[49m\u001b[43m,\u001b[49m\u001b[43m \u001b[49m\u001b[43mx\u001b[49m\u001b[43m,\u001b[49m\u001b[43m \u001b[49m\u001b[43mbatch_dim\u001b[49m\u001b[43m,\u001b[49m\u001b[43m \u001b[49m\u001b[43mcache_forward_pass\u001b[49m\u001b[43m,\u001b[49m\u001b[43m \u001b[49m\u001b[43mdevice\u001b[49m\u001b[43m,\u001b[49m\u001b[43m \u001b[49m\u001b[43mmodel_mode\u001b[49m\u001b[43m,\u001b[49m\u001b[43m \u001b[49m\u001b[43m*\u001b[49m\u001b[43m*\u001b[49m\u001b[43mkwargs\u001b[49m\n\u001b[32m    225\u001b[39m \u001b[43m\u001b[49m\u001b[43m)\u001b[49m\n\u001b[32m    226\u001b[39m formatting = FormattingOptions(depth, verbose, columns, col_width, rows)\n\u001b[32m    227\u001b[39m results = ModelStatistics(\n\u001b[32m    228\u001b[39m     summary_list, correct_input_size, get_total_memory_used(x), formatting\n\u001b[32m    229\u001b[39m )\n",
      "\u001b[36mFile \u001b[39m\u001b[32m~/myenv/lib/python3.11/site-packages/torchinfo/torchinfo.py:304\u001b[39m, in \u001b[36mforward_pass\u001b[39m\u001b[34m(model, x, batch_dim, cache_forward_pass, device, mode, **kwargs)\u001b[39m\n\u001b[32m    302\u001b[39m \u001b[38;5;28;01mexcept\u001b[39;00m \u001b[38;5;167;01mException\u001b[39;00m \u001b[38;5;28;01mas\u001b[39;00m e:\n\u001b[32m    303\u001b[39m     executed_layers = [layer \u001b[38;5;28;01mfor\u001b[39;00m layer \u001b[38;5;129;01min\u001b[39;00m summary_list \u001b[38;5;28;01mif\u001b[39;00m layer.executed]\n\u001b[32m--> \u001b[39m\u001b[32m304\u001b[39m     \u001b[38;5;28;01mraise\u001b[39;00m \u001b[38;5;167;01mRuntimeError\u001b[39;00m(\n\u001b[32m    305\u001b[39m         \u001b[33m\"\u001b[39m\u001b[33mFailed to run torchinfo. See above stack traces for more details. \u001b[39m\u001b[33m\"\u001b[39m\n\u001b[32m    306\u001b[39m         \u001b[33mf\u001b[39m\u001b[33m\"\u001b[39m\u001b[33mExecuted layers up to: \u001b[39m\u001b[38;5;132;01m{\u001b[39;00mexecuted_layers\u001b[38;5;132;01m}\u001b[39;00m\u001b[33m\"\u001b[39m\n\u001b[32m    307\u001b[39m     ) \u001b[38;5;28;01mfrom\u001b[39;00m\u001b[38;5;250m \u001b[39m\u001b[34;01me\u001b[39;00m\n\u001b[32m    308\u001b[39m \u001b[38;5;28;01mfinally\u001b[39;00m:\n\u001b[32m    309\u001b[39m     \u001b[38;5;28;01mif\u001b[39;00m hooks:\n",
      "\u001b[31mRuntimeError\u001b[39m: Failed to run torchinfo. See above stack traces for more details. Executed layers up to: [Conv2d: 2, LeakyReLU: 2]"
     ]
    }
   ],
   "source": [
    "from models.deepLOB.deepLOB_model import Deeplob\n",
    "from torchinfo import summary\n",
    "\n",
    "model = Deeplob(lighten=lighten)\n",
    "model.to(model.device)\n",
    "summary(model, (1, 1, 100, feature_size))"
   ]
  },
  {
   "cell_type": "code",
   "execution_count": 68,
   "id": "3683524d-5f16-4bf5-96f9-9efa15548ac7",
   "metadata": {},
   "outputs": [],
   "source": [
    "criterion = nn.CrossEntropyLoss()\n",
    "optimizer = torch.optim.Adam(model.parameters(), lr=learning_rate)"
   ]
  },
  {
   "cell_type": "code",
   "execution_count": 20,
   "id": "66a0de74-c418-4875-bf44-675d702f41ab",
   "metadata": {},
   "outputs": [],
   "source": [
    "from tqdm import tqdm\n",
    "from datetime import datetime\n",
    "\n",
    "def batch_gd(model_id, model, criterion, optimizer, train_loader, val_loader, epochs, name):\n",
    "    training_info = {\n",
    "        'train_loss_hist': [],\n",
    "        'val_loss_hist': [],\n",
    "        'train_acc_hist': [],\n",
    "        'val_acc_hist': []\n",
    "    }\n",
    "\n",
    "    best_test_loss = np.inf\n",
    "    best_test_epoch = 0\n",
    "    device = torch.device(\"cuda:0\" if torch.cuda.is_available() else \"cpu\")\n",
    "    \n",
    "    for iter in tqdm(range(epochs)):\n",
    "        model.train()\n",
    "        t0 = datetime.now()\n",
    "        train_loss = []\n",
    "        train_acc = []\n",
    "        for inputs, targets in tqdm(train_loader):\n",
    "            # move data to GPU\n",
    "            inputs, targets = inputs.to(device, dtype=torch.float), targets.to(device, dtype=torch.int64)\n",
    "            # zero the parameter gradients\n",
    "            optimizer.zero_grad()\n",
    "            # Forward pass\n",
    "            outputs = model(inputs)\n",
    "            loss = criterion(outputs, targets)\n",
    "            # Backward and optimize\n",
    "            loss.backward()\n",
    "            optimizer.step()\n",
    "            train_loss.append(loss.item())\n",
    "            tmp_acc = torch.count_nonzero(torch.argmax(outputs, dim = 1) == targets).item()/targets.size(0)\n",
    "            train_acc.append(tmp_acc)\n",
    "        # Get train loss and test loss\n",
    "        train_loss = np.mean(train_loss)\n",
    "        train_acc = np.mean(train_acc)\n",
    "\n",
    "        model.eval()\n",
    "        val_loss = []\n",
    "        val_acc = []\n",
    "        for inputs, targets in tqdm(val_loader):\n",
    "            inputs, targets = inputs.to(device, dtype=torch.float), targets.to(device, dtype=torch.int64)\n",
    "            outputs = model(inputs)\n",
    "            loss = criterion(outputs, targets)\n",
    "            val_loss.append(loss.item())\n",
    "            tmp_acc = torch.count_nonzero(torch.argmax(outputs, dim=1) == targets).item() / targets.size(0)\n",
    "            val_acc.append(tmp_acc)\n",
    "        val_loss = np.mean(val_loss)\n",
    "        val_acc = np.mean(val_acc)\n",
    "\n",
    "        # Save losses\n",
    "        training_info['train_loss_hist'].append(train_loss)\n",
    "        training_info['val_loss_hist'].append(val_loss)\n",
    "        training_info['train_acc_hist'].append(train_acc)\n",
    "        training_info['val_acc_hist'].append(val_acc)\n",
    "\n",
    "        if val_loss < best_test_loss:\n",
    "            # torch.save(model, os.path.join(logger.find_save_path(model_id), 'best_val_model.pt'))\n",
    "            best_test_loss = val_loss\n",
    "            best_test_epoch = iter\n",
    "            print('model saved')\n",
    "\n",
    "        dt = datetime.now() - t0\n",
    "        print(f'Epoch {iter + 1}/{epochs}, '\n",
    "              f'Train Loss: {train_loss:.4f}, Train Acc: {train_acc: .4f}, '\n",
    "              f'Validation Loss: {val_loss:.4f}, Validation Acc: {val_acc: .4f}, '\n",
    "              f'Duration: {dt}, Best Val Epoch: {best_test_epoch}')\n",
    "\n",
    "    # torch.save({\n",
    "    #     'epoch': epochs,\n",
    "    #     'model_state_dict': model.state_dict(),\n",
    "    #     'optimizer_state_dict': optimizer.state_dict(),\n",
    "    #     'loss': train_loss,\n",
    "    # }, os.path.join(logger.find_save_path(model_id), 'checkpoint.pt'))\n",
    "\n",
    "    # with open(os.path.join(logger.find_save_path(model_id), 'training_process.pkl'), 'wb') as f:\n",
    "    #     pickle.dump(training_info, f)\n",
    "\n",
    "    return\n"
   ]
  },
  {
   "cell_type": "code",
   "execution_count": 52,
   "id": "3e7a0e35-a812-4e3d-9d63-5bc21cbafd0b",
   "metadata": {
    "scrolled": true
   },
   "outputs": [
    {
     "name": "stderr",
     "output_type": "stream",
     "text": [
      "  0%|                                                                                                        | 0/30 [00:00<?, ?it/s]\n",
      "  0%|                                                                                                      | 0/2393 [00:00<?, ?it/s]\u001b[A\n",
      "  0%|                                                                                              | 1/2393 [00:00<07:56,  5.02it/s]\u001b[A\n",
      "  0%|                                                                                              | 3/2393 [00:00<03:42, 10.73it/s]\u001b[A\n",
      "  0%|▏                                                                                             | 6/2393 [00:00<02:29, 15.96it/s]\u001b[A\n",
      "  0%|▎                                                                                             | 9/2393 [00:00<02:06, 18.91it/s]\u001b[A\n",
      "  1%|▍                                                                                            | 12/2393 [00:00<01:54, 20.86it/s]\u001b[A\n",
      "  1%|▌                                                                                            | 15/2393 [00:00<01:47, 22.13it/s]\u001b[A\n",
      "  1%|▋                                                                                            | 18/2393 [00:00<01:43, 23.00it/s]\u001b[A\n",
      "  1%|▊                                                                                            | 21/2393 [00:01<01:40, 23.54it/s]\u001b[A\n",
      "  1%|▉                                                                                            | 24/2393 [00:01<01:38, 23.97it/s]\u001b[A\n",
      "  1%|█                                                                                            | 27/2393 [00:01<01:37, 24.17it/s]\u001b[A\n",
      "  1%|█▏                                                                                           | 30/2393 [00:01<01:37, 24.23it/s]\u001b[A\n",
      "  1%|█▎                                                                                           | 33/2393 [00:01<01:36, 24.35it/s]\u001b[A\n",
      "  2%|█▍                                                                                           | 36/2393 [00:01<01:36, 24.46it/s]\u001b[A\n",
      "  2%|█▌                                                                                           | 39/2393 [00:01<01:35, 24.55it/s]\u001b[A\n",
      "  2%|█▋                                                                                           | 42/2393 [00:01<01:35, 24.61it/s]\u001b[A\n",
      "  2%|█▋                                                                                           | 45/2393 [00:02<01:35, 24.65it/s]\u001b[A\n",
      "  2%|█▊                                                                                           | 48/2393 [00:02<01:35, 24.66it/s]\u001b[A\n",
      "  2%|█▉                                                                                           | 51/2393 [00:02<01:34, 24.70it/s]\u001b[A\n",
      "  2%|██                                                                                           | 54/2393 [00:02<01:34, 24.68it/s]\u001b[A\n",
      "  2%|██▏                                                                                          | 57/2393 [00:02<01:34, 24.67it/s]\u001b[A\n",
      "  3%|██▎                                                                                          | 60/2393 [00:02<01:34, 24.67it/s]\u001b[A\n",
      "  3%|██▍                                                                                          | 63/2393 [00:02<01:34, 24.74it/s]\u001b[A\n",
      "  3%|██▌                                                                                          | 66/2393 [00:02<01:34, 24.70it/s]\u001b[A\n",
      "  3%|██▋                                                                                          | 69/2393 [00:02<01:34, 24.69it/s]\u001b[A\n",
      "  3%|██▊                                                                                          | 72/2393 [00:03<01:33, 24.70it/s]\u001b[A\n",
      "  3%|██▉                                                                                          | 75/2393 [00:03<01:33, 24.72it/s]\u001b[A\n",
      "  3%|███                                                                                          | 78/2393 [00:03<01:33, 24.71it/s]\u001b[A\n",
      "  3%|███▏                                                                                         | 81/2393 [00:03<01:33, 24.67it/s]\u001b[A\n",
      "  4%|███▎                                                                                         | 84/2393 [00:03<01:33, 24.66it/s]\u001b[A\n",
      "  4%|███▍                                                                                         | 87/2393 [00:03<01:33, 24.63it/s]\u001b[A\n",
      "  4%|███▍                                                                                         | 90/2393 [00:03<01:33, 24.70it/s]\u001b[A\n",
      "  4%|███▌                                                                                         | 93/2393 [00:03<01:33, 24.71it/s]\u001b[A\n",
      "  4%|███▋                                                                                         | 96/2393 [00:04<01:32, 24.72it/s]\u001b[A\n",
      "  4%|███▊                                                                                         | 99/2393 [00:04<01:32, 24.73it/s]\u001b[A\n",
      "  4%|███▉                                                                                        | 102/2393 [00:04<01:32, 24.72it/s]\u001b[A\n",
      "  4%|████                                                                                        | 105/2393 [00:04<01:32, 24.68it/s]\u001b[A\n",
      "  5%|████▏                                                                                       | 108/2393 [00:04<01:32, 24.72it/s]\u001b[A\n",
      "  5%|████▎                                                                                       | 111/2393 [00:04<01:32, 24.69it/s]\u001b[A\n",
      "  5%|████▍                                                                                       | 114/2393 [00:04<01:32, 24.73it/s]\u001b[A\n",
      "  5%|████▍                                                                                       | 117/2393 [00:04<01:32, 24.74it/s]\u001b[A\n",
      "  5%|████▌                                                                                       | 120/2393 [00:05<01:31, 24.71it/s]\u001b[A\n",
      "  5%|████▋                                                                                       | 123/2393 [00:05<01:31, 24.70it/s]\u001b[A\n",
      "  5%|████▊                                                                                       | 126/2393 [00:05<01:31, 24.70it/s]\u001b[A\n",
      "  5%|████▉                                                                                       | 129/2393 [00:05<01:31, 24.68it/s]\u001b[A\n",
      "  6%|█████                                                                                       | 132/2393 [00:05<01:31, 24.69it/s]\u001b[A\n",
      "  6%|█████▏                                                                                      | 135/2393 [00:05<01:31, 24.72it/s]\u001b[A\n",
      "  6%|█████▎                                                                                      | 138/2393 [00:05<01:31, 24.75it/s]\u001b[A\n",
      "  6%|█████▍                                                                                      | 141/2393 [00:05<01:31, 24.72it/s]\u001b[A\n",
      "  6%|█████▌                                                                                      | 144/2393 [00:06<01:30, 24.74it/s]\u001b[A\n",
      "  6%|█████▋                                                                                      | 147/2393 [00:06<01:30, 24.71it/s]\u001b[A\n",
      "  6%|█████▊                                                                                      | 150/2393 [00:06<01:30, 24.69it/s]\u001b[A\n",
      "  6%|█████▉                                                                                      | 153/2393 [00:06<01:34, 23.69it/s]\u001b[A\n",
      "  0%|                                                                                                        | 0/30 [00:06<?, ?it/s]\n"
     ]
    },
    {
     "ename": "KeyboardInterrupt",
     "evalue": "",
     "output_type": "error",
     "traceback": [
      "\u001b[31m---------------------------------------------------------------------------\u001b[39m",
      "\u001b[31mKeyboardInterrupt\u001b[39m                         Traceback (most recent call last)",
      "\u001b[36mCell\u001b[39m\u001b[36m \u001b[39m\u001b[32mIn[52]\u001b[39m\u001b[32m, line 2\u001b[39m\n\u001b[32m      1\u001b[39m model_id = \u001b[33m'\u001b[39m\u001b[33mtest_2\u001b[39m\u001b[33m'\u001b[39m\n\u001b[32m----> \u001b[39m\u001b[32m2\u001b[39m \u001b[43mbatch_gd\u001b[49m\u001b[43m(\u001b[49m\u001b[43mmodel_id\u001b[49m\u001b[43m \u001b[49m\u001b[43m=\u001b[49m\u001b[43m \u001b[49m\u001b[43mmodel_id\u001b[49m\u001b[43m,\u001b[49m\u001b[43m \u001b[49m\u001b[43mmodel\u001b[49m\u001b[43m \u001b[49m\u001b[43m=\u001b[49m\u001b[43m \u001b[49m\u001b[43mmodel\u001b[49m\u001b[43m,\u001b[49m\u001b[43m \u001b[49m\u001b[43mcriterion\u001b[49m\u001b[43m \u001b[49m\u001b[43m=\u001b[49m\u001b[43m \u001b[49m\u001b[43mcriterion\u001b[49m\u001b[43m,\u001b[49m\u001b[43m \u001b[49m\u001b[43moptimizer\u001b[49m\u001b[43m \u001b[49m\u001b[43m=\u001b[49m\u001b[43m \u001b[49m\u001b[43moptimizer\u001b[49m\u001b[43m,\u001b[49m\n\u001b[32m      3\u001b[39m \u001b[43m         \u001b[49m\u001b[43mtrain_loader\u001b[49m\u001b[43m \u001b[49m\u001b[43m=\u001b[49m\u001b[43m \u001b[49m\u001b[43mtrain_loader\u001b[49m\u001b[43m,\u001b[49m\u001b[43m \u001b[49m\u001b[43mval_loader\u001b[49m\u001b[43m \u001b[49m\u001b[43m=\u001b[49m\u001b[43m \u001b[49m\u001b[43mval_loader\u001b[49m\u001b[43m,\u001b[49m\u001b[43m \u001b[49m\u001b[43mepochs\u001b[49m\u001b[43m=\u001b[49m\u001b[43mepoch\u001b[49m\u001b[43m,\u001b[49m\u001b[43m \u001b[49m\u001b[43mname\u001b[49m\u001b[43m \u001b[49m\u001b[43m=\u001b[49m\u001b[43m \u001b[49m\u001b[43mmodel\u001b[49m\u001b[43m.\u001b[49m\u001b[43mname\u001b[49m\u001b[43m)\u001b[49m\n",
      "\u001b[36mCell\u001b[39m\u001b[36m \u001b[39m\u001b[32mIn[51]\u001b[39m\u001b[32m, line 32\u001b[39m, in \u001b[36mbatch_gd\u001b[39m\u001b[34m(model_id, model, criterion, optimizer, train_loader, val_loader, epochs, name)\u001b[39m\n\u001b[32m     30\u001b[39m loss.backward()\n\u001b[32m     31\u001b[39m optimizer.step()\n\u001b[32m---> \u001b[39m\u001b[32m32\u001b[39m train_loss.append(\u001b[43mloss\u001b[49m\u001b[43m.\u001b[49m\u001b[43mitem\u001b[49m\u001b[43m(\u001b[49m\u001b[43m)\u001b[49m)\n\u001b[32m     33\u001b[39m tmp_acc = torch.count_nonzero(torch.argmax(outputs, dim = \u001b[32m1\u001b[39m) == targets).item()/targets.size(\u001b[32m0\u001b[39m)\n\u001b[32m     34\u001b[39m train_acc.append(tmp_acc)\n",
      "\u001b[31mKeyboardInterrupt\u001b[39m: "
     ]
    }
   ],
   "source": [
    "model_id = 'test_2'\n",
    "batch_gd(model_id = model_id, model = model, criterion = criterion, optimizer = optimizer,\n",
    "         train_loader = train_loader, val_loader = val_loader, epochs=epoch, name = model.name)"
   ]
  },
  {
   "cell_type": "code",
   "execution_count": 24,
   "id": "de60eee8-2f72-449c-8b97-0994f263ec5d",
   "metadata": {},
   "outputs": [
    {
     "ename": "ModuleNotFoundError",
     "evalue": "No module named 'loaders'",
     "output_type": "error",
     "traceback": [
      "\u001b[31m---------------------------------------------------------------------------\u001b[39m",
      "\u001b[31mModuleNotFoundError\u001b[39m                       Traceback (most recent call last)",
      "\u001b[36mCell\u001b[39m\u001b[36m \u001b[39m\u001b[32mIn[24]\u001b[39m\u001b[32m, line 1\u001b[39m\n\u001b[32m----> \u001b[39m\u001b[32m1\u001b[39m \u001b[38;5;28;01mfrom\u001b[39;00m\u001b[38;5;250m \u001b[39m\u001b[34;01mmodels\u001b[39;00m\u001b[34;01m.\u001b[39;00m\u001b[34;01mdeepLOB\u001b[39;00m\u001b[34;01m.\u001b[39;00m\u001b[34;01mevaluate\u001b[39;00m\u001b[38;5;250m \u001b[39m\u001b[38;5;28;01mimport\u001b[39;00m evaluate\n\u001b[32m      2\u001b[39m evaluate.test(model_id=model_id, model_type=model_type)\n\u001b[32m      3\u001b[39m \u001b[38;5;66;03m# classification_report.report(model_id=model_id)\u001b[39;00m\n\u001b[32m      4\u001b[39m \u001b[38;5;66;03m# training_vis.vis_training_process(model_id=model_id)\u001b[39;00m\n",
      "\u001b[36mFile \u001b[39m\u001b[32m~/TransFlow/models/deepLOB/evaluate.py:12\u001b[39m\n\u001b[32m      9\u001b[39m \u001b[38;5;28;01mfrom\u001b[39;00m\u001b[38;5;250m \u001b[39m\u001b[34;01mtorch\u001b[39;00m\u001b[34;01m.\u001b[39;00m\u001b[34;01mutils\u001b[39;00m\u001b[34;01m.\u001b[39;00m\u001b[34;01mdata\u001b[39;00m\u001b[38;5;250m \u001b[39m\u001b[38;5;28;01mimport\u001b[39;00m DataLoader\n\u001b[32m     10\u001b[39m \u001b[38;5;28;01mfrom\u001b[39;00m\u001b[38;5;250m \u001b[39m\u001b[34;01msklearn\u001b[39;00m\u001b[34;01m.\u001b[39;00m\u001b[34;01mmetrics\u001b[39;00m\u001b[38;5;250m \u001b[39m\u001b[38;5;28;01mimport\u001b[39;00m accuracy_score, classification_report, confusion_matrix\n\u001b[32m---> \u001b[39m\u001b[32m12\u001b[39m \u001b[38;5;28;01mfrom\u001b[39;00m\u001b[38;5;250m \u001b[39m\u001b[34;01mloaders\u001b[39;00m\u001b[34;01m.\u001b[39;00m\u001b[34;01mfi2010_loader\u001b[39;00m\u001b[38;5;250m \u001b[39m\u001b[38;5;28;01mimport\u001b[39;00m Dataset_fi2010\n\u001b[32m     13\u001b[39m \u001b[38;5;28;01mfrom\u001b[39;00m\u001b[38;5;250m \u001b[39m\u001b[34;01mloaders\u001b[39;00m\u001b[34;01m.\u001b[39;00m\u001b[34;01mkrx_preprocess\u001b[39;00m\u001b[38;5;250m \u001b[39m\u001b[38;5;28;01mimport\u001b[39;00m get_normalized_data_list\n\u001b[32m     14\u001b[39m \u001b[38;5;28;01mfrom\u001b[39;00m\u001b[38;5;250m \u001b[39m\u001b[34;01mloaders\u001b[39;00m\u001b[34;01m.\u001b[39;00m\u001b[34;01mkrx_loader\u001b[39;00m\u001b[38;5;250m \u001b[39m\u001b[38;5;28;01mimport\u001b[39;00m Dataset_krx\n",
      "\u001b[31mModuleNotFoundError\u001b[39m: No module named 'loaders'"
     ]
    }
   ],
   "source": [
    "from models.deepLOB.evaluate import evaluate\n",
    "\n",
    "evaluate.test(model_id=model_id, model_type=model_type)\n",
    "# classification_report.report(model_id=model_id)\n",
    "# training_vis.vis_training_process(model_id=model_id)"
   ]
  },
  {
   "cell_type": "code",
   "execution_count": 29,
   "id": "a2fea83e-a621-4818-87d6-e2d5523addca",
   "metadata": {},
   "outputs": [
    {
     "name": "stderr",
     "output_type": "stream",
     "text": [
      "100%|████████████████████████████████████████████████████████████████████████████████████████████| 650/650 [00:04<00:00, 140.34it/s]"
     ]
    },
    {
     "name": "stdout",
     "output_type": "stream",
     "text": [
      "Test acc: 0.6259\n",
      "              precision    recall  f1-score   support\n",
      "\n",
      "           0     0.6170    0.5906    0.6035     29147\n",
      "           1     0.7812    0.6163    0.6890     26310\n",
      "           2     0.5397    0.6724    0.5988     27662\n",
      "\n",
      "    accuracy                         0.6259     83119\n",
      "   macro avg     0.6460    0.6264    0.6304     83119\n",
      "weighted avg     0.6432    0.6259    0.6290     83119\n",
      "\n",
      "[[17213  2390  9544]\n",
      " [ 3775 16214  6321]\n",
      " [ 6909  2152 18601]]\n"
     ]
    },
    {
     "name": "stderr",
     "output_type": "stream",
     "text": [
      "\n"
     ]
    }
   ],
   "source": [
    "from sklearn.metrics import accuracy_score, classification_report, confusion_matrix\n",
    "\n",
    "device = torch.device(\"cuda:0\" if torch.cuda.is_available() else \"cpu\")\n",
    "\n",
    "test_loader = DataLoader(dataset=dataset_test, batch_size=batch_size, shuffle=False, num_workers=num_workers)\n",
    "\n",
    "all_midprices = dataset_test.get_midprice()\n",
    "all_targets = []\n",
    "all_predictions = []\n",
    "\n",
    "for inputs, targets in tqdm(test_loader):\n",
    "    # Move to GPU\n",
    "    model.eval()\n",
    "    inputs, targets = inputs.to(device, dtype=torch.float), targets.to(device, dtype=torch.int64)\n",
    "\n",
    "    # Forward pass\n",
    "    outputs = model(inputs)\n",
    "\n",
    "    # Get prediction\n",
    "    max_output, predictions = torch.max(outputs, 1)\n",
    "\n",
    "    # update counts\n",
    "    all_targets.append(targets.cpu().numpy())\n",
    "    all_predictions.append(predictions.cpu().numpy())\n",
    "\n",
    "all_targets = np.concatenate(all_targets)\n",
    "all_predictions = np.concatenate(all_predictions)\n",
    "\n",
    "# with open(os.path.join(logger.find_save_path(model_id), 'prediction.pkl'), 'wb') as f:\n",
    "#     pickle.dump([all_midprices, all_targets, all_predictions], f)\n",
    "\n",
    "test_acc = accuracy_score(all_targets, all_predictions)\n",
    "print(f\"Test acc: {test_acc:.4f}\")\n",
    "print(classification_report(all_targets, all_predictions, digits=4))\n",
    "print(confusion_matrix(all_targets, all_predictions))"
   ]
  },
  {
   "cell_type": "code",
   "execution_count": null,
   "id": "b7545b8d-9e1d-49b6-badf-3afff69abaee",
   "metadata": {},
   "outputs": [],
   "source": [
    "# from utils.fi2010_loader import __vis_sample_lob__\n",
    "# __vis_sample_lob__('DecPre')"
   ]
  },
  {
   "cell_type": "code",
   "execution_count": null,
   "id": "e65955b6-d8b6-483d-8f78-6b57ffc58e7f",
   "metadata": {},
   "outputs": [],
   "source": []
  },
  {
   "cell_type": "code",
   "execution_count": null,
   "id": "1bb99e49-b885-4b15-b363-69d710c31d17",
   "metadata": {},
   "outputs": [],
   "source": []
  },
  {
   "cell_type": "code",
   "execution_count": null,
   "id": "386417c7-a20c-4cd4-bdfd-51c6ce134d1c",
   "metadata": {},
   "outputs": [],
   "source": []
  },
  {
   "cell_type": "code",
   "execution_count": null,
   "id": "46e6f0da-75fa-4651-bf8b-0cb0dff5b765",
   "metadata": {},
   "outputs": [],
   "source": []
  },
  {
   "cell_type": "code",
   "execution_count": null,
   "id": "4653da45-27c6-4b72-b572-7ae95bb83e06",
   "metadata": {},
   "outputs": [],
   "source": []
  },
  {
   "cell_type": "code",
   "execution_count": null,
   "id": "c1b91ee2-c04d-4f42-942c-04fad2c5e2ea",
   "metadata": {},
   "outputs": [],
   "source": []
  },
  {
   "cell_type": "code",
   "execution_count": null,
   "id": "7e6816c3-a9ad-4bd7-91e3-c5268b691fea",
   "metadata": {},
   "outputs": [],
   "source": []
  },
  {
   "cell_type": "code",
   "execution_count": 25,
   "id": "251ffaa9-2476-4905-8dc9-1f23e3408e5a",
   "metadata": {},
   "outputs": [
    {
     "data": {
      "text/plain": [
       "==========================================================================================\n",
       "Layer (type:depth-idx)                   Output Shape              Param #\n",
       "==========================================================================================\n",
       "TransLOB                                 [1, 3]                    --\n",
       "├─LOBFeatureExtractor: 1-1               [1, 100, 14]              --\n",
       "│    └─Conv1d: 2-1                       [1, 14, 100]              1,134\n",
       "│    └─Conv1d: 2-2                       [1, 14, 100]              406\n",
       "│    └─Conv1d: 2-3                       [1, 14, 100]              406\n",
       "│    └─Conv1d: 2-4                       [1, 14, 100]              406\n",
       "│    └─Conv1d: 2-5                       [1, 14, 100]              406\n",
       "├─LayerNorm: 1-2                         [1, 100, 14]              28\n",
       "├─LOBPositionalEncoding: 1-3             [1, 100, 15]              --\n",
       "├─Linear: 1-4                            [1, 100, 64]              1,024\n",
       "├─LOBTransformerBlock: 1-5               [1, 100, 64]              --\n",
       "│    └─MultiheadAttention: 2-6           [1, 100, 64]              16,640\n",
       "│    └─LayerNorm: 2-7                    [1, 100, 64]              128\n",
       "│    └─Sequential: 2-8                   [1, 100, 64]              --\n",
       "│    │    └─Linear: 3-1                  [1, 100, 256]             16,640\n",
       "│    │    └─ReLU: 3-2                    [1, 100, 256]             --\n",
       "│    │    └─Linear: 3-3                  [1, 100, 64]              16,448\n",
       "│    └─LayerNorm: 2-9                    [1, 100, 64]              128\n",
       "├─LOBTransformerBlock: 1-6               [1, 100, 64]              --\n",
       "│    └─MultiheadAttention: 2-10          [1, 100, 64]              16,640\n",
       "│    └─LayerNorm: 2-11                   [1, 100, 64]              128\n",
       "│    └─Sequential: 2-12                  [1, 100, 64]              --\n",
       "│    │    └─Linear: 3-4                  [1, 100, 256]             16,640\n",
       "│    │    └─ReLU: 3-5                    [1, 100, 256]             --\n",
       "│    │    └─Linear: 3-6                  [1, 100, 64]              16,448\n",
       "│    └─LayerNorm: 2-13                   [1, 100, 64]              128\n",
       "├─Sequential: 1-7                        [1, 3]                    --\n",
       "│    └─Linear: 2-14                      [1, 64]                   4,160\n",
       "│    └─ReLU: 2-15                        [1, 64]                   --\n",
       "│    └─Dropout: 2-16                     [1, 64]                   --\n",
       "│    └─Linear: 2-17                      [1, 3]                    195\n",
       "==========================================================================================\n",
       "Total params: 108,133\n",
       "Trainable params: 108,133\n",
       "Non-trainable params: 0\n",
       "Total mult-adds (Units.MEGABYTES): 0.35\n",
       "==========================================================================================\n",
       "Input size (MB): 0.02\n",
       "Forward/backward pass size (MB): 0.84\n",
       "Params size (MB): 0.30\n",
       "Estimated Total Size (MB): 1.15\n",
       "=========================================================================================="
      ]
     },
     "execution_count": 25,
     "metadata": {},
     "output_type": "execute_result"
    }
   ],
   "source": [
    "model_transLOB = TransLOB(\n",
    "    num_features=feature_size,\n",
    "    num_classes=3,\n",
    "    hidden_channels=14,\n",
    "    d_model=64,\n",
    "    num_heads=4,\n",
    "    num_transformer_blocks=2\n",
    ").to(device)\n",
    "summary(model_transLOB, (1, 100, feature_size))"
   ]
  },
  {
   "cell_type": "code",
   "execution_count": 34,
   "id": "551ecdc8-5f0a-4c6d-b63a-90c76bdb8198",
   "metadata": {
    "scrolled": true
   },
   "outputs": [],
   "source": [
    "criterion = nn.CrossEntropyLoss()\n",
    "optimizer = torch.optim.Adam(model_transLOB.parameters(), lr=learning_rate)\n",
    "\n",
    "# batch_gd(model_id = 'test3', model = model2, criterion = criterion, optimizer = optimizer,\n",
    "#          train_loader = train_loader, val_loader = val_loader, epochs=epoch, name = \"transLOB\")"
   ]
  },
  {
   "cell_type": "code",
   "execution_count": null,
   "id": "170eeaef-5ee1-4903-bfa8-e50f930bceb2",
   "metadata": {},
   "outputs": [],
   "source": []
  },
  {
   "cell_type": "code",
   "execution_count": 38,
   "id": "270faff5-c6fa-45a6-8e83-7b4391a7c6af",
   "metadata": {},
   "outputs": [
    {
     "name": "stdout",
     "output_type": "stream",
     "text": [
      "[Batch 0/2393] Train Loss: 0.9703 | Train Accuracy: 0.5156\n",
      "[Batch 500/2393] Train Loss: 0.9806 | Train Accuracy: 0.4609\n",
      "[Batch 1000/2393] Train Loss: 0.8457 | Train Accuracy: 0.6094\n",
      "[Batch 1500/2393] Train Loss: 0.9830 | Train Accuracy: 0.5000\n",
      "[Batch 2000/2393] Train Loss: 0.9331 | Train Accuracy: 0.4766\n",
      "Epoch 1/20: Train Loss 0.9367 | Train Acc 0.5224 | Val Loss 0.9632 | Val Acc 0.5135\n",
      "✅ Saved best model at epoch 1 with Val Acc 0.5135\n",
      "[Batch 0/2393] Train Loss: 0.9670 | Train Accuracy: 0.4609\n",
      "[Batch 500/2393] Train Loss: 0.8502 | Train Accuracy: 0.5625\n",
      "[Batch 1000/2393] Train Loss: 0.9382 | Train Accuracy: 0.5469\n",
      "[Batch 1500/2393] Train Loss: 0.9054 | Train Accuracy: 0.5781\n",
      "[Batch 2000/2393] Train Loss: 0.8906 | Train Accuracy: 0.5703\n",
      "Epoch 2/20: Train Loss 0.8987 | Train Acc 0.5467 | Val Loss 0.9402 | Val Acc 0.5257\n",
      "✅ Saved best model at epoch 2 with Val Acc 0.5257\n",
      "[Batch 0/2393] Train Loss: 0.8455 | Train Accuracy: 0.5156\n",
      "[Batch 500/2393] Train Loss: 0.8817 | Train Accuracy: 0.5625\n",
      "[Batch 1000/2393] Train Loss: 0.8750 | Train Accuracy: 0.4844\n",
      "[Batch 1500/2393] Train Loss: 0.9270 | Train Accuracy: 0.5078\n",
      "[Batch 2000/2393] Train Loss: 0.8671 | Train Accuracy: 0.5859\n",
      "Epoch 3/20: Train Loss 0.8715 | Train Acc 0.5626 | Val Loss 0.9090 | Val Acc 0.5525\n",
      "✅ Saved best model at epoch 3 with Val Acc 0.5525\n",
      "[Batch 0/2393] Train Loss: 0.9005 | Train Accuracy: 0.5547\n",
      "[Batch 500/2393] Train Loss: 0.8757 | Train Accuracy: 0.5625\n",
      "[Batch 1000/2393] Train Loss: 0.8268 | Train Accuracy: 0.5938\n",
      "[Batch 1500/2393] Train Loss: 0.7997 | Train Accuracy: 0.6484\n",
      "[Batch 2000/2393] Train Loss: 0.8765 | Train Accuracy: 0.5547\n",
      "Epoch 4/20: Train Loss 0.8497 | Train Acc 0.5784 | Val Loss 0.8842 | Val Acc 0.5642\n",
      "✅ Saved best model at epoch 4 with Val Acc 0.5642\n",
      "[Batch 0/2393] Train Loss: 0.8933 | Train Accuracy: 0.5781\n",
      "[Batch 500/2393] Train Loss: 0.9618 | Train Accuracy: 0.5000\n",
      "[Batch 1000/2393] Train Loss: 0.8255 | Train Accuracy: 0.6250\n",
      "[Batch 1500/2393] Train Loss: 0.9444 | Train Accuracy: 0.5469\n",
      "[Batch 2000/2393] Train Loss: 0.7910 | Train Accuracy: 0.6250\n",
      "Epoch 5/20: Train Loss 0.8331 | Train Acc 0.5909 | Val Loss 0.8995 | Val Acc 0.5593\n",
      "[Batch 0/2393] Train Loss: 0.8704 | Train Accuracy: 0.5078\n",
      "[Batch 500/2393] Train Loss: 0.8186 | Train Accuracy: 0.6250\n",
      "[Batch 1000/2393] Train Loss: 0.7946 | Train Accuracy: 0.6328\n",
      "[Batch 1500/2393] Train Loss: 0.7830 | Train Accuracy: 0.5703\n",
      "[Batch 2000/2393] Train Loss: 0.7901 | Train Accuracy: 0.6250\n",
      "Epoch 6/20: Train Loss 0.8195 | Train Acc 0.6025 | Val Loss 0.8728 | Val Acc 0.5779\n",
      "✅ Saved best model at epoch 6 with Val Acc 0.5779\n",
      "[Batch 0/2393] Train Loss: 0.7890 | Train Accuracy: 0.5938\n",
      "[Batch 500/2393] Train Loss: 0.8345 | Train Accuracy: 0.6641\n",
      "[Batch 1000/2393] Train Loss: 0.7807 | Train Accuracy: 0.6016\n",
      "[Batch 1500/2393] Train Loss: 0.8547 | Train Accuracy: 0.5547\n",
      "[Batch 2000/2393] Train Loss: 0.9168 | Train Accuracy: 0.4922\n",
      "Epoch 7/20: Train Loss 0.8081 | Train Acc 0.6115 | Val Loss 0.8604 | Val Acc 0.5863\n",
      "✅ Saved best model at epoch 7 with Val Acc 0.5863\n",
      "[Batch 0/2393] Train Loss: 0.7903 | Train Accuracy: 0.5781\n",
      "[Batch 500/2393] Train Loss: 0.7674 | Train Accuracy: 0.6719\n",
      "[Batch 1000/2393] Train Loss: 0.9771 | Train Accuracy: 0.4844\n",
      "[Batch 1500/2393] Train Loss: 0.8365 | Train Accuracy: 0.6016\n",
      "[Batch 2000/2393] Train Loss: 0.8198 | Train Accuracy: 0.6094\n",
      "Epoch 8/20: Train Loss 0.7987 | Train Acc 0.6188 | Val Loss 0.8558 | Val Acc 0.5848\n",
      "[Batch 0/2393] Train Loss: 0.8414 | Train Accuracy: 0.6094\n",
      "[Batch 500/2393] Train Loss: 0.7400 | Train Accuracy: 0.6172\n",
      "[Batch 1000/2393] Train Loss: 0.8263 | Train Accuracy: 0.5625\n",
      "[Batch 1500/2393] Train Loss: 0.8688 | Train Accuracy: 0.5938\n",
      "[Batch 2000/2393] Train Loss: 0.7398 | Train Accuracy: 0.6562\n",
      "Epoch 9/20: Train Loss 0.7895 | Train Acc 0.6270 | Val Loss 0.8461 | Val Acc 0.5953\n",
      "✅ Saved best model at epoch 9 with Val Acc 0.5953\n",
      "[Batch 0/2393] Train Loss: 0.7426 | Train Accuracy: 0.6953\n",
      "[Batch 500/2393] Train Loss: 0.7196 | Train Accuracy: 0.6328\n",
      "[Batch 1000/2393] Train Loss: 0.7777 | Train Accuracy: 0.6250\n",
      "[Batch 1500/2393] Train Loss: 0.7420 | Train Accuracy: 0.6250\n",
      "[Batch 2000/2393] Train Loss: 0.7882 | Train Accuracy: 0.6250\n",
      "Epoch 10/20: Train Loss 0.7819 | Train Acc 0.6325 | Val Loss 0.8372 | Val Acc 0.6023\n",
      "✅ Saved best model at epoch 10 with Val Acc 0.6023\n",
      "[Batch 0/2393] Train Loss: 0.7294 | Train Accuracy: 0.6172\n",
      "[Batch 500/2393] Train Loss: 0.7645 | Train Accuracy: 0.6562\n",
      "[Batch 1000/2393] Train Loss: 0.7303 | Train Accuracy: 0.6250\n",
      "[Batch 1500/2393] Train Loss: 0.7147 | Train Accuracy: 0.6016\n",
      "[Batch 2000/2393] Train Loss: 0.8095 | Train Accuracy: 0.5859\n",
      "Epoch 11/20: Train Loss 0.7744 | Train Acc 0.6369 | Val Loss 0.8444 | Val Acc 0.6000\n",
      "[Batch 0/2393] Train Loss: 0.8917 | Train Accuracy: 0.6250\n",
      "[Batch 500/2393] Train Loss: 0.7798 | Train Accuracy: 0.6016\n",
      "[Batch 1000/2393] Train Loss: 0.7792 | Train Accuracy: 0.6484\n",
      "[Batch 1500/2393] Train Loss: 0.7422 | Train Accuracy: 0.6719\n",
      "[Batch 2000/2393] Train Loss: 0.7668 | Train Accuracy: 0.6328\n",
      "Epoch 12/20: Train Loss 0.7678 | Train Acc 0.6422 | Val Loss 0.8265 | Val Acc 0.6104\n",
      "✅ Saved best model at epoch 12 with Val Acc 0.6104\n",
      "[Batch 0/2393] Train Loss: 0.8345 | Train Accuracy: 0.5625\n",
      "[Batch 500/2393] Train Loss: 0.6518 | Train Accuracy: 0.7266\n",
      "[Batch 1000/2393] Train Loss: 0.6955 | Train Accuracy: 0.6562\n",
      "[Batch 1500/2393] Train Loss: 0.6890 | Train Accuracy: 0.7109\n",
      "[Batch 2000/2393] Train Loss: 0.8240 | Train Accuracy: 0.5859\n",
      "Epoch 13/20: Train Loss 0.7613 | Train Acc 0.6465 | Val Loss 0.8248 | Val Acc 0.6153\n",
      "✅ Saved best model at epoch 13 with Val Acc 0.6153\n",
      "[Batch 0/2393] Train Loss: 0.7995 | Train Accuracy: 0.6250\n",
      "[Batch 500/2393] Train Loss: 0.6460 | Train Accuracy: 0.7109\n",
      "[Batch 1000/2393] Train Loss: 0.7399 | Train Accuracy: 0.6484\n",
      "[Batch 1500/2393] Train Loss: 0.8091 | Train Accuracy: 0.6016\n",
      "[Batch 2000/2393] Train Loss: 0.6882 | Train Accuracy: 0.7031\n",
      "Epoch 14/20: Train Loss 0.7555 | Train Acc 0.6502 | Val Loss 0.8259 | Val Acc 0.6139\n",
      "[Batch 0/2393] Train Loss: 0.8038 | Train Accuracy: 0.6172\n",
      "[Batch 500/2393] Train Loss: 0.8115 | Train Accuracy: 0.6875\n",
      "[Batch 1000/2393] Train Loss: 0.7894 | Train Accuracy: 0.5938\n",
      "[Batch 1500/2393] Train Loss: 0.6504 | Train Accuracy: 0.6484\n",
      "[Batch 2000/2393] Train Loss: 0.7611 | Train Accuracy: 0.6562\n",
      "Epoch 15/20: Train Loss 0.7489 | Train Acc 0.6557 | Val Loss 0.8206 | Val Acc 0.6229\n",
      "✅ Saved best model at epoch 15 with Val Acc 0.6229\n",
      "[Batch 0/2393] Train Loss: 0.6502 | Train Accuracy: 0.6875\n",
      "[Batch 500/2393] Train Loss: 0.7205 | Train Accuracy: 0.7109\n",
      "[Batch 1000/2393] Train Loss: 0.7495 | Train Accuracy: 0.6953\n",
      "[Batch 1500/2393] Train Loss: 0.8184 | Train Accuracy: 0.6016\n",
      "[Batch 2000/2393] Train Loss: 0.7620 | Train Accuracy: 0.6719\n",
      "Epoch 16/20: Train Loss 0.7437 | Train Acc 0.6590 | Val Loss 0.8242 | Val Acc 0.6182\n",
      "[Batch 0/2393] Train Loss: 0.7371 | Train Accuracy: 0.6484\n",
      "[Batch 500/2393] Train Loss: 0.7500 | Train Accuracy: 0.6797\n",
      "[Batch 1000/2393] Train Loss: 0.8108 | Train Accuracy: 0.6250\n",
      "[Batch 1500/2393] Train Loss: 0.7397 | Train Accuracy: 0.6719\n",
      "[Batch 2000/2393] Train Loss: 0.6257 | Train Accuracy: 0.6797\n",
      "Epoch 17/20: Train Loss 0.7376 | Train Acc 0.6627 | Val Loss 0.8276 | Val Acc 0.6209\n",
      "[Batch 0/2393] Train Loss: 0.8827 | Train Accuracy: 0.5938\n",
      "[Batch 500/2393] Train Loss: 0.7832 | Train Accuracy: 0.6797\n",
      "[Batch 1000/2393] Train Loss: 0.6639 | Train Accuracy: 0.7266\n",
      "[Batch 1500/2393] Train Loss: 0.8007 | Train Accuracy: 0.6406\n",
      "[Batch 2000/2393] Train Loss: 0.7625 | Train Accuracy: 0.6484\n",
      "Epoch 18/20: Train Loss 0.7315 | Train Acc 0.6669 | Val Loss 0.8182 | Val Acc 0.6254\n",
      "✅ Saved best model at epoch 18 with Val Acc 0.6254\n",
      "[Batch 0/2393] Train Loss: 0.8053 | Train Accuracy: 0.6328\n",
      "[Batch 500/2393] Train Loss: 0.6710 | Train Accuracy: 0.6953\n",
      "[Batch 1000/2393] Train Loss: 0.7028 | Train Accuracy: 0.6875\n",
      "[Batch 1500/2393] Train Loss: 0.7882 | Train Accuracy: 0.6484\n",
      "[Batch 2000/2393] Train Loss: 0.6540 | Train Accuracy: 0.7031\n",
      "Epoch 19/20: Train Loss 0.7260 | Train Acc 0.6707 | Val Loss 0.8155 | Val Acc 0.6268\n",
      "✅ Saved best model at epoch 19 with Val Acc 0.6268\n",
      "[Batch 0/2393] Train Loss: 0.6910 | Train Accuracy: 0.6797\n",
      "[Batch 500/2393] Train Loss: 0.7525 | Train Accuracy: 0.6719\n",
      "[Batch 1000/2393] Train Loss: 0.7247 | Train Accuracy: 0.7109\n",
      "[Batch 1500/2393] Train Loss: 0.8313 | Train Accuracy: 0.6328\n",
      "[Batch 2000/2393] Train Loss: 0.7705 | Train Accuracy: 0.6406\n",
      "Epoch 20/20: Train Loss 0.7208 | Train Acc 0.6737 | Val Loss 0.8160 | Val Acc 0.6246\n"
     ]
    }
   ],
   "source": [
    "from utils.training import train, validate\n",
    "\n",
    "learning_rate= 1e-4\n",
    "epochs = 20\n",
    "\n",
    "train_losses = []\n",
    "train_accuracies = []\n",
    "val_losses = []\n",
    "val_accuracies = []\n",
    "\n",
    "best_val_acc = 0\n",
    "\n",
    "for epoch in range(epochs):\n",
    "    train_loss, train_acc = train(model_transLOB, train_loader, optimizer, criterion, device)\n",
    "    val_loss, val_acc = validate(model_transLOB, val_loader, criterion, device)\n",
    "    # val_loss, val_acc = validate(model, val_loader, criterion, device)\n",
    "\n",
    "    train_losses.append(train_loss)\n",
    "    train_accuracies.append(train_acc)\n",
    "    val_losses.append(val_loss)\n",
    "    val_accuracies.append(val_acc)\n",
    "\n",
    "    print(f\"Epoch {epoch+1}/{epochs}: \"\n",
    "          f\"Train Loss {train_loss:.4f} | Train Acc {train_acc:.4f} | \"\n",
    "          f\"Val Loss {val_loss:.4f} | Val Acc {val_acc:.4f}\")\n",
    "\n",
    "    # Save best model\n",
    "    if val_acc > best_val_acc:\n",
    "        best_val_acc = val_acc\n",
    "        torch.save(model_transLOB.state_dict(), './outputs/transLOB/best_transLOB_fi2010.pth')\n",
    "        print(f\"✅ Saved best model at epoch {epoch+1} with Val Acc {val_acc:.4f}\")"
   ]
  },
  {
   "cell_type": "code",
   "execution_count": 40,
   "id": "01767db6-2708-445f-be00-0dda4de77cea",
   "metadata": {},
   "outputs": [
    {
     "data": {
      "image/png": "[encoded data removed]",
      "text/plain": [
       "<Figure size 640x480 with 1 Axes>"
      ]
     },
     "metadata": {},
     "output_type": "display_data"
    },
    {
     "data": {
      "image/png": "[encoded data removed]",
      "text/plain": [
       "<Figure size 640x480 with 1 Axes>"
      ]
     },
     "metadata": {},
     "output_type": "display_data"
    }
   ],
   "source": [
    "plt.plot(train_losses, label='Train Loss')\n",
    "plt.plot(val_losses, label='Val Loss')\n",
    "plt.legend()\n",
    "plt.show()\n",
    "\n",
    "plt.plot(train_accuracies, label='Train Accuracy')\n",
    "plt.plot(val_accuracies, label='Val Accuracy')\n",
    "plt.legend()\n",
    "plt.show()"
   ]
  },
  {
   "cell_type": "code",
   "execution_count": 41,
   "id": "186742bb-6dbf-4aca-a460-fb492f18844a",
   "metadata": {},
   "outputs": [
    {
     "ename": "NameError",
     "evalue": "name 'model' is not defined",
     "output_type": "error",
     "traceback": [
      "\u001b[31m---------------------------------------------------------------------------\u001b[39m",
      "\u001b[31mNameError\u001b[39m                                 Traceback (most recent call last)",
      "\u001b[36mCell\u001b[39m\u001b[36m \u001b[39m\u001b[32mIn[41]\u001b[39m\u001b[32m, line 1\u001b[39m\n\u001b[32m----> \u001b[39m\u001b[32m1\u001b[39m \u001b[43mmodel\u001b[49m.eval()\n\u001b[32m      3\u001b[39m all_y_true = []\n\u001b[32m      4\u001b[39m all_y_pred = []\n",
      "\u001b[31mNameError\u001b[39m: name 'model' is not defined"
     ]
    }
   ],
   "source": [
    "model.eval()\n",
    "\n",
    "all_y_true = []\n",
    "all_y_pred = []\n",
    "\n",
    "with torch.no_grad():\n",
    "    for X_batch, y_batch in val_loader:\n",
    "        X_batch, y_batch = X_batch.to(device), y_batch.to(device)\n",
    "\n",
    "        outputs = model(X_batch)\n",
    "        _, y_pred = outputs.max(1)\n",
    "\n",
    "        all_y_true.append(y_batch.cpu().numpy())\n",
    "        all_y_pred.append(y_pred.cpu().numpy())\n",
    "\n",
    "all_y_true = np.concatenate(all_y_true)\n",
    "all_y_pred = np.concatenate(all_y_pred)\n",
    "\n",
    "cm = confusion_matrix(all_y_true, all_y_pred)\n",
    "disp = ConfusionMatrixDisplay(confusion_matrix=cm)\n",
    "disp.plot(cmap=\"Blues\", values_format=\"d\")\n",
    "plt.title(\"Confusion Matrix on Test Set\")\n",
    "plt.show()\n",
    "\n",
    "accuracy = accuracy_score(all_y_true, all_y_pred)\n",
    "precision = precision_score(all_y_true, all_y_pred, average='macro')\n",
    "recall = recall_score(all_y_true, all_y_pred, average='macro')\n",
    "f1 = f1_score(all_y_true, all_y_pred, average='macro')\n",
    "\n",
    "print(f\"Test Accuracy: {accuracy:.4f}\")\n",
    "print(f\"Test Precision (macro): {precision:.4f}\")\n",
    "print(f\"Test Recall (macro): {recall:.4f}\")\n",
    "print(f\"Test F1 Score (macro): {f1:.4f}\")"
   ]
  },
  {
   "cell_type": "code",
   "execution_count": null,
   "id": "2a94ed52-af4d-465f-b866-62be6de07fc9",
   "metadata": {},
   "outputs": [],
   "source": []
  },
  {
   "cell_type": "code",
   "execution_count": null,
   "id": "028134a2-f051-457a-b511-85591e5f00d5",
   "metadata": {},
   "outputs": [],
   "source": []
  },
  {
   "cell_type": "code",
   "execution_count": null,
   "id": "096b419b-8a7e-4678-a27b-977c3c570ab5",
   "metadata": {},
   "outputs": [],
   "source": []
  },
  {
   "cell_type": "code",
   "execution_count": null,
   "id": "96b91e4a-223c-44a8-bbc1-76fd3e8058aa",
   "metadata": {},
   "outputs": [],
   "source": []
  },
  {
   "cell_type": "code",
   "execution_count": null,
   "id": "a108a128-680d-4998-80f9-21a2429df04b",
   "metadata": {},
   "outputs": [],
   "source": []
  },
  {
   "cell_type": "code",
   "execution_count": null,
   "id": "617b16b8-fb8e-4807-977a-6a8755bdfaec",
   "metadata": {},
   "outputs": [],
   "source": []
  },
  {
   "cell_type": "code",
   "execution_count": null,
   "id": "57384303-8515-4dba-ab58-b1b65328383a",
   "metadata": {},
   "outputs": [],
   "source": []
  },
  {
   "cell_type": "code",
   "execution_count": null,
   "id": "2af3d76b-e646-4ef2-bcd2-03d452d4099e",
   "metadata": {},
   "outputs": [],
   "source": []
  },
  {
   "cell_type": "code",
   "execution_count": null,
   "id": "683fd3cf-3a37-4ba7-bcc4-149cd44c1f66",
   "metadata": {},
   "outputs": [],
   "source": []
  },
  {
   "cell_type": "code",
   "execution_count": null,
   "id": "d699c015-fa75-4ed6-94da-7498456b72ee",
   "metadata": {},
   "outputs": [],
   "source": []
  },
  {
   "cell_type": "code",
   "execution_count": null,
   "id": "187dd4c7-6677-4760-a0bd-40e3fac2dea3",
   "metadata": {},
   "outputs": [],
   "source": []
  },
  {
   "cell_type": "code",
   "execution_count": null,
   "id": "2b6bca11-5f4c-45f4-a363-f7085a627230",
   "metadata": {},
   "outputs": [],
   "source": []
  },
  {
   "cell_type": "code",
   "execution_count": null,
   "id": "5990ac49-1af4-4046-b73d-93e372f53604",
   "metadata": {},
   "outputs": [],
   "source": []
  },
  {
   "cell_type": "code",
   "execution_count": null,
   "id": "6e1b1304-8d37-4668-8239-3c5c94cd5767",
   "metadata": {},
   "outputs": [],
   "source": []
  },
  {
   "cell_type": "code",
   "execution_count": null,
   "id": "62d5ec67-e4e7-4699-b20e-add8e294bdda",
   "metadata": {},
   "outputs": [],
   "source": []
  },
  {
   "cell_type": "code",
   "execution_count": null,
   "id": "257dceed-4973-4a1a-88ec-df9661a242df",
   "metadata": {},
   "outputs": [],
   "source": []
  },
  {
   "cell_type": "code",
   "execution_count": null,
   "id": "6c5e6de9-3da6-4969-bd57-92f9c884b877",
   "metadata": {},
   "outputs": [],
   "source": []
  },
  {
   "cell_type": "code",
   "execution_count": null,
   "id": "fe764be8-e7ac-49e3-bd06-a57d1497ac8c",
   "metadata": {},
   "outputs": [],
   "source": []
  },
  {
   "cell_type": "code",
   "execution_count": null,
   "id": "3fd08c1c-7030-44a7-8b34-57596dc2e2ec",
   "metadata": {},
   "outputs": [],
   "source": []
  },
  {
   "cell_type": "code",
   "execution_count": null,
   "id": "1edb61de-c485-40db-9bca-529c1bde6543",
   "metadata": {},
   "outputs": [],
   "source": []
  },
  {
   "cell_type": "code",
   "execution_count": null,
   "id": "15b52469-3a4a-47a9-8d69-4570028671eb",
   "metadata": {},
   "outputs": [],
   "source": []
  }
 ],
 "metadata": {
  "kernelspec": {
   "display_name": "Python 3 (ipykernel)",
   "language": "python",
   "name": "python3"
  },
  "language_info": {
   "codemirror_mode": {
    "name": "ipython",
    "version": 3
   },
   "file_extension": ".py",
   "mimetype": "text/x-python",
   "name": "python",
   "nbconvert_exporter": "python",
   "pygments_lexer": "ipython3",
   "version": "3.11.2"
  }
 },
 "nbformat": 4,
 "nbformat_minor": 5
}
