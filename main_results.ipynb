{
 "cells": [
  {
   "cell_type": "code",
   "execution_count": 1,
   "id": "58c9875c-6e65-41ca-aeca-504d8559cd39",
   "metadata": {},
   "outputs": [],
   "source": [
    "import os\n",
    "import torch\n",
    "import numpy as np\n",
    "import pandas as pd\n",
    "import matplotlib.pyplot as plt\n",
    "import seaborn as sns\n",
    "\n",
    "from sklearn.metrics import accuracy_score, precision_score, recall_score, f1_score\n",
    "from torch.utils.data import DataLoader\n",
    "from utils.fi2010_loader import Dataset_fi2010\n",
    "from utils.crypto_loader import load_crypto\n",
    "from models.deepLOB.deepLOB_model import Deeplob\n",
    "from models.transLOB.transLOB_model import TransLOB\n",
    "\n",
    "from utils.fi2010_loader import Dataset_fi2010\n",
    "\n",
    "%load_ext autoreload\n",
    "%autoreload 2"
   ]
  },
  {
   "cell_type": "code",
   "execution_count": 2,
   "id": "d3fc2f91-d18b-4f82-a777-41d3a0935087",
   "metadata": {},
   "outputs": [],
   "source": [
    "normalizations = [\"Zscore\", \"DecPre\", \"MinMax\"]\n",
    "horizons = [0, 1, 2, 3, 4]\n",
    "dataset_type = \"fi2010\"\n",
    "device = torch.device(\"cuda\" if torch.cuda.is_available() else \"cpu\")"
   ]
  },
  {
   "cell_type": "code",
   "execution_count": 3,
   "id": "11902258-3fc9-4931-ab6b-b25c2ecbf024",
   "metadata": {},
   "outputs": [],
   "source": [
    "crypto_path = './data/crypto/BTC_1sec.csv'\n",
    "\n",
    "BATCH_SIZE = 128\n",
    "WINDOW_SIZE = 100\n",
    "LEVELS = 10\n",
    "HORIZONS=[10, 20, 30, 50, 100]\n",
    "TARGET_HORIZON = 20\n",
    "LABEL_ALPHA = 5e-5\n",
    "\n",
    "LEARNING_RATE = 1e-4\n",
    "ADAM_B1 = 0.9\n",
    "ADAM_B2 = 0.999\n",
    "WEIGHT_DECAY= 1e-5\n",
    "\n",
    "normalization = \"DecPre\"\n",
    "test_ratio = 0.3\n",
    "mode = False\n",
    "\n"
   ]
  },
  {
   "cell_type": "code",
   "execution_count": 4,
   "id": "14bd5947-4523-4d86-b17d-b8e50735858a",
   "metadata": {},
   "outputs": [],
   "source": [
    "# Dummy mapping from model name to constructor\n",
    "def get_model_class(name):\n",
    "    if name == \"deeplob\":\n",
    "        return Deeplob\n",
    "    elif name == \"translob\":\n",
    "        return TransLOB\n",
    "    else:\n",
    "        raise ValueError(\"Unknown model name\")\n",
    "\n",
    "def create_test_loader(model_name, normalization):\n",
    "    stock = [0, 1, 2, 3, 4]\n",
    "    days = [8, 9, 10]\n",
    "    T = 100\n",
    "    unsqueeze = model_name==\"deeplob\"\n",
    "    dataset_test = Dataset_fi2010(False, normalization, stock, days, T, 4, unsqueeze, False)\n",
    "    return DataLoader(dataset=dataset_test, batch_size=128, shuffle=False, num_workers=4)\n",
    "\n",
    "def evaluate_model(model_class, model_name, data_type, normalization, test_loader):\n",
    "    path = f\"./outputs/{data_type}/{model_name}_{normalization}.pth\"\n",
    "    # print(path)\n",
    "    if not os.path.exists(path):\n",
    "        print(f\"Model not found: {path}, skipping...\")\n",
    "        return {\n",
    "            \"accuracy\": np.nan,\n",
    "            \"f1\": np.nan,\n",
    "            \"precision\": np.nan,\n",
    "            \"recall\": np.nan\n",
    "        }\n",
    "    model = model_class()\n",
    "    model.load_state_dict(torch.load(path, map_location=device))\n",
    "    model.to(device)\n",
    "    model.eval()\n",
    "\n",
    "    all_y_true, all_y_pred = [], []\n",
    "    with torch.no_grad():\n",
    "        for X_batch, y_batch in test_loader:\n",
    "            X_batch, y_batch = X_batch.to(device), y_batch.to(device)\n",
    "            # print(X_batch.shape)\n",
    "            outputs = model(X_batch)\n",
    "            preds = outputs.argmax(dim=1)\n",
    "            all_y_true.append(y_batch.cpu().numpy())\n",
    "            all_y_pred.append(preds.cpu().numpy())\n",
    "\n",
    "    y_true = np.concatenate(all_y_true)\n",
    "    y_pred = np.concatenate(all_y_pred)\n",
    "\n",
    "    return {\n",
    "        \"accuracy\": accuracy_score(y_true, y_pred),\n",
    "        \"f1\": f1_score(y_true, y_pred, average=\"macro\"),\n",
    "        \"precision\": precision_score(y_true, y_pred, average=\"macro\"),\n",
    "        \"recall\": recall_score(y_true, y_pred, average=\"macro\"),\n",
    "    }"
   ]
  },
  {
   "cell_type": "code",
   "execution_count": 5,
   "id": "66915e2b-1eb0-4422-8f37-2da7a3aaaf0b",
   "metadata": {
    "scrolled": true
   },
   "outputs": [
    {
     "name": "stdout",
     "output_type": "stream",
     "text": [
      "Evaluating deeplob | DecPre\n",
      "Evaluating deeplob | Zscore\n",
      "Evaluating deeplob | MinMax\n",
      "Evaluating translob | DecPre\n",
      "Evaluating translob | Zscore\n",
      "Evaluating translob | MinMax\n"
     ]
    }
   ],
   "source": [
    "results_crypto = []\n",
    "data_type = \"crypto\"\n",
    "for model_name in [\"deeplob\", \"translob\"]:\n",
    "    mode = model_name == \"deeplob\"\n",
    "    for normalization in ['DecPre','Zscore','MinMax']:\n",
    "        print(f\"Evaluating {model_name} | {normalization}\")\n",
    "        train_dataset, test_dataset = load_crypto(crypto_path, LEVELS, HORIZONS, TARGET_HORIZON, LABEL_ALPHA, \n",
    "                                     normalization, test_ratio, 400000, WINDOW_SIZE, mode, False) # run fro 300k\n",
    "        test_loader = DataLoader(test_dataset, batch_size=BATCH_SIZE, shuffle=False)\n",
    "        \n",
    "        model_class = get_model_class(model_name)\n",
    "        metrics = evaluate_model(model_class, model_name, data_type, normalization, test_loader)\n",
    "\n",
    "        results_crypto.append({\n",
    "            \"model\": model_name,\n",
    "            \"normalization\": normalization,\n",
    "            **metrics\n",
    "        })"
   ]
  },
  {
   "cell_type": "code",
   "execution_count": 6,
   "id": "94507fe6-71cb-400e-b6c1-dacf0f3ccc2c",
   "metadata": {},
   "outputs": [
    {
     "data": {
      "text/html": [
       "<div>\n",
       "<style scoped>\n",
       "    .dataframe tbody tr th:only-of-type {\n",
       "        vertical-align: middle;\n",
       "    }\n",
       "\n",
       "    .dataframe tbody tr th {\n",
       "        vertical-align: top;\n",
       "    }\n",
       "\n",
       "    .dataframe thead th {\n",
       "        text-align: right;\n",
       "    }\n",
       "</style>\n",
       "<table border=\"1\" class=\"dataframe\">\n",
       "  <thead>\n",
       "    <tr style=\"text-align: right;\">\n",
       "      <th></th>\n",
       "      <th>model</th>\n",
       "      <th>normalization</th>\n",
       "      <th>accuracy</th>\n",
       "      <th>f1</th>\n",
       "      <th>precision</th>\n",
       "      <th>recall</th>\n",
       "    </tr>\n",
       "  </thead>\n",
       "  <tbody>\n",
       "    <tr>\n",
       "      <th>0</th>\n",
       "      <td>deeplob</td>\n",
       "      <td>DecPre</td>\n",
       "      <td>0.665500</td>\n",
       "      <td>0.653012</td>\n",
       "      <td>0.666453</td>\n",
       "      <td>0.651511</td>\n",
       "    </tr>\n",
       "    <tr>\n",
       "      <th>1</th>\n",
       "      <td>deeplob</td>\n",
       "      <td>Zscore</td>\n",
       "      <td>0.662042</td>\n",
       "      <td>0.650448</td>\n",
       "      <td>0.665461</td>\n",
       "      <td>0.648428</td>\n",
       "    </tr>\n",
       "    <tr>\n",
       "      <th>2</th>\n",
       "      <td>deeplob</td>\n",
       "      <td>MinMax</td>\n",
       "      <td>0.648075</td>\n",
       "      <td>0.636754</td>\n",
       "      <td>0.643668</td>\n",
       "      <td>0.635870</td>\n",
       "    </tr>\n",
       "    <tr>\n",
       "      <th>3</th>\n",
       "      <td>translob</td>\n",
       "      <td>DecPre</td>\n",
       "      <td>0.504433</td>\n",
       "      <td>0.474296</td>\n",
       "      <td>0.519104</td>\n",
       "      <td>0.483017</td>\n",
       "    </tr>\n",
       "    <tr>\n",
       "      <th>4</th>\n",
       "      <td>translob</td>\n",
       "      <td>Zscore</td>\n",
       "      <td>0.508908</td>\n",
       "      <td>0.486133</td>\n",
       "      <td>0.511638</td>\n",
       "      <td>0.490563</td>\n",
       "    </tr>\n",
       "    <tr>\n",
       "      <th>5</th>\n",
       "      <td>translob</td>\n",
       "      <td>MinMax</td>\n",
       "      <td>0.472825</td>\n",
       "      <td>0.437310</td>\n",
       "      <td>0.481250</td>\n",
       "      <td>0.450247</td>\n",
       "    </tr>\n",
       "  </tbody>\n",
       "</table>\n",
       "</div>"
      ],
      "text/plain": [
       "      model normalization  accuracy        f1  precision    recall\n",
       "0   deeplob        DecPre  0.665500  0.653012   0.666453  0.651511\n",
       "1   deeplob        Zscore  0.662042  0.650448   0.665461  0.648428\n",
       "2   deeplob        MinMax  0.648075  0.636754   0.643668  0.635870\n",
       "3  translob        DecPre  0.504433  0.474296   0.519104  0.483017\n",
       "4  translob        Zscore  0.508908  0.486133   0.511638  0.490563\n",
       "5  translob        MinMax  0.472825  0.437310   0.481250  0.450247"
      ]
     },
     "execution_count": 6,
     "metadata": {},
     "output_type": "execute_result"
    }
   ],
   "source": [
    "results_crypto = pd.DataFrame(results_crypto)\n",
    "results_crypto"
   ]
  },
  {
   "cell_type": "code",
   "execution_count": null,
   "id": "d516b7f8-f7c6-4f44-91af-6b06e4da1b09",
   "metadata": {},
   "outputs": [],
   "source": []
  },
  {
   "cell_type": "code",
   "execution_count": null,
   "id": "cce74688-168b-4f22-931c-5a1a0fe6864f",
   "metadata": {},
   "outputs": [],
   "source": []
  },
  {
   "cell_type": "code",
   "execution_count": null,
   "id": "4497104a-4590-41a3-abec-b0869e1e4a08",
   "metadata": {},
   "outputs": [],
   "source": []
  },
  {
   "cell_type": "code",
   "execution_count": null,
   "id": "43bb87ff-a5fc-4300-9984-bcc3716cea53",
   "metadata": {},
   "outputs": [],
   "source": []
  },
  {
   "cell_type": "code",
   "execution_count": 7,
   "id": "c799d0c3-5637-4616-8c3f-71b29d702489",
   "metadata": {
    "scrolled": true
   },
   "outputs": [
    {
     "name": "stdout",
     "output_type": "stream",
     "text": [
      "Evaluating deeplob | Zscore\n",
      "Evaluating deeplob | DecPre\n",
      "Evaluating deeplob | MinMax\n",
      "Evaluating translob | Zscore\n",
      "Evaluating translob | DecPre\n",
      "Evaluating translob | MinMax\n",
      "Model not found: ./outputs/fi2010/translob_MinMax.pth, skipping...\n"
     ]
    }
   ],
   "source": [
    "results_fi2010 = []\n",
    "data_type = \"fi2010\"\n",
    "model_names = [\"deeplob\", \"translob\"]\n",
    "for model_name in model_names:\n",
    "    for normalization in normalizations:\n",
    "        print(f\"Evaluating {model_name} | {normalization}\")\n",
    "        test_loader = create_test_loader(model_name, normalization)\n",
    "        model_class = get_model_class(model_name)\n",
    "        metrics = evaluate_model(model_class, model_name, data_type, normalization, test_loader)\n",
    "\n",
    "        results_fi2010.append({\n",
    "            \"model\": model_name,\n",
    "            \"normalization\": normalization,\n",
    "            **metrics\n",
    "        })"
   ]
  },
  {
   "cell_type": "code",
   "execution_count": 8,
   "id": "987efcbf-5af3-4eda-bc89-6bf8b6e7fac2",
   "metadata": {},
   "outputs": [
    {
     "data": {
      "text/html": [
       "<div>\n",
       "<style scoped>\n",
       "    .dataframe tbody tr th:only-of-type {\n",
       "        vertical-align: middle;\n",
       "    }\n",
       "\n",
       "    .dataframe tbody tr th {\n",
       "        vertical-align: top;\n",
       "    }\n",
       "\n",
       "    .dataframe thead th {\n",
       "        text-align: right;\n",
       "    }\n",
       "</style>\n",
       "<table border=\"1\" class=\"dataframe\">\n",
       "  <thead>\n",
       "    <tr style=\"text-align: right;\">\n",
       "      <th></th>\n",
       "      <th>model</th>\n",
       "      <th>normalization</th>\n",
       "      <th>accuracy</th>\n",
       "      <th>f1</th>\n",
       "      <th>precision</th>\n",
       "      <th>recall</th>\n",
       "    </tr>\n",
       "  </thead>\n",
       "  <tbody>\n",
       "    <tr>\n",
       "      <th>0</th>\n",
       "      <td>deeplob</td>\n",
       "      <td>Zscore</td>\n",
       "      <td>0.737795</td>\n",
       "      <td>0.736996</td>\n",
       "      <td>0.737827</td>\n",
       "      <td>0.736496</td>\n",
       "    </tr>\n",
       "    <tr>\n",
       "      <th>1</th>\n",
       "      <td>deeplob</td>\n",
       "      <td>DecPre</td>\n",
       "      <td>0.748114</td>\n",
       "      <td>0.746521</td>\n",
       "      <td>0.746699</td>\n",
       "      <td>0.746598</td>\n",
       "    </tr>\n",
       "    <tr>\n",
       "      <th>2</th>\n",
       "      <td>deeplob</td>\n",
       "      <td>MinMax</td>\n",
       "      <td>0.736492</td>\n",
       "      <td>0.735622</td>\n",
       "      <td>0.736583</td>\n",
       "      <td>0.735113</td>\n",
       "    </tr>\n",
       "    <tr>\n",
       "      <th>3</th>\n",
       "      <td>translob</td>\n",
       "      <td>Zscore</td>\n",
       "      <td>0.665964</td>\n",
       "      <td>0.666651</td>\n",
       "      <td>0.670932</td>\n",
       "      <td>0.665874</td>\n",
       "    </tr>\n",
       "    <tr>\n",
       "      <th>4</th>\n",
       "      <td>translob</td>\n",
       "      <td>DecPre</td>\n",
       "      <td>0.634632</td>\n",
       "      <td>0.634573</td>\n",
       "      <td>0.650233</td>\n",
       "      <td>0.632358</td>\n",
       "    </tr>\n",
       "    <tr>\n",
       "      <th>5</th>\n",
       "      <td>translob</td>\n",
       "      <td>MinMax</td>\n",
       "      <td>NaN</td>\n",
       "      <td>NaN</td>\n",
       "      <td>NaN</td>\n",
       "      <td>NaN</td>\n",
       "    </tr>\n",
       "  </tbody>\n",
       "</table>\n",
       "</div>"
      ],
      "text/plain": [
       "      model normalization  accuracy        f1  precision    recall\n",
       "0   deeplob        Zscore  0.737795  0.736996   0.737827  0.736496\n",
       "1   deeplob        DecPre  0.748114  0.746521   0.746699  0.746598\n",
       "2   deeplob        MinMax  0.736492  0.735622   0.736583  0.735113\n",
       "3  translob        Zscore  0.665964  0.666651   0.670932  0.665874\n",
       "4  translob        DecPre  0.634632  0.634573   0.650233  0.632358\n",
       "5  translob        MinMax       NaN       NaN        NaN       NaN"
      ]
     },
     "execution_count": 8,
     "metadata": {},
     "output_type": "execute_result"
    }
   ],
   "source": [
    "results_fi2010 = pd.DataFrame(results_fi2010)\n",
    "results_fi2010"
   ]
  },
  {
   "cell_type": "code",
   "execution_count": null,
   "id": "49b82a80-d75b-4caa-98ed-3af20df25cd5",
   "metadata": {},
   "outputs": [],
   "source": [
    "\n",
    "# results_df.to_csv(\"./outputs/fi2010_model_results.csv\", index=False)\n",
    "\n",
    "# Plot example: Accuracy\n",
    "plt.figure(figsize=(12, 6))\n",
    "sns.lineplot(data=results_fi2010, x=\"horizon_k\", y=\"accuracy\", hue=\"model\", style=\"normalization\", markers=True)\n",
    "plt.title(\"Accuracy across Horizons (FI-2010)\")\n",
    "plt.grid(True)\n",
    "plt.tight_layout()\n",
    "plt.show()\n"
   ]
  },
  {
   "cell_type": "code",
   "execution_count": null,
   "id": "0ce23ef1-537d-406b-bd78-aa03f867fb19",
   "metadata": {},
   "outputs": [],
   "source": []
  },
  {
   "cell_type": "code",
   "execution_count": null,
   "id": "a19d2564-9b1a-4504-8afe-e61ebe19b0f9",
   "metadata": {},
   "outputs": [],
   "source": []
  },
  {
   "cell_type": "code",
   "execution_count": null,
   "id": "f87e5380-aa63-4e88-8249-80a7542c2923",
   "metadata": {},
   "outputs": [],
   "source": []
  },
  {
   "cell_type": "code",
   "execution_count": null,
   "id": "c4aa8a18-b82a-4e4d-a926-0b03df56bdb3",
   "metadata": {},
   "outputs": [],
   "source": []
  },
  {
   "cell_type": "code",
   "execution_count": null,
   "id": "6b128ade-9cc1-4d5b-a7c1-abc129d3ae82",
   "metadata": {},
   "outputs": [],
   "source": []
  },
  {
   "cell_type": "code",
   "execution_count": null,
   "id": "74b45fd2-34b1-44c1-9f2b-25393bb238de",
   "metadata": {},
   "outputs": [],
   "source": []
  },
  {
   "cell_type": "code",
   "execution_count": null,
   "id": "6b4c9bce-c416-414f-81ec-bde77bbe8a48",
   "metadata": {},
   "outputs": [],
   "source": []
  },
  {
   "cell_type": "code",
   "execution_count": null,
   "id": "0c6de619-0b22-4988-8f2c-d51aaab3a756",
   "metadata": {},
   "outputs": [],
   "source": []
  },
  {
   "cell_type": "code",
   "execution_count": null,
   "id": "04cf4a3e-c130-4b50-803e-f311d9d29b38",
   "metadata": {},
   "outputs": [],
   "source": []
  },
  {
   "cell_type": "code",
   "execution_count": null,
   "id": "2be0e673-89d6-4a6c-af9f-7456cc707939",
   "metadata": {},
   "outputs": [],
   "source": []
  },
  {
   "cell_type": "code",
   "execution_count": null,
   "id": "2687b027-d37e-4c07-8e40-d91cf1fc8a7f",
   "metadata": {},
   "outputs": [],
   "source": []
  },
  {
   "cell_type": "code",
   "execution_count": null,
   "id": "6f4312c9-4dbe-40ce-b3a1-f458d27cab5d",
   "metadata": {},
   "outputs": [],
   "source": []
  },
  {
   "cell_type": "code",
   "execution_count": null,
   "id": "23319dd4-2fd4-4578-b81f-38c894708c47",
   "metadata": {},
   "outputs": [],
   "source": []
  },
  {
   "cell_type": "code",
   "execution_count": null,
   "id": "ecc5a6d8-a070-4fcf-9667-3846481613bb",
   "metadata": {},
   "outputs": [],
   "source": []
  },
  {
   "cell_type": "code",
   "execution_count": null,
   "id": "2c08f6e3-2631-4cd0-9f0f-f279886f4be1",
   "metadata": {},
   "outputs": [],
   "source": []
  },
  {
   "cell_type": "code",
   "execution_count": null,
   "id": "fd9958e8-9e25-4f67-a2b9-b131f5377e97",
   "metadata": {},
   "outputs": [],
   "source": []
  },
  {
   "cell_type": "code",
   "execution_count": null,
   "id": "c4b6896e-b0dc-436d-b3f4-66dc153ac9df",
   "metadata": {},
   "outputs": [],
   "source": []
  },
  {
   "cell_type": "code",
   "execution_count": null,
   "id": "a862e39e-3a64-44f6-94f4-61da8d6066ef",
   "metadata": {},
   "outputs": [],
   "source": []
  },
  {
   "cell_type": "code",
   "execution_count": null,
   "id": "09103605-cf3e-42f8-a10f-3190933d2935",
   "metadata": {},
   "outputs": [],
   "source": []
  },
  {
   "cell_type": "code",
   "execution_count": null,
   "id": "97386354-d64d-4b6f-872b-50b5a66d39f6",
   "metadata": {},
   "outputs": [],
   "source": []
  },
  {
   "cell_type": "code",
   "execution_count": null,
   "id": "6aebe09b-7ace-40b7-8b1a-8b23c6ca419c",
   "metadata": {},
   "outputs": [],
   "source": []
  },
  {
   "cell_type": "code",
   "execution_count": null,
   "id": "6d9a1bec-b82c-4832-a4ef-4e1c587065e2",
   "metadata": {},
   "outputs": [],
   "source": []
  },
  {
   "cell_type": "code",
   "execution_count": null,
   "id": "a3b3760c-f74b-4966-ac2b-ee1b5909b6a7",
   "metadata": {},
   "outputs": [],
   "source": []
  },
  {
   "cell_type": "code",
   "execution_count": null,
   "id": "b916e92d-e3e5-4f39-87ee-e2fc45aa6059",
   "metadata": {},
   "outputs": [],
   "source": []
  },
  {
   "cell_type": "code",
   "execution_count": null,
   "id": "e0b0d3dd-1bea-42f2-8b5d-360f872160c1",
   "metadata": {},
   "outputs": [],
   "source": []
  },
  {
   "cell_type": "code",
   "execution_count": null,
   "id": "ee72931e-a877-4a52-843f-3eea1c51e45f",
   "metadata": {},
   "outputs": [],
   "source": []
  },
  {
   "cell_type": "code",
   "execution_count": null,
   "id": "c156355a-8be5-474a-96f1-68c0f0ec5296",
   "metadata": {},
   "outputs": [],
   "source": []
  },
  {
   "cell_type": "code",
   "execution_count": null,
   "id": "72240a46-7e2b-47eb-9d84-8a82136de18e",
   "metadata": {},
   "outputs": [],
   "source": []
  },
  {
   "cell_type": "code",
   "execution_count": null,
   "id": "bf1fa122-efb5-45c2-b6e1-e6d8754e81de",
   "metadata": {},
   "outputs": [],
   "source": []
  }
 ],
 "metadata": {
  "kernelspec": {
   "display_name": "Python 3 (ipykernel)",
   "language": "python",
   "name": "python3"
  },
  "language_info": {
   "codemirror_mode": {
    "name": "ipython",
    "version": 3
   },
   "file_extension": ".py",
   "mimetype": "text/x-python",
   "name": "python",
   "nbconvert_exporter": "python",
   "pygments_lexer": "ipython3",
   "version": "3.11.2"
  }
 },
 "nbformat": 4,
 "nbformat_minor": 5
}
