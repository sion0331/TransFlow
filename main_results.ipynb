{
 "cells": [
  {
   "cell_type": "code",
   "execution_count": 1,
   "id": "58c9875c-6e65-41ca-aeca-504d8559cd39",
   "metadata": {},
   "outputs": [],
   "source": [
    "import os\n",
    "import torch\n",
    "import numpy as np\n",
    "import pandas as pd\n",
    "import matplotlib.pyplot as plt\n",
    "import seaborn as sns\n",
    "\n",
    "from sklearn.metrics import accuracy_score, precision_score, recall_score, f1_score\n",
    "from torch.utils.data import DataLoader\n",
    "from utils.fi2010_loader import Dataset_fi2010\n",
    "from utils.crypto_loader import load_crypto\n",
    "from models.deepLOB.deepLOB_model import Deeplob\n",
    "from models.transLOB.transLOB_model import TransLOB\n",
    "\n",
    "from utils.fi2010_loader import Dataset_fi2010\n",
    "\n",
    "%load_ext autoreload\n",
    "%autoreload 2"
   ]
  },
  {
   "cell_type": "code",
   "execution_count": 20,
   "id": "d3fc2f91-d18b-4f82-a777-41d3a0935087",
   "metadata": {},
   "outputs": [],
   "source": [
    "normalizations = [\"Zscore\", \"DecPre\", \"MinMax\"]\n",
    "horizons = [0, 1, 2, 3, 4]\n",
    "dataset_type = \"fi2010\"\n",
    "device = torch.device(\"cuda\" if torch.cuda.is_available() else \"cpu\")"
   ]
  },
  {
   "cell_type": "code",
   "execution_count": 3,
   "id": "11902258-3fc9-4931-ab6b-b25c2ecbf024",
   "metadata": {},
   "outputs": [
    {
     "name": "stdout",
     "output_type": "stream",
     "text": [
      "Train shape: (280000, 100, 40), (280000,)\n",
      "Test shape: (120000, 100, 40), (120000,)\n"
     ]
    }
   ],
   "source": [
    "crypto_path = './data/crypto/BTC_1sec.csv'\n",
    "\n",
    "BATCH_SIZE = 128\n",
    "WINDOW_SIZE = 100\n",
    "LEVELS = 10\n",
    "HORIZONS=[10, 20, 30, 50, 100]\n",
    "TARGET_HORIZON = 20\n",
    "LABEL_ALPHA = 5e-5\n",
    "\n",
    "LEARNING_RATE = 1e-4\n",
    "ADAM_B1 = 0.9\n",
    "ADAM_B2 = 0.999\n",
    "WEIGHT_DECAY= 1e-5\n",
    "\n",
    "normalization = \"DecPre\"\n",
    "test_ratio = 0.3\n",
    "mode = False\n",
    "\n"
   ]
  },
  {
   "cell_type": "code",
   "execution_count": 4,
   "id": "94913f1e-9653-443e-bb7f-f47849c2d762",
   "metadata": {},
   "outputs": [],
   "source": [
    "\n",
    "train_loader = DataLoader(train_dataset, batch_size=BATCH_SIZE, shuffle=True)\n",
    "val_loader = DataLoader(val_dataset, batch_size=BATCH_SIZE, shuffle=False)"
   ]
  },
  {
   "cell_type": "code",
   "execution_count": 14,
   "id": "66915e2b-1eb0-4422-8f37-2da7a3aaaf0b",
   "metadata": {},
   "outputs": [
    {
     "name": "stdout",
     "output_type": "stream",
     "text": [
      "True\n",
      "Evaluating deeplob | DecPre\n",
      "Train shape: (280000, 100, 40), (280000,)\n",
      "Test shape: (120000, 100, 40), (120000,)\n",
      "torch.Size([128, 1, 100, 40])\n",
      "./outputs/crypto/deeplob_DecPre.pth\n",
      "Evaluating deeplob | Zscore\n",
      "Train shape: (280000, 100, 40), (280000,)\n",
      "Test shape: (120000, 100, 40), (120000,)\n",
      "torch.Size([128, 1, 100, 40])\n",
      "./outputs/crypto/deeplob_Zscore.pth\n",
      "False\n",
      "Evaluating translob | DecPre\n",
      "Train shape: (280000, 100, 40), (280000,)\n",
      "Test shape: (120000, 100, 40), (120000,)\n",
      "torch.Size([128, 100, 40])\n",
      "./outputs/crypto/translob_DecPre.pth\n",
      "Evaluating translob | Zscore\n",
      "Train shape: (280000, 100, 40), (280000,)\n",
      "Test shape: (120000, 100, 40), (120000,)\n",
      "torch.Size([128, 100, 40])\n",
      "./outputs/crypto/translob_Zscore.pth\n"
     ]
    }
   ],
   "source": [
    "results_crypto = []\n",
    "data_type = \"crypto\"\n",
    "for model_name in [\"deeplob\", \"translob\"]:\n",
    "    mode = model_name == \"deeplob\"\n",
    "    for normalization in ['DecPre','Zscore']:\n",
    "        print(f\"Evaluating {model_name} | {normalization}\")\n",
    "        train_dataset, test_dataset = load_crypto(crypto_path, LEVELS, HORIZONS, TARGET_HORIZON, LABEL_ALPHA, \n",
    "                                     normalization, test_ratio, 400000, WINDOW_SIZE, mode, False) # run fro 300k\n",
    "        test_loader = DataLoader(test_dataset, batch_size=BATCH_SIZE, shuffle=False)\n",
    "        print('Test Shape: ', print(next(iter(train_loader))[0].shape))\n",
    "        \n",
    "        model_class = get_model_class(model_name)\n",
    "        metrics = evaluate_model(model_class, model_name, data_type, normalization, test_loader)\n",
    "\n",
    "        results_crypto.append({\n",
    "            \"model\": model_name,\n",
    "            \"normalization\": normalization,\n",
    "            **metrics\n",
    "        })"
   ]
  },
  {
   "cell_type": "code",
   "execution_count": 16,
   "id": "94507fe6-71cb-400e-b6c1-dacf0f3ccc2c",
   "metadata": {},
   "outputs": [
    {
     "data": {
      "text/html": [
       "<div>\n",
       "<style scoped>\n",
       "    .dataframe tbody tr th:only-of-type {\n",
       "        vertical-align: middle;\n",
       "    }\n",
       "\n",
       "    .dataframe tbody tr th {\n",
       "        vertical-align: top;\n",
       "    }\n",
       "\n",
       "    .dataframe thead th {\n",
       "        text-align: right;\n",
       "    }\n",
       "</style>\n",
       "<table border=\"1\" class=\"dataframe\">\n",
       "  <thead>\n",
       "    <tr style=\"text-align: right;\">\n",
       "      <th></th>\n",
       "      <th>model</th>\n",
       "      <th>normalization</th>\n",
       "      <th>accuracy</th>\n",
       "      <th>f1</th>\n",
       "      <th>precision</th>\n",
       "      <th>recall</th>\n",
       "    </tr>\n",
       "  </thead>\n",
       "  <tbody>\n",
       "    <tr>\n",
       "      <th>0</th>\n",
       "      <td>deeplob</td>\n",
       "      <td>DecPre</td>\n",
       "      <td>0.665500</td>\n",
       "      <td>0.653012</td>\n",
       "      <td>0.666453</td>\n",
       "      <td>0.651511</td>\n",
       "    </tr>\n",
       "    <tr>\n",
       "      <th>1</th>\n",
       "      <td>deeplob</td>\n",
       "      <td>Zscore</td>\n",
       "      <td>0.662042</td>\n",
       "      <td>0.650448</td>\n",
       "      <td>0.665461</td>\n",
       "      <td>0.648428</td>\n",
       "    </tr>\n",
       "    <tr>\n",
       "      <th>2</th>\n",
       "      <td>translob</td>\n",
       "      <td>DecPre</td>\n",
       "      <td>0.460442</td>\n",
       "      <td>0.410492</td>\n",
       "      <td>0.478884</td>\n",
       "      <td>0.434053</td>\n",
       "    </tr>\n",
       "    <tr>\n",
       "      <th>3</th>\n",
       "      <td>translob</td>\n",
       "      <td>Zscore</td>\n",
       "      <td>0.411858</td>\n",
       "      <td>0.321025</td>\n",
       "      <td>0.501102</td>\n",
       "      <td>0.380747</td>\n",
       "    </tr>\n",
       "  </tbody>\n",
       "</table>\n",
       "</div>"
      ],
      "text/plain": [
       "      model normalization  accuracy        f1  precision    recall\n",
       "0   deeplob        DecPre  0.665500  0.653012   0.666453  0.651511\n",
       "1   deeplob        Zscore  0.662042  0.650448   0.665461  0.648428\n",
       "2  translob        DecPre  0.460442  0.410492   0.478884  0.434053\n",
       "3  translob        Zscore  0.411858  0.321025   0.501102  0.380747"
      ]
     },
     "execution_count": 16,
     "metadata": {},
     "output_type": "execute_result"
    }
   ],
   "source": [
    "results_crypto = pd.DataFrame(results_crypto)\n",
    "results_crypto"
   ]
  },
  {
   "cell_type": "code",
   "execution_count": null,
   "id": "d516b7f8-f7c6-4f44-91af-6b06e4da1b09",
   "metadata": {},
   "outputs": [],
   "source": []
  },
  {
   "cell_type": "code",
   "execution_count": null,
   "id": "cce74688-168b-4f22-931c-5a1a0fe6864f",
   "metadata": {},
   "outputs": [],
   "source": []
  },
  {
   "cell_type": "code",
   "execution_count": null,
   "id": "4497104a-4590-41a3-abec-b0869e1e4a08",
   "metadata": {},
   "outputs": [],
   "source": []
  },
  {
   "cell_type": "code",
   "execution_count": null,
   "id": "43bb87ff-a5fc-4300-9984-bcc3716cea53",
   "metadata": {},
   "outputs": [],
   "source": []
  },
  {
   "cell_type": "code",
   "execution_count": 9,
   "id": "add64193-c23e-487e-be65-57273b7b8507",
   "metadata": {},
   "outputs": [],
   "source": [
    "# Dummy mapping from model name to constructor\n",
    "def get_model_class(name):\n",
    "    if name == \"deeplob\":\n",
    "        return Deeplob\n",
    "    elif name == \"translob\":\n",
    "        return TransLOB\n",
    "    else:\n",
    "        raise ValueError(\"Unknown model name\")\n",
    "\n",
    "def create_test_loader(model_name, normalization):\n",
    "    stock = [0, 1, 2, 3, 4]\n",
    "    days = [8, 9, 10]\n",
    "    T = 100\n",
    "    unsqueeze = model_name==\"deeplob\"\n",
    "    dataset_test = Dataset_fi2010(False, normalization, stock, days, T, 4, unsqueeze, False)\n",
    "    return DataLoader(dataset=dataset_test, batch_size=128, shuffle=False, num_workers=4)\n",
    "\n",
    "def evaluate_model(model_class, model_name, data_type, normalization, test_loader):\n",
    "    path = f\"./outputs/{data_type}/{model_name}_{normalization}.pth\"\n",
    "    print(path)\n",
    "    if not os.path.exists(path):\n",
    "        print(f\"Model not found: {path}, skipping...\")\n",
    "        return {\n",
    "            \"accuracy\": np.nan,\n",
    "            \"f1\": np.nan,\n",
    "            \"precision\": np.nan,\n",
    "            \"recall\": np.nan\n",
    "        }\n",
    "    model = model_class()\n",
    "    model.load_state_dict(torch.load(path, map_location=device))\n",
    "    model.to(device)\n",
    "    model.eval()\n",
    "\n",
    "    all_y_true, all_y_pred = [], []\n",
    "    with torch.no_grad():\n",
    "        for X_batch, y_batch in test_loader:\n",
    "            X_batch, y_batch = X_batch.to(device), y_batch.to(device)\n",
    "            print(X_batch.shape)\n",
    "            outputs = model(X_batch)\n",
    "            preds = outputs.argmax(dim=1)\n",
    "            all_y_true.append(y_batch.cpu().numpy())\n",
    "            all_y_pred.append(preds.cpu().numpy())\n",
    "\n",
    "    y_true = np.concatenate(all_y_true)\n",
    "    y_pred = np.concatenate(all_y_pred)\n",
    "\n",
    "    return {\n",
    "        \"accuracy\": accuracy_score(y_true, y_pred),\n",
    "        \"f1\": f1_score(y_true, y_pred, average=\"macro\"),\n",
    "        \"precision\": precision_score(y_true, y_pred, average=\"macro\"),\n",
    "        \"recall\": recall_score(y_true, y_pred, average=\"macro\"),\n",
    "    }"
   ]
  },
  {
   "cell_type": "code",
   "execution_count": 21,
   "id": "c799d0c3-5637-4616-8c3f-71b29d702489",
   "metadata": {},
   "outputs": [
    {
     "name": "stdout",
     "output_type": "stream",
     "text": [
      "Evaluating deeplob | Zscore\n",
      "./outputs/fi2010/deeplob_Zscore.pth\n",
      "Evaluating deeplob | DecPre\n",
      "./outputs/fi2010/deeplob_DecPre.pth\n",
      "Evaluating deeplob | MinMax\n",
      "./outputs/fi2010/deeplob_MinMax.pth\n",
      "Evaluating translob | Zscore\n",
      "./outputs/fi2010/translob_Zscore.pth\n",
      "Evaluating translob | DecPre\n",
      "./outputs/fi2010/translob_DecPre.pth\n",
      "Evaluating translob | MinMax\n",
      "./outputs/fi2010/translob_MinMax.pth\n",
      "Model not found: ./outputs/fi2010/translob_MinMax.pth, skipping...\n"
     ]
    }
   ],
   "source": [
    "results_fi2010 = []\n",
    "data_type = \"fi2010\"\n",
    "model_names = [\"deeplob\", \"translob\"]\n",
    "for model_name in model_names:\n",
    "    for normalization in normalizations:\n",
    "        print(f\"Evaluating {model_name} | {normalization}\")\n",
    "        test_loader = create_test_loader(model_name, normalization)\n",
    "        model_class = get_model_class(model_name)\n",
    "        metrics = evaluate_model(model_class, model_name, data_type, normalization, test_loader)\n",
    "\n",
    "        results_fi2010.append({\n",
    "            \"model\": model_name,\n",
    "            \"normalization\": normalization,\n",
    "            **metrics\n",
    "        })"
   ]
  },
  {
   "cell_type": "code",
   "execution_count": 23,
   "id": "987efcbf-5af3-4eda-bc89-6bf8b6e7fac2",
   "metadata": {},
   "outputs": [
    {
     "data": {
      "text/html": [
       "<div>\n",
       "<style scoped>\n",
       "    .dataframe tbody tr th:only-of-type {\n",
       "        vertical-align: middle;\n",
       "    }\n",
       "\n",
       "    .dataframe tbody tr th {\n",
       "        vertical-align: top;\n",
       "    }\n",
       "\n",
       "    .dataframe thead th {\n",
       "        text-align: right;\n",
       "    }\n",
       "</style>\n",
       "<table border=\"1\" class=\"dataframe\">\n",
       "  <thead>\n",
       "    <tr style=\"text-align: right;\">\n",
       "      <th></th>\n",
       "      <th>model</th>\n",
       "      <th>normalization</th>\n",
       "      <th>accuracy</th>\n",
       "      <th>f1</th>\n",
       "      <th>precision</th>\n",
       "      <th>recall</th>\n",
       "    </tr>\n",
       "  </thead>\n",
       "  <tbody>\n",
       "    <tr>\n",
       "      <th>0</th>\n",
       "      <td>deeplob</td>\n",
       "      <td>Zscore</td>\n",
       "      <td>0.737795</td>\n",
       "      <td>0.736996</td>\n",
       "      <td>0.737827</td>\n",
       "      <td>0.736496</td>\n",
       "    </tr>\n",
       "    <tr>\n",
       "      <th>1</th>\n",
       "      <td>deeplob</td>\n",
       "      <td>DecPre</td>\n",
       "      <td>0.748114</td>\n",
       "      <td>0.746521</td>\n",
       "      <td>0.746699</td>\n",
       "      <td>0.746598</td>\n",
       "    </tr>\n",
       "    <tr>\n",
       "      <th>2</th>\n",
       "      <td>deeplob</td>\n",
       "      <td>MinMax</td>\n",
       "      <td>0.736492</td>\n",
       "      <td>0.735622</td>\n",
       "      <td>0.736583</td>\n",
       "      <td>0.735113</td>\n",
       "    </tr>\n",
       "    <tr>\n",
       "      <th>3</th>\n",
       "      <td>translob</td>\n",
       "      <td>Zscore</td>\n",
       "      <td>0.665964</td>\n",
       "      <td>0.666651</td>\n",
       "      <td>0.670932</td>\n",
       "      <td>0.665874</td>\n",
       "    </tr>\n",
       "    <tr>\n",
       "      <th>4</th>\n",
       "      <td>translob</td>\n",
       "      <td>DecPre</td>\n",
       "      <td>0.634632</td>\n",
       "      <td>0.634573</td>\n",
       "      <td>0.650233</td>\n",
       "      <td>0.632358</td>\n",
       "    </tr>\n",
       "    <tr>\n",
       "      <th>5</th>\n",
       "      <td>translob</td>\n",
       "      <td>MinMax</td>\n",
       "      <td>NaN</td>\n",
       "      <td>NaN</td>\n",
       "      <td>NaN</td>\n",
       "      <td>NaN</td>\n",
       "    </tr>\n",
       "  </tbody>\n",
       "</table>\n",
       "</div>"
      ],
      "text/plain": [
       "      model normalization  accuracy        f1  precision    recall\n",
       "0   deeplob        Zscore  0.737795  0.736996   0.737827  0.736496\n",
       "1   deeplob        DecPre  0.748114  0.746521   0.746699  0.746598\n",
       "2   deeplob        MinMax  0.736492  0.735622   0.736583  0.735113\n",
       "3  translob        Zscore  0.665964  0.666651   0.670932  0.665874\n",
       "4  translob        DecPre  0.634632  0.634573   0.650233  0.632358\n",
       "5  translob        MinMax       NaN       NaN        NaN       NaN"
      ]
     },
     "execution_count": 23,
     "metadata": {},
     "output_type": "execute_result"
    }
   ],
   "source": [
    "results_fi2010 = pd.DataFrame(results_fi2010)\n",
    "results_fi2010"
   ]
  },
  {
   "cell_type": "code",
   "execution_count": null,
   "id": "9ed10936-2444-4da9-9afb-c9ccf249411f",
   "metadata": {},
   "outputs": [],
   "source": [
    "results = []\n",
    "\n",
    "def crypto_test_loader(normalization):\n",
    "    DATA_PATH = './data/crypto/BTC_1sec.csv'\n",
    "\n",
    "    \n",
    "    data_df = pd.read_csv(DATA_PATH, index_col=0)\n",
    "    \n",
    "    stock = [0, 1, 2, 3, 4]\n",
    "    days = [8, 9, 10]\n",
    "    T = 100\n",
    "    unsqueeze = model_name==\"deeplob\"\n",
    "    dataset_test = Dataset_fi2010(False, normalization, stock, days, T, 4, unsqueeze, False)\n",
    "    return DataLoader(dataset=dataset_test, batch_size=128, shuffle=False, num_workers=4)\n",
    "\n",
    "\n",
    "for data_types in [\"crypto\",\"fi2010\"]:\n",
    "    if data_types == \"crypto\":\n",
    "\n",
    "        \n",
    "    for model_name in model_names:\n",
    "        for normalization in normalizations:\n",
    "            print(f\"Evaluating {model_name} | {normalization}\")\n",
    "            test_loader = create_test_loader(model_name, normalization)\n",
    "            model_class = get_model_class(model_name)\n",
    "            metrics = evaluate_model(model_class, model_name, normalization, test_loader)\n",
    "    \n",
    "            results.append({\n",
    "                \"model\": model_name,\n",
    "                \"normalization\": normalization,\n",
    "                **metrics\n",
    "            })\n",
    "            # print(results)"
   ]
  },
  {
   "cell_type": "code",
   "execution_count": 6,
   "id": "49b82a80-d75b-4caa-98ed-3af20df25cd5",
   "metadata": {},
   "outputs": [
    {
     "ename": "ValueError",
     "evalue": "Could not interpret value `horizon_k` for `x`. An entry with this name does not appear in `data`.",
     "output_type": "error",
     "traceback": [
      "\u001b[31m---------------------------------------------------------------------------\u001b[39m",
      "\u001b[31mValueError\u001b[39m                                Traceback (most recent call last)",
      "\u001b[36mCell\u001b[39m\u001b[36m \u001b[39m\u001b[32mIn[6]\u001b[39m\u001b[32m, line 5\u001b[39m\n\u001b[32m      1\u001b[39m \u001b[38;5;66;03m# results_df.to_csv(\"./outputs/fi2010_model_results.csv\", index=False)\u001b[39;00m\n\u001b[32m      2\u001b[39m \n\u001b[32m      3\u001b[39m \u001b[38;5;66;03m# Plot example: Accuracy\u001b[39;00m\n\u001b[32m      4\u001b[39m plt.figure(figsize=(\u001b[32m12\u001b[39m, \u001b[32m6\u001b[39m))\n\u001b[32m----> \u001b[39m\u001b[32m5\u001b[39m \u001b[43msns\u001b[49m\u001b[43m.\u001b[49m\u001b[43mlineplot\u001b[49m\u001b[43m(\u001b[49m\u001b[43mdata\u001b[49m\u001b[43m=\u001b[49m\u001b[43mresults_df\u001b[49m\u001b[43m,\u001b[49m\u001b[43m \u001b[49m\u001b[43mx\u001b[49m\u001b[43m=\u001b[49m\u001b[33;43m\"\u001b[39;49m\u001b[33;43mhorizon_k\u001b[39;49m\u001b[33;43m\"\u001b[39;49m\u001b[43m,\u001b[49m\u001b[43m \u001b[49m\u001b[43my\u001b[49m\u001b[43m=\u001b[49m\u001b[33;43m\"\u001b[39;49m\u001b[33;43maccuracy\u001b[39;49m\u001b[33;43m\"\u001b[39;49m\u001b[43m,\u001b[49m\u001b[43m \u001b[49m\u001b[43mhue\u001b[49m\u001b[43m=\u001b[49m\u001b[33;43m\"\u001b[39;49m\u001b[33;43mmodel\u001b[39;49m\u001b[33;43m\"\u001b[39;49m\u001b[43m,\u001b[49m\u001b[43m \u001b[49m\u001b[43mstyle\u001b[49m\u001b[43m=\u001b[49m\u001b[33;43m\"\u001b[39;49m\u001b[33;43mnormalization\u001b[39;49m\u001b[33;43m\"\u001b[39;49m\u001b[43m,\u001b[49m\u001b[43m \u001b[49m\u001b[43mmarkers\u001b[49m\u001b[43m=\u001b[49m\u001b[38;5;28;43;01mTrue\u001b[39;49;00m\u001b[43m)\u001b[49m\n\u001b[32m      6\u001b[39m plt.title(\u001b[33m\"\u001b[39m\u001b[33mAccuracy across Horizons (FI-2010)\u001b[39m\u001b[33m\"\u001b[39m)\n\u001b[32m      7\u001b[39m plt.grid(\u001b[38;5;28;01mTrue\u001b[39;00m)\n",
      "\u001b[36mFile \u001b[39m\u001b[32m~/myenv/lib/python3.11/site-packages/seaborn/relational.py:485\u001b[39m, in \u001b[36mlineplot\u001b[39m\u001b[34m(data, x, y, hue, size, style, units, weights, palette, hue_order, hue_norm, sizes, size_order, size_norm, dashes, markers, style_order, estimator, errorbar, n_boot, seed, orient, sort, err_style, err_kws, legend, ci, ax, **kwargs)\u001b[39m\n\u001b[32m    471\u001b[39m \u001b[38;5;28;01mdef\u001b[39;00m\u001b[38;5;250m \u001b[39m\u001b[34mlineplot\u001b[39m(\n\u001b[32m    472\u001b[39m     data=\u001b[38;5;28;01mNone\u001b[39;00m, *,\n\u001b[32m    473\u001b[39m     x=\u001b[38;5;28;01mNone\u001b[39;00m, y=\u001b[38;5;28;01mNone\u001b[39;00m, hue=\u001b[38;5;28;01mNone\u001b[39;00m, size=\u001b[38;5;28;01mNone\u001b[39;00m, style=\u001b[38;5;28;01mNone\u001b[39;00m, units=\u001b[38;5;28;01mNone\u001b[39;00m, weights=\u001b[38;5;28;01mNone\u001b[39;00m,\n\u001b[32m   (...)\u001b[39m\u001b[32m    481\u001b[39m \n\u001b[32m    482\u001b[39m     \u001b[38;5;66;03m# Handle deprecation of ci parameter\u001b[39;00m\n\u001b[32m    483\u001b[39m     errorbar = _deprecate_ci(errorbar, ci)\n\u001b[32m--> \u001b[39m\u001b[32m485\u001b[39m     p = \u001b[43m_LinePlotter\u001b[49m\u001b[43m(\u001b[49m\n\u001b[32m    486\u001b[39m \u001b[43m        \u001b[49m\u001b[43mdata\u001b[49m\u001b[43m=\u001b[49m\u001b[43mdata\u001b[49m\u001b[43m,\u001b[49m\n\u001b[32m    487\u001b[39m \u001b[43m        \u001b[49m\u001b[43mvariables\u001b[49m\u001b[43m=\u001b[49m\u001b[38;5;28;43mdict\u001b[39;49m\u001b[43m(\u001b[49m\n\u001b[32m    488\u001b[39m \u001b[43m            \u001b[49m\u001b[43mx\u001b[49m\u001b[43m=\u001b[49m\u001b[43mx\u001b[49m\u001b[43m,\u001b[49m\u001b[43m \u001b[49m\u001b[43my\u001b[49m\u001b[43m=\u001b[49m\u001b[43my\u001b[49m\u001b[43m,\u001b[49m\u001b[43m \u001b[49m\u001b[43mhue\u001b[49m\u001b[43m=\u001b[49m\u001b[43mhue\u001b[49m\u001b[43m,\u001b[49m\u001b[43m \u001b[49m\u001b[43msize\u001b[49m\u001b[43m=\u001b[49m\u001b[43msize\u001b[49m\u001b[43m,\u001b[49m\u001b[43m \u001b[49m\u001b[43mstyle\u001b[49m\u001b[43m=\u001b[49m\u001b[43mstyle\u001b[49m\u001b[43m,\u001b[49m\u001b[43m \u001b[49m\u001b[43munits\u001b[49m\u001b[43m=\u001b[49m\u001b[43munits\u001b[49m\u001b[43m,\u001b[49m\u001b[43m \u001b[49m\u001b[43mweight\u001b[49m\u001b[43m=\u001b[49m\u001b[43mweights\u001b[49m\n\u001b[32m    489\u001b[39m \u001b[43m        \u001b[49m\u001b[43m)\u001b[49m\u001b[43m,\u001b[49m\n\u001b[32m    490\u001b[39m \u001b[43m        \u001b[49m\u001b[43mestimator\u001b[49m\u001b[43m=\u001b[49m\u001b[43mestimator\u001b[49m\u001b[43m,\u001b[49m\u001b[43m \u001b[49m\u001b[43mn_boot\u001b[49m\u001b[43m=\u001b[49m\u001b[43mn_boot\u001b[49m\u001b[43m,\u001b[49m\u001b[43m \u001b[49m\u001b[43mseed\u001b[49m\u001b[43m=\u001b[49m\u001b[43mseed\u001b[49m\u001b[43m,\u001b[49m\u001b[43m \u001b[49m\u001b[43merrorbar\u001b[49m\u001b[43m=\u001b[49m\u001b[43merrorbar\u001b[49m\u001b[43m,\u001b[49m\n\u001b[32m    491\u001b[39m \u001b[43m        \u001b[49m\u001b[43msort\u001b[49m\u001b[43m=\u001b[49m\u001b[43msort\u001b[49m\u001b[43m,\u001b[49m\u001b[43m \u001b[49m\u001b[43morient\u001b[49m\u001b[43m=\u001b[49m\u001b[43morient\u001b[49m\u001b[43m,\u001b[49m\u001b[43m \u001b[49m\u001b[43merr_style\u001b[49m\u001b[43m=\u001b[49m\u001b[43merr_style\u001b[49m\u001b[43m,\u001b[49m\u001b[43m \u001b[49m\u001b[43merr_kws\u001b[49m\u001b[43m=\u001b[49m\u001b[43merr_kws\u001b[49m\u001b[43m,\u001b[49m\n\u001b[32m    492\u001b[39m \u001b[43m        \u001b[49m\u001b[43mlegend\u001b[49m\u001b[43m=\u001b[49m\u001b[43mlegend\u001b[49m\u001b[43m,\u001b[49m\n\u001b[32m    493\u001b[39m \u001b[43m    \u001b[49m\u001b[43m)\u001b[49m\n\u001b[32m    495\u001b[39m     p.map_hue(palette=palette, order=hue_order, norm=hue_norm)\n\u001b[32m    496\u001b[39m     p.map_size(sizes=sizes, order=size_order, norm=size_norm)\n",
      "\u001b[36mFile \u001b[39m\u001b[32m~/myenv/lib/python3.11/site-packages/seaborn/relational.py:216\u001b[39m, in \u001b[36m_LinePlotter.__init__\u001b[39m\u001b[34m(self, data, variables, estimator, n_boot, seed, errorbar, sort, orient, err_style, err_kws, legend)\u001b[39m\n\u001b[32m    202\u001b[39m \u001b[38;5;28;01mdef\u001b[39;00m\u001b[38;5;250m \u001b[39m\u001b[34m__init__\u001b[39m(\n\u001b[32m    203\u001b[39m     \u001b[38;5;28mself\u001b[39m, *,\n\u001b[32m    204\u001b[39m     data=\u001b[38;5;28;01mNone\u001b[39;00m, variables={},\n\u001b[32m   (...)\u001b[39m\u001b[32m    210\u001b[39m     \u001b[38;5;66;03m# the kind of plot to draw, but for the time being we need to set\u001b[39;00m\n\u001b[32m    211\u001b[39m     \u001b[38;5;66;03m# this information so the SizeMapping can use it\u001b[39;00m\n\u001b[32m    212\u001b[39m     \u001b[38;5;28mself\u001b[39m._default_size_range = (\n\u001b[32m    213\u001b[39m         np.r_[\u001b[32m.5\u001b[39m, \u001b[32m2\u001b[39m] * mpl.rcParams[\u001b[33m\"\u001b[39m\u001b[33mlines.linewidth\u001b[39m\u001b[33m\"\u001b[39m]\n\u001b[32m    214\u001b[39m     )\n\u001b[32m--> \u001b[39m\u001b[32m216\u001b[39m     \u001b[38;5;28;43msuper\u001b[39;49m\u001b[43m(\u001b[49m\u001b[43m)\u001b[49m\u001b[43m.\u001b[49m\u001b[34;43m__init__\u001b[39;49m\u001b[43m(\u001b[49m\u001b[43mdata\u001b[49m\u001b[43m=\u001b[49m\u001b[43mdata\u001b[49m\u001b[43m,\u001b[49m\u001b[43m \u001b[49m\u001b[43mvariables\u001b[49m\u001b[43m=\u001b[49m\u001b[43mvariables\u001b[49m\u001b[43m)\u001b[49m\n\u001b[32m    218\u001b[39m     \u001b[38;5;28mself\u001b[39m.estimator = estimator\n\u001b[32m    219\u001b[39m     \u001b[38;5;28mself\u001b[39m.errorbar = errorbar\n",
      "\u001b[36mFile \u001b[39m\u001b[32m~/myenv/lib/python3.11/site-packages/seaborn/_base.py:634\u001b[39m, in \u001b[36mVectorPlotter.__init__\u001b[39m\u001b[34m(self, data, variables)\u001b[39m\n\u001b[32m    629\u001b[39m \u001b[38;5;66;03m# var_ordered is relevant only for categorical axis variables, and may\u001b[39;00m\n\u001b[32m    630\u001b[39m \u001b[38;5;66;03m# be better handled by an internal axis information object that tracks\u001b[39;00m\n\u001b[32m    631\u001b[39m \u001b[38;5;66;03m# such information and is set up by the scale_* methods. The analogous\u001b[39;00m\n\u001b[32m    632\u001b[39m \u001b[38;5;66;03m# information for numeric axes would be information about log scales.\u001b[39;00m\n\u001b[32m    633\u001b[39m \u001b[38;5;28mself\u001b[39m._var_ordered = {\u001b[33m\"\u001b[39m\u001b[33mx\u001b[39m\u001b[33m\"\u001b[39m: \u001b[38;5;28;01mFalse\u001b[39;00m, \u001b[33m\"\u001b[39m\u001b[33my\u001b[39m\u001b[33m\"\u001b[39m: \u001b[38;5;28;01mFalse\u001b[39;00m}  \u001b[38;5;66;03m# alt., used DefaultDict\u001b[39;00m\n\u001b[32m--> \u001b[39m\u001b[32m634\u001b[39m \u001b[38;5;28;43mself\u001b[39;49m\u001b[43m.\u001b[49m\u001b[43massign_variables\u001b[49m\u001b[43m(\u001b[49m\u001b[43mdata\u001b[49m\u001b[43m,\u001b[49m\u001b[43m \u001b[49m\u001b[43mvariables\u001b[49m\u001b[43m)\u001b[49m\n\u001b[32m    636\u001b[39m \u001b[38;5;66;03m# TODO Lots of tests assume that these are called to initialize the\u001b[39;00m\n\u001b[32m    637\u001b[39m \u001b[38;5;66;03m# mappings to default values on class initialization. I'd prefer to\u001b[39;00m\n\u001b[32m    638\u001b[39m \u001b[38;5;66;03m# move away from that and only have a mapping when explicitly called.\u001b[39;00m\n\u001b[32m    639\u001b[39m \u001b[38;5;28;01mfor\u001b[39;00m var \u001b[38;5;129;01min\u001b[39;00m [\u001b[33m\"\u001b[39m\u001b[33mhue\u001b[39m\u001b[33m\"\u001b[39m, \u001b[33m\"\u001b[39m\u001b[33msize\u001b[39m\u001b[33m\"\u001b[39m, \u001b[33m\"\u001b[39m\u001b[33mstyle\u001b[39m\u001b[33m\"\u001b[39m]:\n",
      "\u001b[36mFile \u001b[39m\u001b[32m~/myenv/lib/python3.11/site-packages/seaborn/_base.py:679\u001b[39m, in \u001b[36mVectorPlotter.assign_variables\u001b[39m\u001b[34m(self, data, variables)\u001b[39m\n\u001b[32m    674\u001b[39m \u001b[38;5;28;01melse\u001b[39;00m:\n\u001b[32m    675\u001b[39m     \u001b[38;5;66;03m# When dealing with long-form input, use the newer PlotData\u001b[39;00m\n\u001b[32m    676\u001b[39m     \u001b[38;5;66;03m# object (internal but introduced for the objects interface)\u001b[39;00m\n\u001b[32m    677\u001b[39m     \u001b[38;5;66;03m# to centralize / standardize data consumption logic.\u001b[39;00m\n\u001b[32m    678\u001b[39m     \u001b[38;5;28mself\u001b[39m.input_format = \u001b[33m\"\u001b[39m\u001b[33mlong\u001b[39m\u001b[33m\"\u001b[39m\n\u001b[32m--> \u001b[39m\u001b[32m679\u001b[39m     plot_data = \u001b[43mPlotData\u001b[49m\u001b[43m(\u001b[49m\u001b[43mdata\u001b[49m\u001b[43m,\u001b[49m\u001b[43m \u001b[49m\u001b[43mvariables\u001b[49m\u001b[43m)\u001b[49m\n\u001b[32m    680\u001b[39m     frame = plot_data.frame\n\u001b[32m    681\u001b[39m     names = plot_data.names\n",
      "\u001b[36mFile \u001b[39m\u001b[32m~/myenv/lib/python3.11/site-packages/seaborn/_core/data.py:58\u001b[39m, in \u001b[36mPlotData.__init__\u001b[39m\u001b[34m(self, data, variables)\u001b[39m\n\u001b[32m     51\u001b[39m \u001b[38;5;28;01mdef\u001b[39;00m\u001b[38;5;250m \u001b[39m\u001b[34m__init__\u001b[39m(\n\u001b[32m     52\u001b[39m     \u001b[38;5;28mself\u001b[39m,\n\u001b[32m     53\u001b[39m     data: DataSource,\n\u001b[32m     54\u001b[39m     variables: \u001b[38;5;28mdict\u001b[39m[\u001b[38;5;28mstr\u001b[39m, VariableSpec],\n\u001b[32m     55\u001b[39m ):\n\u001b[32m     57\u001b[39m     data = handle_data_source(data)\n\u001b[32m---> \u001b[39m\u001b[32m58\u001b[39m     frame, names, ids = \u001b[38;5;28;43mself\u001b[39;49m\u001b[43m.\u001b[49m\u001b[43m_assign_variables\u001b[49m\u001b[43m(\u001b[49m\u001b[43mdata\u001b[49m\u001b[43m,\u001b[49m\u001b[43m \u001b[49m\u001b[43mvariables\u001b[49m\u001b[43m)\u001b[49m\n\u001b[32m     60\u001b[39m     \u001b[38;5;28mself\u001b[39m.frame = frame\n\u001b[32m     61\u001b[39m     \u001b[38;5;28mself\u001b[39m.names = names\n",
      "\u001b[36mFile \u001b[39m\u001b[32m~/myenv/lib/python3.11/site-packages/seaborn/_core/data.py:232\u001b[39m, in \u001b[36mPlotData._assign_variables\u001b[39m\u001b[34m(self, data, variables)\u001b[39m\n\u001b[32m    230\u001b[39m     \u001b[38;5;28;01melse\u001b[39;00m:\n\u001b[32m    231\u001b[39m         err += \u001b[33m\"\u001b[39m\u001b[33mAn entry with this name does not appear in `data`.\u001b[39m\u001b[33m\"\u001b[39m\n\u001b[32m--> \u001b[39m\u001b[32m232\u001b[39m     \u001b[38;5;28;01mraise\u001b[39;00m \u001b[38;5;167;01mValueError\u001b[39;00m(err)\n\u001b[32m    234\u001b[39m \u001b[38;5;28;01melse\u001b[39;00m:\n\u001b[32m    235\u001b[39m \n\u001b[32m    236\u001b[39m     \u001b[38;5;66;03m# Otherwise, assume the value somehow represents data\u001b[39;00m\n\u001b[32m    237\u001b[39m \n\u001b[32m    238\u001b[39m     \u001b[38;5;66;03m# Ignore empty data structures\u001b[39;00m\n\u001b[32m    239\u001b[39m     \u001b[38;5;28;01mif\u001b[39;00m \u001b[38;5;28misinstance\u001b[39m(val, Sized) \u001b[38;5;129;01mand\u001b[39;00m \u001b[38;5;28mlen\u001b[39m(val) == \u001b[32m0\u001b[39m:\n",
      "\u001b[31mValueError\u001b[39m: Could not interpret value `horizon_k` for `x`. An entry with this name does not appear in `data`."
     ]
    },
    {
     "data": {
      "text/plain": [
       "<Figure size 1200x600 with 0 Axes>"
      ]
     },
     "metadata": {},
     "output_type": "display_data"
    }
   ],
   "source": [
    "\n",
    "# results_df.to_csv(\"./outputs/fi2010_model_results.csv\", index=False)\n",
    "\n",
    "# Plot example: Accuracy\n",
    "plt.figure(figsize=(12, 6))\n",
    "sns.lineplot(data=results_df, x=\"horizon_k\", y=\"accuracy\", hue=\"model\", style=\"normalization\", markers=True)\n",
    "plt.title(\"Accuracy across Horizons (FI-2010)\")\n",
    "plt.grid(True)\n",
    "plt.tight_layout()\n",
    "plt.show()\n"
   ]
  },
  {
   "cell_type": "code",
   "execution_count": null,
   "id": "0ce23ef1-537d-406b-bd78-aa03f867fb19",
   "metadata": {},
   "outputs": [],
   "source": []
  },
  {
   "cell_type": "code",
   "execution_count": null,
   "id": "a19d2564-9b1a-4504-8afe-e61ebe19b0f9",
   "metadata": {},
   "outputs": [],
   "source": []
  },
  {
   "cell_type": "code",
   "execution_count": null,
   "id": "f87e5380-aa63-4e88-8249-80a7542c2923",
   "metadata": {},
   "outputs": [],
   "source": []
  },
  {
   "cell_type": "code",
   "execution_count": null,
   "id": "c4aa8a18-b82a-4e4d-a926-0b03df56bdb3",
   "metadata": {},
   "outputs": [],
   "source": []
  },
  {
   "cell_type": "code",
   "execution_count": null,
   "id": "6b128ade-9cc1-4d5b-a7c1-abc129d3ae82",
   "metadata": {},
   "outputs": [],
   "source": []
  },
  {
   "cell_type": "code",
   "execution_count": null,
   "id": "74b45fd2-34b1-44c1-9f2b-25393bb238de",
   "metadata": {},
   "outputs": [],
   "source": []
  },
  {
   "cell_type": "code",
   "execution_count": null,
   "id": "6b4c9bce-c416-414f-81ec-bde77bbe8a48",
   "metadata": {},
   "outputs": [],
   "source": []
  },
  {
   "cell_type": "code",
   "execution_count": null,
   "id": "0c6de619-0b22-4988-8f2c-d51aaab3a756",
   "metadata": {},
   "outputs": [],
   "source": []
  },
  {
   "cell_type": "code",
   "execution_count": null,
   "id": "04cf4a3e-c130-4b50-803e-f311d9d29b38",
   "metadata": {},
   "outputs": [],
   "source": []
  },
  {
   "cell_type": "code",
   "execution_count": null,
   "id": "2be0e673-89d6-4a6c-af9f-7456cc707939",
   "metadata": {},
   "outputs": [],
   "source": []
  },
  {
   "cell_type": "code",
   "execution_count": null,
   "id": "2687b027-d37e-4c07-8e40-d91cf1fc8a7f",
   "metadata": {},
   "outputs": [],
   "source": []
  },
  {
   "cell_type": "code",
   "execution_count": null,
   "id": "6f4312c9-4dbe-40ce-b3a1-f458d27cab5d",
   "metadata": {},
   "outputs": [],
   "source": []
  },
  {
   "cell_type": "code",
   "execution_count": null,
   "id": "23319dd4-2fd4-4578-b81f-38c894708c47",
   "metadata": {},
   "outputs": [],
   "source": []
  },
  {
   "cell_type": "code",
   "execution_count": null,
   "id": "ecc5a6d8-a070-4fcf-9667-3846481613bb",
   "metadata": {},
   "outputs": [],
   "source": []
  },
  {
   "cell_type": "code",
   "execution_count": null,
   "id": "2c08f6e3-2631-4cd0-9f0f-f279886f4be1",
   "metadata": {},
   "outputs": [],
   "source": []
  },
  {
   "cell_type": "code",
   "execution_count": null,
   "id": "fd9958e8-9e25-4f67-a2b9-b131f5377e97",
   "metadata": {},
   "outputs": [],
   "source": []
  },
  {
   "cell_type": "code",
   "execution_count": null,
   "id": "c4b6896e-b0dc-436d-b3f4-66dc153ac9df",
   "metadata": {},
   "outputs": [],
   "source": []
  },
  {
   "cell_type": "code",
   "execution_count": null,
   "id": "a862e39e-3a64-44f6-94f4-61da8d6066ef",
   "metadata": {},
   "outputs": [],
   "source": []
  },
  {
   "cell_type": "code",
   "execution_count": null,
   "id": "09103605-cf3e-42f8-a10f-3190933d2935",
   "metadata": {},
   "outputs": [],
   "source": []
  },
  {
   "cell_type": "code",
   "execution_count": null,
   "id": "97386354-d64d-4b6f-872b-50b5a66d39f6",
   "metadata": {},
   "outputs": [],
   "source": []
  },
  {
   "cell_type": "code",
   "execution_count": null,
   "id": "6aebe09b-7ace-40b7-8b1a-8b23c6ca419c",
   "metadata": {},
   "outputs": [],
   "source": []
  },
  {
   "cell_type": "code",
   "execution_count": null,
   "id": "6d9a1bec-b82c-4832-a4ef-4e1c587065e2",
   "metadata": {},
   "outputs": [],
   "source": []
  },
  {
   "cell_type": "code",
   "execution_count": null,
   "id": "a3b3760c-f74b-4966-ac2b-ee1b5909b6a7",
   "metadata": {},
   "outputs": [],
   "source": []
  },
  {
   "cell_type": "code",
   "execution_count": null,
   "id": "b916e92d-e3e5-4f39-87ee-e2fc45aa6059",
   "metadata": {},
   "outputs": [],
   "source": []
  },
  {
   "cell_type": "code",
   "execution_count": null,
   "id": "e0b0d3dd-1bea-42f2-8b5d-360f872160c1",
   "metadata": {},
   "outputs": [],
   "source": []
  },
  {
   "cell_type": "code",
   "execution_count": null,
   "id": "ee72931e-a877-4a52-843f-3eea1c51e45f",
   "metadata": {},
   "outputs": [],
   "source": []
  },
  {
   "cell_type": "code",
   "execution_count": null,
   "id": "c156355a-8be5-474a-96f1-68c0f0ec5296",
   "metadata": {},
   "outputs": [],
   "source": []
  },
  {
   "cell_type": "code",
   "execution_count": null,
   "id": "72240a46-7e2b-47eb-9d84-8a82136de18e",
   "metadata": {},
   "outputs": [],
   "source": []
  },
  {
   "cell_type": "code",
   "execution_count": null,
   "id": "bf1fa122-efb5-45c2-b6e1-e6d8754e81de",
   "metadata": {},
   "outputs": [],
   "source": []
  }
 ],
 "metadata": {
  "kernelspec": {
   "display_name": "Python 3 (ipykernel)",
   "language": "python",
   "name": "python3"
  },
  "language_info": {
   "codemirror_mode": {
    "name": "ipython",
    "version": 3
   },
   "file_extension": ".py",
   "mimetype": "text/x-python",
   "name": "python",
   "nbconvert_exporter": "python",
   "pygments_lexer": "ipython3",
   "version": "3.11.2"
  }
 },
 "nbformat": 4,
 "nbformat_minor": 5
}
