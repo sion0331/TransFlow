{
 "cells": [
  {
   "cell_type": "code",
   "execution_count": 1,
   "id": "58c9875c-6e65-41ca-aeca-504d8559cd39",
   "metadata": {},
   "outputs": [],
   "source": [
    "import os\n",
    "import torch\n",
    "import numpy as np\n",
    "import pandas as pd\n",
    "import matplotlib.pyplot as plt\n",
    "import seaborn as sns\n",
    "\n",
    "from sklearn.metrics import accuracy_score, precision_score, recall_score, f1_score\n",
    "from torch.utils.data import DataLoader\n",
    "from models.deepLOB.deepLOB_model import Deeplob\n",
    "from models.transLOB.transLOB_model import TransLOB\n",
    "\n",
    "from utils.fi2010_loader import Dataset_fi2010"
   ]
  },
  {
   "cell_type": "code",
   "execution_count": 2,
   "id": "d3fc2f91-d18b-4f82-a777-41d3a0935087",
   "metadata": {},
   "outputs": [],
   "source": [
    "model_names = [\"deeplob\", \"translob\"]\n",
    "normalizations = [\"Zscore\", \"DecPre\", \"MinMax\"]\n",
    "horizons = [0, 1, 2, 3, 4]\n",
    "dataset_type = \"fi2010\"\n",
    "device = torch.device(\"cuda\" if torch.cuda.is_available() else \"cpu\")"
   ]
  },
  {
   "cell_type": "code",
   "execution_count": 3,
   "id": "add64193-c23e-487e-be65-57273b7b8507",
   "metadata": {},
   "outputs": [],
   "source": [
    "\n",
    "# Dummy mapping from model name to constructor (replace with actual imports)\n",
    "def get_model_class(name):\n",
    "    if name == \"deeplob\":\n",
    "        return Deeplob\n",
    "    elif name == \"translob\":\n",
    "        return TransLOB\n",
    "    else:\n",
    "        raise ValueError(\"Unknown model name\")\n",
    "\n",
    "# Dummy function to create test_loader (you must implement this)\n",
    "def create_test_loader(model_name, normalization, k):\n",
    "    from utils.fi2010_loader import Dataset_fi2010\n",
    "    stock = [0]#, 1, 2, 3, 4]\n",
    "    days = [8, 9, 10]\n",
    "    T = 100\n",
    "    unsqueeze = True if model_name==\"deeplob\" else False\n",
    "    dataset_test = Dataset_fi2010(False, normalization, stock, days, T, k, unsqueeze, False)\n",
    "    return DataLoader(dataset=dataset_test, batch_size=128, shuffle=False, num_workers=4)\n",
    "    # return dataset_test\n",
    "    # return torch.utils.data.DataLoader(dataset_test, batch_size=128, shuffle=False, num_workers=4)\n",
    "\n",
    "# Evaluation logic\n",
    "def evaluate_model(model_class, model_name, normalization, k, test_loader):\n",
    "    path = f\"./outputs/{dataset_type}/{model_name}_{normalization}_{k}.pth\"\n",
    "    if not os.path.exists(path):\n",
    "        print(f\"Model not found: {path}, skipping...\")\n",
    "        return {\n",
    "            \"accuracy\": np.nan,\n",
    "            \"f1\": np.nan,\n",
    "            \"precision\": np.nan,\n",
    "            \"recall\": np.nan\n",
    "        }\n",
    "\n",
    "    model = model_class()\n",
    "    model.load_state_dict(torch.load(path, map_location=device))\n",
    "    model.to(device)\n",
    "    model.eval()\n",
    "\n",
    "    all_y_true, all_y_pred = [], []\n",
    "\n",
    "    with torch.no_grad():\n",
    "        for X_batch, y_batch in test_loader:\n",
    "            X_batch, y_batch = X_batch.to(device), y_batch.to(device)\n",
    "            outputs = model(X_batch)\n",
    "            preds = outputs.argmax(dim=1)\n",
    "            all_y_true.append(y_batch.cpu().numpy())\n",
    "            all_y_pred.append(preds.cpu().numpy())\n",
    "\n",
    "    y_true = np.concatenate(all_y_true)\n",
    "    y_pred = np.concatenate(all_y_pred)\n",
    "\n",
    "    return {\n",
    "        \"accuracy\": accuracy_score(y_true, y_pred),\n",
    "        \"f1\": f1_score(y_true, y_pred, average=\"macro\"),\n",
    "        \"precision\": precision_score(y_true, y_pred, average=\"macro\"),\n",
    "        \"recall\": recall_score(y_true, y_pred, average=\"macro\"),\n",
    "    }"
   ]
  },
  {
   "cell_type": "code",
   "execution_count": 4,
   "id": "c799d0c3-5637-4616-8c3f-71b29d702489",
   "metadata": {},
   "outputs": [
    {
     "name": "stdout",
     "output_type": "stream",
     "text": [
      "Evaluating deeplob | Zscore | k=0\n",
      "Evaluating deeplob | Zscore | k=1\n",
      "Evaluating deeplob | Zscore | k=2\n",
      "Evaluating deeplob | Zscore | k=3\n",
      "Evaluating deeplob | Zscore | k=4\n",
      "Evaluating deeplob | DecPre | k=0\n",
      "Evaluating deeplob | DecPre | k=1\n",
      "Evaluating deeplob | DecPre | k=2\n",
      "Evaluating deeplob | DecPre | k=3\n",
      "Evaluating deeplob | DecPre | k=4\n",
      "Evaluating deeplob | MinMax | k=0\n",
      "Evaluating deeplob | MinMax | k=1\n",
      "Evaluating deeplob | MinMax | k=2\n",
      "Evaluating deeplob | MinMax | k=3\n",
      "Evaluating deeplob | MinMax | k=4\n",
      "Evaluating translob | Zscore | k=0\n"
     ]
    },
    {
     "name": "stderr",
     "output_type": "stream",
     "text": [
      "/home/sc3791/myenv/lib/python3.11/site-packages/sklearn/metrics/_classification.py:1565: UndefinedMetricWarning: Precision is ill-defined and being set to 0.0 in labels with no predicted samples. Use `zero_division` parameter to control this behavior.\n",
      "  _warn_prf(average, modifier, f\"{metric.capitalize()} is\", len(result))\n"
     ]
    },
    {
     "name": "stdout",
     "output_type": "stream",
     "text": [
      "Evaluating translob | Zscore | k=1\n"
     ]
    },
    {
     "name": "stderr",
     "output_type": "stream",
     "text": [
      "/home/sc3791/myenv/lib/python3.11/site-packages/sklearn/metrics/_classification.py:1565: UndefinedMetricWarning: Precision is ill-defined and being set to 0.0 in labels with no predicted samples. Use `zero_division` parameter to control this behavior.\n",
      "  _warn_prf(average, modifier, f\"{metric.capitalize()} is\", len(result))\n"
     ]
    },
    {
     "name": "stdout",
     "output_type": "stream",
     "text": [
      "Evaluating translob | Zscore | k=2\n"
     ]
    },
    {
     "name": "stderr",
     "output_type": "stream",
     "text": [
      "/home/sc3791/myenv/lib/python3.11/site-packages/sklearn/metrics/_classification.py:1565: UndefinedMetricWarning: Precision is ill-defined and being set to 0.0 in labels with no predicted samples. Use `zero_division` parameter to control this behavior.\n",
      "  _warn_prf(average, modifier, f\"{metric.capitalize()} is\", len(result))\n"
     ]
    },
    {
     "name": "stdout",
     "output_type": "stream",
     "text": [
      "Evaluating translob | Zscore | k=3\n"
     ]
    },
    {
     "name": "stderr",
     "output_type": "stream",
     "text": [
      "/home/sc3791/myenv/lib/python3.11/site-packages/sklearn/metrics/_classification.py:1565: UndefinedMetricWarning: Precision is ill-defined and being set to 0.0 in labels with no predicted samples. Use `zero_division` parameter to control this behavior.\n",
      "  _warn_prf(average, modifier, f\"{metric.capitalize()} is\", len(result))\n"
     ]
    },
    {
     "name": "stdout",
     "output_type": "stream",
     "text": [
      "Evaluating translob | Zscore | k=4\n"
     ]
    },
    {
     "name": "stderr",
     "output_type": "stream",
     "text": [
      "/home/sc3791/myenv/lib/python3.11/site-packages/sklearn/metrics/_classification.py:1565: UndefinedMetricWarning: Precision is ill-defined and being set to 0.0 in labels with no predicted samples. Use `zero_division` parameter to control this behavior.\n",
      "  _warn_prf(average, modifier, f\"{metric.capitalize()} is\", len(result))\n"
     ]
    },
    {
     "name": "stdout",
     "output_type": "stream",
     "text": [
      "Evaluating translob | DecPre | k=0\n"
     ]
    },
    {
     "name": "stderr",
     "output_type": "stream",
     "text": [
      "/home/sc3791/myenv/lib/python3.11/site-packages/sklearn/metrics/_classification.py:1565: UndefinedMetricWarning: Precision is ill-defined and being set to 0.0 in labels with no predicted samples. Use `zero_division` parameter to control this behavior.\n",
      "  _warn_prf(average, modifier, f\"{metric.capitalize()} is\", len(result))\n"
     ]
    },
    {
     "name": "stdout",
     "output_type": "stream",
     "text": [
      "Evaluating translob | DecPre | k=1\n"
     ]
    },
    {
     "name": "stderr",
     "output_type": "stream",
     "text": [
      "/home/sc3791/myenv/lib/python3.11/site-packages/sklearn/metrics/_classification.py:1565: UndefinedMetricWarning: Precision is ill-defined and being set to 0.0 in labels with no predicted samples. Use `zero_division` parameter to control this behavior.\n",
      "  _warn_prf(average, modifier, f\"{metric.capitalize()} is\", len(result))\n"
     ]
    },
    {
     "name": "stdout",
     "output_type": "stream",
     "text": [
      "Evaluating translob | DecPre | k=2\n"
     ]
    },
    {
     "name": "stderr",
     "output_type": "stream",
     "text": [
      "/home/sc3791/myenv/lib/python3.11/site-packages/sklearn/metrics/_classification.py:1565: UndefinedMetricWarning: Precision is ill-defined and being set to 0.0 in labels with no predicted samples. Use `zero_division` parameter to control this behavior.\n",
      "  _warn_prf(average, modifier, f\"{metric.capitalize()} is\", len(result))\n"
     ]
    },
    {
     "name": "stdout",
     "output_type": "stream",
     "text": [
      "Evaluating translob | DecPre | k=3\n"
     ]
    },
    {
     "name": "stderr",
     "output_type": "stream",
     "text": [
      "/home/sc3791/myenv/lib/python3.11/site-packages/sklearn/metrics/_classification.py:1565: UndefinedMetricWarning: Precision is ill-defined and being set to 0.0 in labels with no predicted samples. Use `zero_division` parameter to control this behavior.\n",
      "  _warn_prf(average, modifier, f\"{metric.capitalize()} is\", len(result))\n"
     ]
    },
    {
     "name": "stdout",
     "output_type": "stream",
     "text": [
      "Evaluating translob | DecPre | k=4\n"
     ]
    },
    {
     "name": "stderr",
     "output_type": "stream",
     "text": [
      "/home/sc3791/myenv/lib/python3.11/site-packages/sklearn/metrics/_classification.py:1565: UndefinedMetricWarning: Precision is ill-defined and being set to 0.0 in labels with no predicted samples. Use `zero_division` parameter to control this behavior.\n",
      "  _warn_prf(average, modifier, f\"{metric.capitalize()} is\", len(result))\n"
     ]
    },
    {
     "name": "stdout",
     "output_type": "stream",
     "text": [
      "Evaluating translob | MinMax | k=0\n"
     ]
    },
    {
     "name": "stderr",
     "output_type": "stream",
     "text": [
      "/home/sc3791/myenv/lib/python3.11/site-packages/sklearn/metrics/_classification.py:1565: UndefinedMetricWarning: Precision is ill-defined and being set to 0.0 in labels with no predicted samples. Use `zero_division` parameter to control this behavior.\n",
      "  _warn_prf(average, modifier, f\"{metric.capitalize()} is\", len(result))\n"
     ]
    },
    {
     "name": "stdout",
     "output_type": "stream",
     "text": [
      "Evaluating translob | MinMax | k=1\n"
     ]
    },
    {
     "name": "stderr",
     "output_type": "stream",
     "text": [
      "/home/sc3791/myenv/lib/python3.11/site-packages/sklearn/metrics/_classification.py:1565: UndefinedMetricWarning: Precision is ill-defined and being set to 0.0 in labels with no predicted samples. Use `zero_division` parameter to control this behavior.\n",
      "  _warn_prf(average, modifier, f\"{metric.capitalize()} is\", len(result))\n"
     ]
    },
    {
     "name": "stdout",
     "output_type": "stream",
     "text": [
      "Evaluating translob | MinMax | k=2\n"
     ]
    },
    {
     "name": "stderr",
     "output_type": "stream",
     "text": [
      "/home/sc3791/myenv/lib/python3.11/site-packages/sklearn/metrics/_classification.py:1565: UndefinedMetricWarning: Precision is ill-defined and being set to 0.0 in labels with no predicted samples. Use `zero_division` parameter to control this behavior.\n",
      "  _warn_prf(average, modifier, f\"{metric.capitalize()} is\", len(result))\n"
     ]
    },
    {
     "name": "stdout",
     "output_type": "stream",
     "text": [
      "Evaluating translob | MinMax | k=3\n"
     ]
    },
    {
     "name": "stderr",
     "output_type": "stream",
     "text": [
      "/home/sc3791/myenv/lib/python3.11/site-packages/sklearn/metrics/_classification.py:1565: UndefinedMetricWarning: Precision is ill-defined and being set to 0.0 in labels with no predicted samples. Use `zero_division` parameter to control this behavior.\n",
      "  _warn_prf(average, modifier, f\"{metric.capitalize()} is\", len(result))\n"
     ]
    },
    {
     "name": "stdout",
     "output_type": "stream",
     "text": [
      "Evaluating translob | MinMax | k=4\n"
     ]
    },
    {
     "name": "stderr",
     "output_type": "stream",
     "text": [
      "/home/sc3791/myenv/lib/python3.11/site-packages/sklearn/metrics/_classification.py:1565: UndefinedMetricWarning: Precision is ill-defined and being set to 0.0 in labels with no predicted samples. Use `zero_division` parameter to control this behavior.\n",
      "  _warn_prf(average, modifier, f\"{metric.capitalize()} is\", len(result))\n"
     ]
    }
   ],
   "source": [
    "results = []\n",
    "\n",
    "for model_name in model_names:\n",
    "    for normalization in normalizations:\n",
    "        for k in horizons:\n",
    "            print(f\"Evaluating {model_name} | {normalization} | k={k}\")\n",
    "            test_loader = create_test_loader(model_name, normalization, k)\n",
    "            model_class = get_model_class(model_name)\n",
    "            metrics = evaluate_model(model_class, model_name, normalization, k, test_loader)\n",
    "\n",
    "            results.append({\n",
    "                \"model\": model_name,\n",
    "                \"normalization\": normalization,\n",
    "                \"horizon_k\": k,\n",
    "                **metrics\n",
    "            })\n",
    "            # print(results)"
   ]
  },
  {
   "cell_type": "code",
   "execution_count": 5,
   "id": "987efcbf-5af3-4eda-bc89-6bf8b6e7fac2",
   "metadata": {},
   "outputs": [
    {
     "data": {
      "text/html": [
       "<div>\n",
       "<style scoped>\n",
       "    .dataframe tbody tr th:only-of-type {\n",
       "        vertical-align: middle;\n",
       "    }\n",
       "\n",
       "    .dataframe tbody tr th {\n",
       "        vertical-align: top;\n",
       "    }\n",
       "\n",
       "    .dataframe thead th {\n",
       "        text-align: right;\n",
       "    }\n",
       "</style>\n",
       "<table border=\"1\" class=\"dataframe\">\n",
       "  <thead>\n",
       "    <tr style=\"text-align: right;\">\n",
       "      <th></th>\n",
       "      <th>model</th>\n",
       "      <th>normalization</th>\n",
       "      <th>horizon_k</th>\n",
       "      <th>accuracy</th>\n",
       "      <th>f1</th>\n",
       "      <th>precision</th>\n",
       "      <th>recall</th>\n",
       "    </tr>\n",
       "  </thead>\n",
       "  <tbody>\n",
       "    <tr>\n",
       "      <th>0</th>\n",
       "      <td>deeplob</td>\n",
       "      <td>Zscore</td>\n",
       "      <td>0</td>\n",
       "      <td>0.342497</td>\n",
       "      <td>0.324411</td>\n",
       "      <td>0.343506</td>\n",
       "      <td>0.340113</td>\n",
       "    </tr>\n",
       "    <tr>\n",
       "      <th>1</th>\n",
       "      <td>deeplob</td>\n",
       "      <td>Zscore</td>\n",
       "      <td>1</td>\n",
       "      <td>0.355916</td>\n",
       "      <td>0.333035</td>\n",
       "      <td>0.337703</td>\n",
       "      <td>0.338340</td>\n",
       "    </tr>\n",
       "    <tr>\n",
       "      <th>2</th>\n",
       "      <td>deeplob</td>\n",
       "      <td>Zscore</td>\n",
       "      <td>2</td>\n",
       "      <td>0.420062</td>\n",
       "      <td>0.312645</td>\n",
       "      <td>0.343853</td>\n",
       "      <td>0.342396</td>\n",
       "    </tr>\n",
       "    <tr>\n",
       "      <th>3</th>\n",
       "      <td>deeplob</td>\n",
       "      <td>Zscore</td>\n",
       "      <td>3</td>\n",
       "      <td>0.449517</td>\n",
       "      <td>0.336818</td>\n",
       "      <td>0.336599</td>\n",
       "      <td>0.345959</td>\n",
       "    </tr>\n",
       "    <tr>\n",
       "      <th>4</th>\n",
       "      <td>deeplob</td>\n",
       "      <td>Zscore</td>\n",
       "      <td>4</td>\n",
       "      <td>0.553592</td>\n",
       "      <td>0.384432</td>\n",
       "      <td>0.592143</td>\n",
       "      <td>0.396247</td>\n",
       "    </tr>\n",
       "    <tr>\n",
       "      <th>5</th>\n",
       "      <td>deeplob</td>\n",
       "      <td>DecPre</td>\n",
       "      <td>0</td>\n",
       "      <td>0.357225</td>\n",
       "      <td>0.343122</td>\n",
       "      <td>0.352391</td>\n",
       "      <td>0.356834</td>\n",
       "    </tr>\n",
       "    <tr>\n",
       "      <th>6</th>\n",
       "      <td>deeplob</td>\n",
       "      <td>DecPre</td>\n",
       "      <td>1</td>\n",
       "      <td>0.378989</td>\n",
       "      <td>0.345958</td>\n",
       "      <td>0.361907</td>\n",
       "      <td>0.349963</td>\n",
       "    </tr>\n",
       "    <tr>\n",
       "      <th>7</th>\n",
       "      <td>deeplob</td>\n",
       "      <td>DecPre</td>\n",
       "      <td>2</td>\n",
       "      <td>0.419899</td>\n",
       "      <td>0.325560</td>\n",
       "      <td>0.378746</td>\n",
       "      <td>0.346225</td>\n",
       "    </tr>\n",
       "    <tr>\n",
       "      <th>8</th>\n",
       "      <td>deeplob</td>\n",
       "      <td>DecPre</td>\n",
       "      <td>3</td>\n",
       "      <td>0.460972</td>\n",
       "      <td>0.339701</td>\n",
       "      <td>0.358231</td>\n",
       "      <td>0.352931</td>\n",
       "    </tr>\n",
       "    <tr>\n",
       "      <th>9</th>\n",
       "      <td>deeplob</td>\n",
       "      <td>DecPre</td>\n",
       "      <td>4</td>\n",
       "      <td>0.516937</td>\n",
       "      <td>0.371038</td>\n",
       "      <td>0.394129</td>\n",
       "      <td>0.375029</td>\n",
       "    </tr>\n",
       "    <tr>\n",
       "      <th>10</th>\n",
       "      <td>deeplob</td>\n",
       "      <td>MinMax</td>\n",
       "      <td>0</td>\n",
       "      <td>0.348388</td>\n",
       "      <td>0.337122</td>\n",
       "      <td>0.341627</td>\n",
       "      <td>0.347115</td>\n",
       "    </tr>\n",
       "    <tr>\n",
       "      <th>11</th>\n",
       "      <td>deeplob</td>\n",
       "      <td>MinMax</td>\n",
       "      <td>1</td>\n",
       "      <td>0.393389</td>\n",
       "      <td>0.356956</td>\n",
       "      <td>0.370747</td>\n",
       "      <td>0.362345</td>\n",
       "    </tr>\n",
       "    <tr>\n",
       "      <th>12</th>\n",
       "      <td>deeplob</td>\n",
       "      <td>MinMax</td>\n",
       "      <td>2</td>\n",
       "      <td>0.406153</td>\n",
       "      <td>0.332732</td>\n",
       "      <td>0.335815</td>\n",
       "      <td>0.341633</td>\n",
       "    </tr>\n",
       "    <tr>\n",
       "      <th>13</th>\n",
       "      <td>deeplob</td>\n",
       "      <td>MinMax</td>\n",
       "      <td>3</td>\n",
       "      <td>0.456226</td>\n",
       "      <td>0.320793</td>\n",
       "      <td>0.320335</td>\n",
       "      <td>0.342054</td>\n",
       "    </tr>\n",
       "    <tr>\n",
       "      <th>14</th>\n",
       "      <td>deeplob</td>\n",
       "      <td>MinMax</td>\n",
       "      <td>4</td>\n",
       "      <td>0.582065</td>\n",
       "      <td>0.391987</td>\n",
       "      <td>0.463948</td>\n",
       "      <td>0.419667</td>\n",
       "    </tr>\n",
       "    <tr>\n",
       "      <th>15</th>\n",
       "      <td>translob</td>\n",
       "      <td>Zscore</td>\n",
       "      <td>0</td>\n",
       "      <td>0.333333</td>\n",
       "      <td>0.166667</td>\n",
       "      <td>0.111111</td>\n",
       "      <td>0.333333</td>\n",
       "    </tr>\n",
       "    <tr>\n",
       "      <th>16</th>\n",
       "      <td>translob</td>\n",
       "      <td>Zscore</td>\n",
       "      <td>1</td>\n",
       "      <td>0.376534</td>\n",
       "      <td>0.182359</td>\n",
       "      <td>0.125511</td>\n",
       "      <td>0.333333</td>\n",
       "    </tr>\n",
       "    <tr>\n",
       "      <th>17</th>\n",
       "      <td>translob</td>\n",
       "      <td>Zscore</td>\n",
       "      <td>2</td>\n",
       "      <td>0.417280</td>\n",
       "      <td>0.277437</td>\n",
       "      <td>0.270005</td>\n",
       "      <td>0.332108</td>\n",
       "    </tr>\n",
       "    <tr>\n",
       "      <th>18</th>\n",
       "      <td>translob</td>\n",
       "      <td>Zscore</td>\n",
       "      <td>3</td>\n",
       "      <td>0.456881</td>\n",
       "      <td>0.209068</td>\n",
       "      <td>0.152294</td>\n",
       "      <td>0.333333</td>\n",
       "    </tr>\n",
       "    <tr>\n",
       "      <th>19</th>\n",
       "      <td>translob</td>\n",
       "      <td>Zscore</td>\n",
       "      <td>4</td>\n",
       "      <td>0.482081</td>\n",
       "      <td>0.216849</td>\n",
       "      <td>0.160694</td>\n",
       "      <td>0.333333</td>\n",
       "    </tr>\n",
       "    <tr>\n",
       "      <th>20</th>\n",
       "      <td>translob</td>\n",
       "      <td>DecPre</td>\n",
       "      <td>0</td>\n",
       "      <td>0.333333</td>\n",
       "      <td>0.166667</td>\n",
       "      <td>0.111111</td>\n",
       "      <td>0.333333</td>\n",
       "    </tr>\n",
       "    <tr>\n",
       "      <th>21</th>\n",
       "      <td>translob</td>\n",
       "      <td>DecPre</td>\n",
       "      <td>1</td>\n",
       "      <td>0.388807</td>\n",
       "      <td>0.186638</td>\n",
       "      <td>0.129602</td>\n",
       "      <td>0.333333</td>\n",
       "    </tr>\n",
       "    <tr>\n",
       "      <th>22</th>\n",
       "      <td>translob</td>\n",
       "      <td>DecPre</td>\n",
       "      <td>2</td>\n",
       "      <td>0.424153</td>\n",
       "      <td>0.198552</td>\n",
       "      <td>0.141384</td>\n",
       "      <td>0.333333</td>\n",
       "    </tr>\n",
       "    <tr>\n",
       "      <th>23</th>\n",
       "      <td>translob</td>\n",
       "      <td>DecPre</td>\n",
       "      <td>3</td>\n",
       "      <td>0.456881</td>\n",
       "      <td>0.209068</td>\n",
       "      <td>0.152294</td>\n",
       "      <td>0.333333</td>\n",
       "    </tr>\n",
       "    <tr>\n",
       "      <th>24</th>\n",
       "      <td>translob</td>\n",
       "      <td>DecPre</td>\n",
       "      <td>4</td>\n",
       "      <td>0.482081</td>\n",
       "      <td>0.216849</td>\n",
       "      <td>0.160694</td>\n",
       "      <td>0.333333</td>\n",
       "    </tr>\n",
       "    <tr>\n",
       "      <th>25</th>\n",
       "      <td>translob</td>\n",
       "      <td>MinMax</td>\n",
       "      <td>0</td>\n",
       "      <td>0.333333</td>\n",
       "      <td>0.166667</td>\n",
       "      <td>0.111111</td>\n",
       "      <td>0.333333</td>\n",
       "    </tr>\n",
       "    <tr>\n",
       "      <th>26</th>\n",
       "      <td>translob</td>\n",
       "      <td>MinMax</td>\n",
       "      <td>1</td>\n",
       "      <td>0.388807</td>\n",
       "      <td>0.186638</td>\n",
       "      <td>0.129602</td>\n",
       "      <td>0.333333</td>\n",
       "    </tr>\n",
       "    <tr>\n",
       "      <th>27</th>\n",
       "      <td>translob</td>\n",
       "      <td>MinMax</td>\n",
       "      <td>2</td>\n",
       "      <td>0.424153</td>\n",
       "      <td>0.198552</td>\n",
       "      <td>0.141384</td>\n",
       "      <td>0.333333</td>\n",
       "    </tr>\n",
       "    <tr>\n",
       "      <th>28</th>\n",
       "      <td>translob</td>\n",
       "      <td>MinMax</td>\n",
       "      <td>3</td>\n",
       "      <td>0.456881</td>\n",
       "      <td>0.209068</td>\n",
       "      <td>0.152294</td>\n",
       "      <td>0.333333</td>\n",
       "    </tr>\n",
       "    <tr>\n",
       "      <th>29</th>\n",
       "      <td>translob</td>\n",
       "      <td>MinMax</td>\n",
       "      <td>4</td>\n",
       "      <td>0.482081</td>\n",
       "      <td>0.216849</td>\n",
       "      <td>0.160694</td>\n",
       "      <td>0.333333</td>\n",
       "    </tr>\n",
       "  </tbody>\n",
       "</table>\n",
       "</div>"
      ],
      "text/plain": [
       "       model normalization  horizon_k  accuracy        f1  precision    recall\n",
       "0    deeplob        Zscore          0  0.342497  0.324411   0.343506  0.340113\n",
       "1    deeplob        Zscore          1  0.355916  0.333035   0.337703  0.338340\n",
       "2    deeplob        Zscore          2  0.420062  0.312645   0.343853  0.342396\n",
       "3    deeplob        Zscore          3  0.449517  0.336818   0.336599  0.345959\n",
       "4    deeplob        Zscore          4  0.553592  0.384432   0.592143  0.396247\n",
       "5    deeplob        DecPre          0  0.357225  0.343122   0.352391  0.356834\n",
       "6    deeplob        DecPre          1  0.378989  0.345958   0.361907  0.349963\n",
       "7    deeplob        DecPre          2  0.419899  0.325560   0.378746  0.346225\n",
       "8    deeplob        DecPre          3  0.460972  0.339701   0.358231  0.352931\n",
       "9    deeplob        DecPre          4  0.516937  0.371038   0.394129  0.375029\n",
       "10   deeplob        MinMax          0  0.348388  0.337122   0.341627  0.347115\n",
       "11   deeplob        MinMax          1  0.393389  0.356956   0.370747  0.362345\n",
       "12   deeplob        MinMax          2  0.406153  0.332732   0.335815  0.341633\n",
       "13   deeplob        MinMax          3  0.456226  0.320793   0.320335  0.342054\n",
       "14   deeplob        MinMax          4  0.582065  0.391987   0.463948  0.419667\n",
       "15  translob        Zscore          0  0.333333  0.166667   0.111111  0.333333\n",
       "16  translob        Zscore          1  0.376534  0.182359   0.125511  0.333333\n",
       "17  translob        Zscore          2  0.417280  0.277437   0.270005  0.332108\n",
       "18  translob        Zscore          3  0.456881  0.209068   0.152294  0.333333\n",
       "19  translob        Zscore          4  0.482081  0.216849   0.160694  0.333333\n",
       "20  translob        DecPre          0  0.333333  0.166667   0.111111  0.333333\n",
       "21  translob        DecPre          1  0.388807  0.186638   0.129602  0.333333\n",
       "22  translob        DecPre          2  0.424153  0.198552   0.141384  0.333333\n",
       "23  translob        DecPre          3  0.456881  0.209068   0.152294  0.333333\n",
       "24  translob        DecPre          4  0.482081  0.216849   0.160694  0.333333\n",
       "25  translob        MinMax          0  0.333333  0.166667   0.111111  0.333333\n",
       "26  translob        MinMax          1  0.388807  0.186638   0.129602  0.333333\n",
       "27  translob        MinMax          2  0.424153  0.198552   0.141384  0.333333\n",
       "28  translob        MinMax          3  0.456881  0.209068   0.152294  0.333333\n",
       "29  translob        MinMax          4  0.482081  0.216849   0.160694  0.333333"
      ]
     },
     "execution_count": 5,
     "metadata": {},
     "output_type": "execute_result"
    }
   ],
   "source": [
    "results_df = pd.DataFrame(results)\n",
    "results_df"
   ]
  },
  {
   "cell_type": "code",
   "execution_count": 6,
   "id": "49b82a80-d75b-4caa-98ed-3af20df25cd5",
   "metadata": {},
   "outputs": [
    {
     "data": {
      "image/png": "[encoded data removed]",
      "text/plain": [
       "<Figure size 1200x600 with 1 Axes>"
      ]
     },
     "metadata": {},
     "output_type": "display_data"
    }
   ],
   "source": [
    "\n",
    "# results_df.to_csv(\"./outputs/fi2010_model_results.csv\", index=False)\n",
    "\n",
    "# Plot example: Accuracy\n",
    "plt.figure(figsize=(12, 6))\n",
    "sns.lineplot(data=results_df, x=\"horizon_k\", y=\"accuracy\", hue=\"model\", style=\"normalization\", markers=True)\n",
    "plt.title(\"Accuracy across Horizons (FI-2010)\")\n",
    "plt.grid(True)\n",
    "plt.tight_layout()\n",
    "plt.show()\n"
   ]
  },
  {
   "cell_type": "code",
   "execution_count": null,
   "id": "0ce23ef1-537d-406b-bd78-aa03f867fb19",
   "metadata": {},
   "outputs": [],
   "source": []
  },
  {
   "cell_type": "code",
   "execution_count": null,
   "id": "a19d2564-9b1a-4504-8afe-e61ebe19b0f9",
   "metadata": {},
   "outputs": [],
   "source": []
  },
  {
   "cell_type": "code",
   "execution_count": null,
   "id": "f87e5380-aa63-4e88-8249-80a7542c2923",
   "metadata": {},
   "outputs": [],
   "source": []
  },
  {
   "cell_type": "code",
   "execution_count": null,
   "id": "c4aa8a18-b82a-4e4d-a926-0b03df56bdb3",
   "metadata": {},
   "outputs": [],
   "source": []
  },
  {
   "cell_type": "code",
   "execution_count": null,
   "id": "6b128ade-9cc1-4d5b-a7c1-abc129d3ae82",
   "metadata": {},
   "outputs": [],
   "source": []
  },
  {
   "cell_type": "code",
   "execution_count": null,
   "id": "74b45fd2-34b1-44c1-9f2b-25393bb238de",
   "metadata": {},
   "outputs": [],
   "source": []
  },
  {
   "cell_type": "code",
   "execution_count": null,
   "id": "6b4c9bce-c416-414f-81ec-bde77bbe8a48",
   "metadata": {},
   "outputs": [],
   "source": []
  },
  {
   "cell_type": "code",
   "execution_count": null,
   "id": "0c6de619-0b22-4988-8f2c-d51aaab3a756",
   "metadata": {},
   "outputs": [],
   "source": []
  },
  {
   "cell_type": "code",
   "execution_count": null,
   "id": "04cf4a3e-c130-4b50-803e-f311d9d29b38",
   "metadata": {},
   "outputs": [],
   "source": []
  },
  {
   "cell_type": "code",
   "execution_count": null,
   "id": "2be0e673-89d6-4a6c-af9f-7456cc707939",
   "metadata": {},
   "outputs": [],
   "source": []
  },
  {
   "cell_type": "code",
   "execution_count": null,
   "id": "2687b027-d37e-4c07-8e40-d91cf1fc8a7f",
   "metadata": {},
   "outputs": [],
   "source": []
  },
  {
   "cell_type": "code",
   "execution_count": null,
   "id": "6f4312c9-4dbe-40ce-b3a1-f458d27cab5d",
   "metadata": {},
   "outputs": [],
   "source": []
  },
  {
   "cell_type": "code",
   "execution_count": null,
   "id": "23319dd4-2fd4-4578-b81f-38c894708c47",
   "metadata": {},
   "outputs": [],
   "source": []
  },
  {
   "cell_type": "code",
   "execution_count": null,
   "id": "ecc5a6d8-a070-4fcf-9667-3846481613bb",
   "metadata": {},
   "outputs": [],
   "source": []
  },
  {
   "cell_type": "code",
   "execution_count": null,
   "id": "2c08f6e3-2631-4cd0-9f0f-f279886f4be1",
   "metadata": {},
   "outputs": [],
   "source": []
  },
  {
   "cell_type": "code",
   "execution_count": null,
   "id": "fd9958e8-9e25-4f67-a2b9-b131f5377e97",
   "metadata": {},
   "outputs": [],
   "source": []
  },
  {
   "cell_type": "code",
   "execution_count": null,
   "id": "c4b6896e-b0dc-436d-b3f4-66dc153ac9df",
   "metadata": {},
   "outputs": [],
   "source": []
  },
  {
   "cell_type": "code",
   "execution_count": null,
   "id": "a862e39e-3a64-44f6-94f4-61da8d6066ef",
   "metadata": {},
   "outputs": [],
   "source": []
  },
  {
   "cell_type": "code",
   "execution_count": null,
   "id": "09103605-cf3e-42f8-a10f-3190933d2935",
   "metadata": {},
   "outputs": [],
   "source": []
  },
  {
   "cell_type": "code",
   "execution_count": null,
   "id": "97386354-d64d-4b6f-872b-50b5a66d39f6",
   "metadata": {},
   "outputs": [],
   "source": []
  },
  {
   "cell_type": "code",
   "execution_count": null,
   "id": "6aebe09b-7ace-40b7-8b1a-8b23c6ca419c",
   "metadata": {},
   "outputs": [],
   "source": []
  },
  {
   "cell_type": "code",
   "execution_count": null,
   "id": "6d9a1bec-b82c-4832-a4ef-4e1c587065e2",
   "metadata": {},
   "outputs": [],
   "source": []
  },
  {
   "cell_type": "code",
   "execution_count": null,
   "id": "a3b3760c-f74b-4966-ac2b-ee1b5909b6a7",
   "metadata": {},
   "outputs": [],
   "source": []
  },
  {
   "cell_type": "code",
   "execution_count": null,
   "id": "b916e92d-e3e5-4f39-87ee-e2fc45aa6059",
   "metadata": {},
   "outputs": [],
   "source": []
  },
  {
   "cell_type": "code",
   "execution_count": null,
   "id": "e0b0d3dd-1bea-42f2-8b5d-360f872160c1",
   "metadata": {},
   "outputs": [],
   "source": []
  },
  {
   "cell_type": "code",
   "execution_count": null,
   "id": "ee72931e-a877-4a52-843f-3eea1c51e45f",
   "metadata": {},
   "outputs": [],
   "source": []
  },
  {
   "cell_type": "code",
   "execution_count": null,
   "id": "c156355a-8be5-474a-96f1-68c0f0ec5296",
   "metadata": {},
   "outputs": [],
   "source": []
  },
  {
   "cell_type": "code",
   "execution_count": null,
   "id": "72240a46-7e2b-47eb-9d84-8a82136de18e",
   "metadata": {},
   "outputs": [],
   "source": []
  },
  {
   "cell_type": "code",
   "execution_count": null,
   "id": "bf1fa122-efb5-45c2-b6e1-e6d8754e81de",
   "metadata": {},
   "outputs": [],
   "source": []
  }
 ],
 "metadata": {
  "kernelspec": {
   "display_name": "Python 3 (ipykernel)",
   "language": "python",
   "name": "python3"
  },
  "language_info": {
   "codemirror_mode": {
    "name": "ipython",
    "version": 3
   },
   "file_extension": ".py",
   "mimetype": "text/x-python",
   "name": "python",
   "nbconvert_exporter": "python",
   "pygments_lexer": "ipython3",
   "version": "3.11.2"
  }
 },
 "nbformat": 4,
 "nbformat_minor": 5
}
